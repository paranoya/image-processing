{
 "cells": [
  {
   "cell_type": "markdown",
   "id": "e6589599",
   "metadata": {},
   "source": [
    "# GARLIC demo\n",
    "\n",
    "General-purpose Adaptive Richardson-Lucy Image Characterisation"
   ]
  },
  {
   "cell_type": "markdown",
   "id": "5a70c4a8-dcfe-4853-ba56-42fc084a579c",
   "metadata": {},
   "source": [
    "# 1. General-purpose"
   ]
  },
  {
   "cell_type": "markdown",
   "id": "621e702e-c938-46ff-b867-f010626596b3",
   "metadata": {},
   "source": [
    "## Import libraries and scripts"
   ]
  },
  {
   "cell_type": "code",
   "execution_count": null,
   "id": "f82e57f1-d121-4973-a6ee-b3eb5c99145e",
   "metadata": {},
   "outputs": [],
   "source": [
    "%matplotlib ipympl\n",
    "from matplotlib import pyplot as plt\n",
    "from matplotlib import colors\n",
    "from matplotlib.ticker import AutoMinorLocator\n",
    "\n",
    "import ipywidgets as widgets\n",
    "from IPython.display import display\n",
    "\n",
    "import numpy as np\n",
    "from time import time\n",
    "from scipy import ndimage, special"
   ]
  },
  {
   "cell_type": "code",
   "execution_count": null,
   "id": "bb81320d-6c10-48b3-a7f5-62e91befa390",
   "metadata": {},
   "outputs": [],
   "source": [
    "import importlib\n",
    "import scripts\n",
    "importlib.reload(scripts)"
   ]
  },
  {
   "cell_type": "markdown",
   "id": "57cde057-6423-46bc-8f5e-514187d8138a",
   "metadata": {},
   "source": [
    "Plotting:"
   ]
  },
  {
   "cell_type": "code",
   "execution_count": null,
   "id": "a263cc7b-7607-40c4-bde5-31d0d623cc63",
   "metadata": {},
   "outputs": [],
   "source": [
    "def new_figure(fig_name, figsize=(10, 5), nrows=1, ncols=1, sharex='col', sharey='row', gridspec_kw={'hspace': 0, 'wspace': 0}):\n",
    "    plt.close(fig_name)\n",
    "    fig = plt.figure(fig_name, figsize=figsize)\n",
    "    axes = fig.subplots(nrows=nrows, ncols=ncols, squeeze=False,\n",
    "                        sharex=sharex, sharey=sharey,\n",
    "                        gridspec_kw=gridspec_kw\n",
    "                       )\n",
    "    fig.set_tight_layout(True)\n",
    "    for ax in axes.flat:\n",
    "        ax.xaxis.set_minor_locator(AutoMinorLocator())\n",
    "        ax.yaxis.set_minor_locator(AutoMinorLocator())\n",
    "        ax.tick_params(which='both', bottom=True, top=True, left=True, right=True)\n",
    "        ax.tick_params(which='major', direction='inout', length=8, grid_alpha=.3)\n",
    "        ax.tick_params(which='minor', direction='in', length=2, grid_alpha=.1)\n",
    "        ax.grid(True, which='both')\n",
    "\n",
    "    fig.suptitle(fig_name)\n",
    "    \n",
    "    return fig, axes"
   ]
  },
  {
   "cell_type": "code",
   "execution_count": null,
   "id": "b63e02e5-e8f5-4fe4-b472-54b47c66e73f",
   "metadata": {},
   "outputs": [],
   "source": [
    "default_cmap = plt.get_cmap(\"gist_earth\").copy()\n",
    "default_cmap.set_bad('gray')\n",
    "\n",
    "\n",
    "def colour_map(ax, cblabel, data, cmap=default_cmap, norm=None, xlabel=None, x=None, ylabel=None, y=None):\n",
    "    \n",
    "    sigmas = np.linspace(-3, 3, 7)\n",
    "    percentiles = 50 + 50 * special.erf(sigmas / np.sqrt(2))\n",
    "    ticks = np.nanpercentile(data, percentiles)\n",
    "    if norm is None:\n",
    "        if ticks[-1] > 0:\n",
    "            linthresh = np.median(data[data > 0])\n",
    "            norm = colors.SymLogNorm(vmin=ticks[0], vmax=ticks[-1], linthresh=linthresh)\n",
    "        else:\n",
    "            norm = colors.Normalize(vmin=ticks[0], vmax=ticks[-1])\n",
    "\n",
    "    if y is None:\n",
    "        y = np.arange(data.shape[0])\n",
    "    if x is None:\n",
    "        x = np.arange(data.shape[1])\n",
    "\n",
    "    im = ax.imshow(data,\n",
    "                   extent=(x[0]-(x[1]-x[0])/2, x[-1]+(x[-1]-x[-2])/2, y[0]-(y[1]-y[0])/2, y[-1]+(y[-1]-y[-2])/2),\n",
    "                   interpolation='nearest', origin='lower',\n",
    "                   cmap=cmap,\n",
    "                   norm=norm,\n",
    "                  )\n",
    "    #ax.set_aspect('auto')\n",
    "    if xlabel is not None:\n",
    "        ax.set_xlabel(xlabel)\n",
    "    if ylabel is not None:\n",
    "        ax.set_ylabel(ylabel)\n",
    "\n",
    "    cb = fig.colorbar(im, ax=ax, orientation='vertical', shrink=.9)\n",
    "    cb.ax.set_ylabel(cblabel)\n",
    "    if ticks is not None:\n",
    "        cb.ax.set_yticks(ticks=ticks, labels=[f'{value:.3g} ({percent:.1f}%)' for value, percent in zip(ticks, percentiles)])\n",
    "    cb.ax.tick_params(labelsize='small')\n",
    "    \n",
    "    return im, cb, norm\n"
   ]
  },
  {
   "cell_type": "markdown",
   "id": "26d0d920-50a8-48c8-850a-85d8e31391a6",
   "metadata": {},
   "source": [
    "## Read data"
   ]
  },
  {
   "cell_type": "code",
   "execution_count": null,
   "id": "9152318f-7712-418e-9c99-47f6802039ce",
   "metadata": {},
   "outputs": [],
   "source": [
    "importlib.reload(scripts.read_data)\n",
    "object_name, data, true_signal = scripts.read_data.run(11, (0, 0, 1))\n",
    "data_offset = np.nanmin(data)"
   ]
  },
  {
   "cell_type": "markdown",
   "id": "d9ffdc26-81d5-4508-a764-50f44abc9795",
   "metadata": {},
   "source": [
    "## Parameters"
   ]
  },
  {
   "cell_type": "code",
   "execution_count": null,
   "id": "87c106b7-320d-400a-857c-de3a5c69c4ed",
   "metadata": {},
   "outputs": [],
   "source": [
    "residual_accuracy = .01\n",
    "max_iter = 100\n",
    "kernel_truncation = 6"
   ]
  },
  {
   "cell_type": "code",
   "execution_count": null,
   "id": "5e151db0-11d9-45d7-b82d-3f5ee51d5327",
   "metadata": {},
   "outputs": [],
   "source": [
    "peak_threshold = 1\n",
    "accretion_threshold = .5"
   ]
  },
  {
   "cell_type": "markdown",
   "id": "6b366dfc-fd42-42d1-a734-9d566aaad6ae",
   "metadata": {},
   "source": [
    "# 2. Adaptive Richardson Lucy"
   ]
  },
  {
   "cell_type": "markdown",
   "id": "45bb08e2-36b0-4ae7-8545-80e13208160d",
   "metadata": {},
   "source": [
    "Find noise, source, and background scales"
   ]
  },
  {
   "cell_type": "code",
   "execution_count": null,
   "id": "8eb3a231-f012-49af-8365-9601530ca38c",
   "metadata": {},
   "outputs": [],
   "source": [
    "importlib.reload(scripts.diffuse_emission)\n",
    "noise_scale = scripts.diffuse_emission.find_scale(data)\n",
    "source_scale = scripts.diffuse_emission.find_scale(ndimage.gaussian_filter(data, noise_scale, truncate=kernel_truncation))\n",
    "diffuse_scale = scripts.diffuse_emission.find_scale(ndimage.gaussian_filter(data, source_scale, truncate=kernel_truncation))\n",
    "print(f'Scales: noise = {noise_scale:.2f}, sources = {source_scale:.2f}, diffuse emission = {diffuse_scale:.2f}')"
   ]
  },
  {
   "cell_type": "code",
   "execution_count": null,
   "id": "84174bd8-3bc9-40ae-9607-29f17255ca4b",
   "metadata": {
    "tags": []
   },
   "outputs": [],
   "source": [
    "baseline = np.nanmin(data)\n",
    "print(f'baseline={baseline:4g}')"
   ]
  },
  {
   "cell_type": "code",
   "execution_count": null,
   "id": "581ccc48-702e-45ef-9e52-85daddb90043",
   "metadata": {},
   "outputs": [],
   "source": [
    "importlib.reload(scripts.multiscale_RL)\n",
    "smoothing_radii = np.array([noise_scale, source_scale, diffuse_scale]) / np.sqrt(8*np.log(2)) # FWHM -> Gaussian sigma\n",
    "#smoothing_radii = np.array([noise_scale, source_scale])\n",
    "n_radii = smoothing_radii.size\n",
    "\n",
    "mRL = scripts.multiscale_RL.run(data - baseline, smoothing_radii)\n",
    "RL = np.sum(mRL, axis=0)\n",
    "m_model = np.empty_like(mRL)\n",
    "for i, radius in enumerate(smoothing_radii):\n",
    "    m_model[i] = ndimage.gaussian_filter(mRL[i], radius, truncate=kernel_truncation)\n",
    "model = baseline + np.sum(m_model, axis=0)"
   ]
  },
  {
   "cell_type": "code",
   "execution_count": null,
   "id": "48eba1bb-df02-47c1-8b26-d62f5acfa9c9",
   "metadata": {},
   "outputs": [],
   "source": [
    "np.nanmean(data), np.nanmean(baseline+3*m_model, axis=1)"
   ]
  },
  {
   "cell_type": "code",
   "execution_count": null,
   "id": "f7770cdf-fb28-4c50-958c-ed14235961b0",
   "metadata": {},
   "outputs": [],
   "source": [
    "fig, axes = new_figure('RL_reconstruction')\n",
    "\n",
    "ax = axes[0, 0]\n",
    "ax.set_ylabel('intensity')\n",
    "\n",
    "ax.plot(data, 'k-', alpha=.5, label='data')\n",
    "if true_signal is not None:\n",
    "    ax.plot(true_signal, 'k-', label='true signal')\n",
    "\n",
    "lbl = ['compact', 'extended', 'diffuse']\n",
    "style = ['y-', 'g-', 'r-']\n",
    "#for i in range(smoothing_radii.size):\n",
    "    #ax.plot(baseline + 3*mRL[i], style[i], alpha=.25, label=f'{lbl[i]} ($\\\\sigma={smoothing_radii[i]:.2f}$ pix)')\n",
    "    #ax.plot(baseline + smoothing_radii.size*m_model[i], style[i], alpha=.25, label=f'{lbl[i]} ($\\\\sigma={smoothing_radii[i]:.2f}$ pix)')\n",
    "ax.plot(baseline + 3*mRL[-1], 'y-')\n",
    "ax.plot(baseline + 3*m_model[-1], 'r-')\n",
    "ax.plot(baseline + smoothing_radii.size*ndimage.gaussian_filter(np.fmin(m_model[-1], mRL[-1]), smoothing_radii[-1]), 'k-')\n",
    "\n",
    "ax.plot(model, 'b-', alpha=.5, label='model')\n",
    "ax.legend()\n",
    "\n",
    "#ax.set_yscale('log')\n",
    "plt.show()"
   ]
  },
  {
   "cell_type": "markdown",
   "id": "b4c5cb93-47f5-4380-a3ec-9fb0d57afd6d",
   "metadata": {},
   "source": [
    "# 3. Image characterisation"
   ]
  },
  {
   "cell_type": "markdown",
   "id": "926aa4e0-dfd7-4c4d-8a5c-e5a5dfaa552b",
   "metadata": {},
   "source": [
    "## Noise"
   ]
  },
  {
   "cell_type": "code",
   "execution_count": null,
   "id": "f80ed645-5ae0-499b-a628-1389eeda7f69",
   "metadata": {
    "tags": []
   },
   "outputs": [],
   "source": [
    "residual = data - model\n",
    "noise = np.sqrt(ndimage.gaussian_filter(residual**2, smoothing_radii[0], truncate=kernel_truncation)) #- ndimage.gaussian_filter(residual, diffuse_scale))\n",
    "mean = np.nanmean(noise)\n",
    "noise = np.where(np.isfinite(noise), noise, mean)\n",
    "print(f'noise: {mean:.3g} +- {np.std(noise):.3g} [{np.min(noise):.3g} - {np.max(noise):.3g}]')"
   ]
  },
  {
   "cell_type": "markdown",
   "id": "2bdc3509-d64e-4316-a69a-f0212850039c",
   "metadata": {},
   "source": [
    "## Background"
   ]
  },
  {
   "cell_type": "code",
   "execution_count": null,
   "id": "bd12245c-968b-4da1-9d92-9107f9dec961",
   "metadata": {},
   "outputs": [],
   "source": [
    "pixel_type = np.argmax(m_model, axis=0)"
   ]
  },
  {
   "cell_type": "code",
   "execution_count": null,
   "id": "17f4b280-c146-49ae-a3d7-fc5be3cb7170",
   "metadata": {},
   "outputs": [],
   "source": [
    "background = np.fmin(m_model[-1], mRL[-1])\n",
    "background = ndimage.gaussian_filter(background, smoothing_radii[-1])\n",
    "background = np.nanmedian([m_model[-1], mRL[-1], background], axis=0)\n",
    "background = ndimage.gaussian_filter(background, smoothing_radii[-1])\n",
    "background = baseline + smoothing_radii.size*background"
   ]
  },
  {
   "cell_type": "code",
   "execution_count": null,
   "id": "61a1e8b2-6877-4498-a3b8-cb8d51d398cb",
   "metadata": {},
   "outputs": [],
   "source": [
    "signal = model - background\n",
    "SN = signal / noise\n",
    "median_SN = np.nanmedian(SN)"
   ]
  },
  {
   "cell_type": "code",
   "execution_count": null,
   "id": "cfa60db0-e0e4-476d-9f5a-0fc165d5aa85",
   "metadata": {},
   "outputs": [],
   "source": [
    "fig, axes = new_figure('noise_and_background', figsize=(10, 6))\n",
    "\n",
    "ax = axes[0, 0]\n",
    "ax.set_ylabel('intensity')\n",
    "\n",
    "ax.plot(data, 'k-', alpha=.25, label='data')\n",
    "if true_signal is not None:\n",
    "    ax.plot(true_signal, 'k-', label='true_signal')\n",
    "\n",
    "ax.plot(model, 'b-', alpha=.5, label='model')\n",
    "#ax.fill_between(np.arange(data.size), model - noise, model + noise, color='b', alpha=.1, label=f'noise: {mean:.3g}$\\\\pm${np.std(noise):.3g} [{np.min(noise):.3g} - {np.max(noise):.3g}]')\n",
    "\n",
    "ax.plot(background, 'r--', alpha=.5, label='background')\n",
    "ax.fill_between(np.arange(data.size), background - noise, background + noise,\n",
    "                color='r', alpha=.1, label=f'noise: {mean:.3g}$\\\\pm${np.std(noise):.3g}')  # [{np.min(noise):.3g} - {np.max(noise):.3g}]')\n",
    "\n",
    "#ax.plot(background + peak_threshold*noise, 'k--', label=f'peak_threshold={peak_threshold:.2f}')\n",
    "#ax.plot(background + accretion_threshold*noise, 'k:', label=f'accretion={accretion_threshold:.2f}')\n",
    "\n",
    "ax.legend()\n",
    "\n",
    "'''\n",
    "ax = axes[1, 0]\n",
    "ax.set_ylabel('S/N')\n",
    "\n",
    "#lbl = ['compact', 'extended']\n",
    "#style = ['y-', 'g-', 'r-']\n",
    "#for i in range(smoothing_radii.size-1):\n",
    "#    ax.plot((m_model[i] - m_model[i+1]) / noise, style[i], alpha=.5, label=lbl[i])\n",
    "\n",
    "ax.plot(signal/noise, 'b-', alpha=.2, label='diffuse-dominated')\n",
    "ax.plot(np.where(pixel_type == 2, np.nan, signal/noise), 'b-', label='source-dominated')\n",
    "\n",
    "#ax.plot(diffuse_fraction, 'r-', alpha=.5, label='bg2')\n",
    "#ax.plot(source_fraction, 'b-', alpha=.5, label='src2')\n",
    "\n",
    "ax.plot(pixel_type, 'g-')\n",
    "\n",
    "ax.axhline(peak_threshold, c='k', ls='--', label=f'peak_threshold={peak_threshold:.2f}')\n",
    "ax.axhline(0, c='k', ls=':')\n",
    "ax.legend()\n",
    "'''\n",
    "\n",
    "ax.set_xlabel('wavelength / channel')\n",
    "#ax.set_yscale('log')\n",
    "plt.show()"
   ]
  },
  {
   "cell_type": "code",
   "execution_count": null,
   "id": "84a4b0b4-533d-4eec-a21d-45e7756d58a2",
   "metadata": {},
   "outputs": [],
   "source": [
    "pixel_type"
   ]
  },
  {
   "cell_type": "code",
   "execution_count": null,
   "id": "bbaafbaa-e6d0-461b-9532-0c387b6a9050",
   "metadata": {
    "tags": []
   },
   "outputs": [],
   "source": [
    "raise -1"
   ]
  },
  {
   "cell_type": "markdown",
   "id": "2a57081e-d211-4aa7-9dbe-ba7fa9a754f4",
   "metadata": {},
   "source": [
    "# --- TESTS"
   ]
  },
  {
   "cell_type": "markdown",
   "id": "7bf41395-20bc-48bb-9233-c06746e779c9",
   "metadata": {},
   "source": [
    "## Automatic thresholds"
   ]
  },
  {
   "cell_type": "code",
   "execution_count": null,
   "id": "b5c6e4cf-92f3-4d87-8576-b1435bb9aa99",
   "metadata": {},
   "outputs": [],
   "source": [
    "sorted_by_SN = np.argsort(SN.flat)\n",
    "sorted_signal_fraction = np.cumsum(signal.flat[sorted_by_SN])\n",
    "sorted_signal_fraction /= sorted_signal_fraction[-1]\n",
    "index0 = np.searchsorted(SN.flat[sorted_by_SN], 0)\n",
    "accretion_threshold = np.interp(0, sorted_signal_fraction[index0:], SN.flat[sorted_by_SN][index0:])"
   ]
  },
  {
   "cell_type": "code",
   "execution_count": null,
   "id": "0c12aa2d-507f-4903-820d-51e3d6bb5214",
   "metadata": {},
   "outputs": [],
   "source": [
    "peak_threshold = max(accretion_threshold, median_SN) + np.sqrt(np.mean((SN[SN < accretion_threshold] - accretion_threshold)**2))"
   ]
  },
  {
   "cell_type": "code",
   "execution_count": null,
   "id": "4c24eb54-d688-4e6a-8077-23c0b56fad01",
   "metadata": {},
   "outputs": [],
   "source": [
    "fig, axes = new_figure('signal-to-noise_thresholds', nrows=3, figsize=(8, 6))\n",
    "\n",
    "\n",
    "ax = axes[0, 0]\n",
    "ax.set_ylabel('number of measurements')\n",
    "#ax.set_ylabel('probability density')\n",
    "\n",
    "ax.hist(SN, bins=np.linspace(SN[sorted_by_SN[0]], 2*peak_threshold - SN[sorted_by_SN[0]], 3*int(1 + np.sqrt(index0))))\n",
    "\n",
    "\n",
    "ax = axes[1, 0]\n",
    "ax.set_ylabel('cumulative flux fraction')\n",
    "\n",
    "ax.plot(SN.flat[sorted_by_SN], sorted_signal_fraction, 'k-')\n",
    "ax.axvline(accretion_threshold, c='k', ls=':', label=f'accretion_threshold = {accretion_threshold:.2f} $\\\\sigma$')\n",
    "ax.axvline(peak_threshold, c='k', ls='--', label=f'peak_threshold = {peak_threshold:.2f} $\\\\sigma$')\n",
    "ax.axvline(median_SN, c='k', ls='-', label=f'median = {median_SN:.2f} $\\\\sigma$')\n",
    "\n",
    "ax.legend()\n",
    "\n",
    "\n",
    "ax = axes[2, 0]\n",
    "ax.plot(SN.flat[sorted_by_SN], SN_var_below, 'k-')\n",
    "#ax.set_ylim(.03, 300)\n",
    "ax.set_yscale('log')\n",
    "#ax.set_ylim(-.1, 3.1)\n",
    "\n",
    "\n",
    "ax.set_xlabel('signal / noise')\n",
    "ax.set_xlim(SN[sorted_by_SN[0]], 3*peak_threshold - SN[sorted_by_SN[0]])\n",
    "plt.show()"
   ]
  },
  {
   "cell_type": "markdown",
   "id": "76803fab-4567-4547-8655-36c24762c0c9",
   "metadata": {},
   "source": [
    "## refine / renormalise background"
   ]
  },
  {
   "cell_type": "markdown",
   "id": "bb2a56db-c2d5-428c-980b-78162c4d2b38",
   "metadata": {},
   "source": [
    "Test 1"
   ]
  },
  {
   "cell_type": "code",
   "execution_count": null,
   "id": "886b1ab4-823e-4460-9fde-cf82afd3216d",
   "metadata": {},
   "outputs": [],
   "source": [
    "SN_below = np.sqrt(np.nanmean(SN[signal < 0]**2))\n",
    "print(SN_below)\n",
    "while SN_below < 1:\n",
    "    background += .1 * ndimage.gaussian_filter(noise, smoothing_radii[-1])\n",
    "    signal = model - background\n",
    "    SN = signal / noise\n",
    "    SN_below = np.sqrt(np.nanmean(SN[signal < 0]**2))\n",
    "    print(SN_below)\n",
    "while SN_below > 1:\n",
    "    background -= .1 * ndimage.gaussian_filter(noise, smoothing_radii[-1])\n",
    "    signal = model - background\n",
    "    SN = signal / noise\n",
    "    SN_below = np.sqrt(np.nanmean(SN[signal < 0]**2))\n",
    "    print(SN_below)\n",
    "    "
   ]
  },
  {
   "cell_type": "markdown",
   "id": "34ee0414-24fd-416e-817b-92ca787361ab",
   "metadata": {},
   "source": [
    "Test 2"
   ]
  },
  {
   "cell_type": "code",
   "execution_count": null,
   "id": "d8eb3ca1-3303-4e11-a280-5761f9b0ff8f",
   "metadata": {},
   "outputs": [],
   "source": [
    "n = 1 + np.arange(sorted_by_SN.size)\n",
    "#SN_var_below = np.cumsum(SN.flat[sorted_by_SN]**2)/n + SN.flat[sorted_by_SN]**2 - 2*SN.flat[sorted_by_SN]*(np.cumsum(SN.flat[sorted_by_SN])/n)\n",
    "SN_var_below = np.cumsum(signal.flat[sorted_by_SN]**2)/n + signal.flat[sorted_by_SN]**2 - 2*signal.flat[sorted_by_SN]*(np.cumsum(signal.flat[sorted_by_SN])/n)"
   ]
  },
  {
   "cell_type": "markdown",
   "id": "719b258c-0505-45d4-b41e-3c1de379aae8",
   "metadata": {},
   "source": [
    "# --- OLD"
   ]
  },
  {
   "cell_type": "markdown",
   "id": "39552474-481a-4428-b5ee-c86c48a6827f",
   "metadata": {},
   "source": [
    "## Signal"
   ]
  },
  {
   "cell_type": "code",
   "execution_count": null,
   "id": "0e59afb1-ab82-46d7-9ab2-6e863b4e4db9",
   "metadata": {},
   "outputs": [],
   "source": [
    "mSN = (baseline + n_radii*m_model - model[np.newaxis, :]) / noise[np.newaxis, :]\n",
    "mp_signal = 1 - np.exp(-.5*mSN**2)\n",
    "p_signal = ndimage.gaussian_filter(np.nanmean(mp_signal, axis=0), smoothing_radii[0], truncate=kernel_truncation)"
   ]
  },
  {
   "cell_type": "code",
   "execution_count": null,
   "id": "a2e31d1f-ff2b-444f-ab75-d7ce906c3c13",
   "metadata": {},
   "outputs": [],
   "source": [
    "fig, axes = new_figure('signal-probability', nrows=2)\n",
    "\n",
    "ax = axes[0, 0]\n",
    "ax.set_ylabel('intensity')\n",
    "\n",
    "lbl = ['compact', 'diffuse', 'background']\n",
    "style = ['y-', 'g-', 'r-']\n",
    "for i in range(smoothing_radii.size):\n",
    "    ax.plot(mp_signal[i], style[i], alpha=.25, label=lbl[i])\n",
    "\n",
    "ax.plot(p_signal, 'k-', label='mean')\n",
    "\n",
    "ax.legend()\n",
    "\n",
    "\n",
    "ax = axes[1, 0]\n",
    "ax.set_ylabel('intensity')\n",
    "\n",
    "ax.plot(data, 'k-', alpha=.5, label='observed')\n",
    "if true_signal is not None:\n",
    "    ax.plot(true_signal, 'k-', label='true')\n",
    "\n",
    "lbl = ['compact', 'diffuse', 'background']\n",
    "style = ['y-', 'g-', 'r-']\n",
    "for i in range(smoothing_radii.size):\n",
    "    ax.plot(baseline + smoothing_radii.size*m_model[i], style[i], alpha=.5, label=lbl[i])\n",
    "\n",
    "ax.plot(model, 'b-', label='reconstruction')\n",
    "ax.fill_between(np.arange(data.size), model - noise, model + noise, color='b', alpha=.1)\n",
    "\n",
    "ax.legend()\n",
    "ax.set_yscale('log')\n",
    "\n",
    "plt.show()"
   ]
  },
  {
   "cell_type": "code",
   "execution_count": null,
   "id": "fb6979bd-56c0-4a61-a7de-619c6b4e2426",
   "metadata": {},
   "outputs": [],
   "source": [
    "signal"
   ]
  },
  {
   "cell_type": "code",
   "execution_count": null,
   "id": "6ffed760-9841-498e-8956-477864d39557",
   "metadata": {},
   "outputs": [],
   "source": [
    "SN_map = residual / noise\n",
    "SN_min = np.min(SN_map)\n",
    "SN_max = max(-2*SN_min, min(np.max(SN_map), 9.5))\n",
    "hist, bins = np.histogram((SN_map).ravel(), bins=np.arange(SN_min, SN_max, .1), density=True)\n",
    "x_bins = (bins[1:] + bins[:-1]) / 2\n",
    "index_max = np.argmax(hist)\n",
    "SN_mode = x_bins[index_max]\n",
    "#x_HWHM = np.interp(hist[index_max]/2, hist[:index_max], x_bins[:index_max])\n",
    "#y_HWHM = 2*SN_mode - x_HWHM\n",
    "#SN_sigma = (SN_mode - x_HWHM) / np.sqrt(2*np.log(2))\n",
    "SN_threshold = 2*SN_mode - SN_min"
   ]
  },
  {
   "cell_type": "code",
   "execution_count": null,
   "id": "e7f34e06-276a-44b9-8d3f-028cc2ceb1b5",
   "metadata": {},
   "outputs": [],
   "source": [
    "fig, axes = new_figure('residual')#, nrows=2)\n",
    "\n",
    "\n",
    "ax = axes[0, 0]\n",
    "ax.plot(x_bins, hist, 'k-+')\n",
    "ax.axvline(SN_mode, c='k', ls='--', label=f'mode={SN_mode:.2f}')\n",
    "#ax.axvline(x_HWHM, c='k', ls=':')\n",
    "#ax.axvline(y_HWHM, c='k', ls=':')\n",
    "ax.axvline(SN_threshold, c='k', ls='-.', label=f'threshold={SN_threshold:.2f}')\n",
    "ax.axhline(hist[index_max]/2, c='k', ls=':')\n",
    "\n",
    "#ax.plot(x_bins, np.exp(-.5 * ((x_bins-SN_mode)/SN_sigma)**2) / np.sqrt(2*np.pi) / SN_sigma, 'k:')\n",
    "#ax.plot(x_bins, np.exp(-.5 * ((x_bins-SN_mode)/SN_sigma)**2) * hist[index_max], 'k:')\n",
    "#ax.set_yscale('log')\n",
    "ax.legend()\n",
    "\n",
    "'''\n",
    "ax = axes[1, 0]\n",
    "ax.scatter(SN_map, background_estimate, s=1, alpha=1)\n",
    "ax.set_xlim(SN_min, SN_max)\n",
    "'''\n",
    "\n",
    "plt.show()"
   ]
  },
  {
   "cell_type": "code",
   "execution_count": null,
   "id": "75b11193-bc1d-4c11-b7d5-70cf8f4a9c86",
   "metadata": {},
   "outputs": [],
   "source": [
    "fig, axes = new_figure('signal-to-noise')#, nrows=2)\n",
    "\n",
    "\n",
    "ax = axes[0, 0]\n",
    "ax.plot(x_bins, hist, 'k-+')\n",
    "ax.axvline(SN_mode, c='k', ls='--', label=f'mode={SN_mode:.2f}')\n",
    "ax.axvline(SN_threshold, c='k', ls='-.', label=f'threshold={SN_threshold:.2f}')\n",
    "ax.axhline(hist[index_max]/2, c='k', ls=':')\n",
    "\n",
    "p16, p50 = np.nanpercentile(SN_map, [16, 50])\n",
    "ax.axvline(p16, c='k', ls=':')\n",
    "ax.axvline(p50, c='c', ls=':', label=f'median={p50:.2f}')\n",
    "ax.axvline(2*p50-SN_min, c='k', ls=':', label=f'threshold={2*p50-SN_min:.2f}')\n",
    "mu0 = np.nanmean(SN_map)\n",
    "#mu0 = np.nanmean(SN_map[SN_map < mu0])\n",
    "std0 = np.sqrt(np.nanmean(mu0-SN_map[SN_map < mu0])**2)\n",
    "mu0_threshold = 2*mu0-SN_min\n",
    "ax.axvline(mu0, c='r', ls='--', label=f'mean={mu0:.2f} +- {std0:.2f}')\n",
    "ax.axvline(mu0_threshold, c='r', ls='-.', label=f'mu0_threshold={mu0_threshold:.2f}')\n",
    "\n",
    "ax.legend()\n",
    "\n",
    "'''\n",
    "ax = axes[1, 0]\n",
    "ax.scatter(residual/noise, background_estimate, s=1, alpha=.1)\n",
    "ax.set_xlim(SN_min, SN_max)\n",
    "'''\n",
    "\n",
    "plt.show()"
   ]
  },
  {
   "cell_type": "code",
   "execution_count": null,
   "id": "eaac083f-0327-4bd7-8e3a-3de31977590e",
   "metadata": {},
   "outputs": [],
   "source": [
    "noise"
   ]
  },
  {
   "cell_type": "markdown",
   "id": "bc3c454a-ea3f-4945-9ea3-85df97e860b8",
   "metadata": {},
   "source": [
    "# 3. Source finding"
   ]
  },
  {
   "cell_type": "markdown",
   "id": "98524e64-ad5d-4ebe-8f0b-b57d74c0bd56",
   "metadata": {},
   "source": [
    "## Hierarchical Overdensity Tree"
   ]
  },
  {
   "cell_type": "code",
   "execution_count": null,
   "id": "8c10a2ce-e253-4745-b6b6-623dcad985bd",
   "metadata": {},
   "outputs": [],
   "source": [
    "importlib.reload(scripts.sort_data)\n",
    "#argsorted_data, n_valid = scripts.sort_data.run(RL.ravel())\n",
    "argsorted_data, n_valid = scripts.sort_data.run(mRL.ravel())"
   ]
  },
  {
   "cell_type": "code",
   "execution_count": null,
   "id": "f7e1b68c-f8a1-47b5-b0ab-9223cebf12bf",
   "metadata": {},
   "outputs": [],
   "source": [
    "importlib.reload(scripts.HOT)\n",
    "sorted_strides = np.hstack([np.sort(mRL.strides)//mRL.itemsize, mRL.size]) # DIRTY HACK when testig particles at the boundary\n",
    "t0 = time()\n",
    "HOT_labels, HOT_catalog = scripts.HOT.run(mRL, argsorted_data, sorted_strides)\n",
    "#n_sources = np.unique(HOT_labels).size\n",
    "n_sources = np.max(HOT_labels)\n",
    "print(f'     {time()-t0:.3g} seconds')"
   ]
  },
  {
   "cell_type": "code",
   "execution_count": null,
   "id": "549bab15-02e4-480a-a490-cacde21635f3",
   "metadata": {},
   "outputs": [],
   "source": [
    "HOT_parent = HOT_catalog[0]\n",
    "'''\n",
    "HOT_area = HOT_catalog[1]\n",
    "HOT_test_stat = HOT_catalog[2]\n",
    "HOT_bg = HOT_catalog[3]\n",
    "#max_test_stat = catalog[3]\n",
    "'''\n",
    ","
   ]
  },
  {
   "cell_type": "markdown",
   "id": "56108e7d-0663-43e4-ac52-2c03c97606bb",
   "metadata": {},
   "source": [
    "## Individual sources"
   ]
  },
  {
   "cell_type": "code",
   "execution_count": null,
   "id": "7fa9b19d-c37a-4eeb-bb89-f77b2ad85142",
   "metadata": {},
   "outputs": [],
   "source": [
    "def get_source_model(mRL, HOT_labels, lbl):\n",
    "    RL = np.zeros_like(data)\n",
    "    indices = np.where(HOT_labels[0] == lbl)\n",
    "    RL[indices] = mRL[0][indices]\n",
    "    source_model = ndimage.gaussian_filter(RL, smoothing_radii[0])\n",
    "    \n",
    "    RL = np.zeros_like(data)\n",
    "    indices = np.where(HOT_labels[1] == lbl)\n",
    "    RL[indices] = mRL[1][indices]\n",
    "    source_model += ndimage.gaussian_filter(RL, smoothing_radii[1])\n",
    "    \n",
    "    return source_model"
   ]
  },
  {
   "cell_type": "code",
   "execution_count": null,
   "id": "45584646-de7c-4e23-982e-3fa942ad760f",
   "metadata": {},
   "outputs": [],
   "source": [
    "residual = (compact_emission + diffuse_emission - diffuse_estimate)\n",
    "def compute_moment(m):\n",
    "    RL_moment = mRL.copy()\n",
    "    for i, radius in enumerate(smoothing_radii):\n",
    "        RL_moment[i] *= ndimage.gaussian_filter(residual**m / (compact_emission + diffuse_emission), radius)\n",
    "    moment = np.zeros(n_sources+1)\n",
    "    np.add.at(moment, HOT_labels, RL_moment)\n",
    "    return moment\n",
    "\n",
    "source_area = compute_moment(0)\n",
    "source_residual = compute_moment(1)\n",
    "mean_residual = source_residual / source_area\n",
    "#rms_residual = compute_moment(2) / source_area"
   ]
  },
  {
   "cell_type": "code",
   "execution_count": null,
   "id": "69ff19c0-5b5d-4b7c-a004-10febc8c0160",
   "metadata": {},
   "outputs": [],
   "source": [
    "source_SN = mean_residual * np.sqrt(source_area) / noise\n",
    "sorted_by_SN = np.argsort(source_SN)\n",
    "n_fluke = np.count_nonzero(np.cumsum(source_residual[sorted_by_SN]) < 0)\n",
    "SN_threshold = source_SN[sorted_by_SN[n_fluke]]\n",
    "true_source = (source_SN > SN_threshold) & (source_area > compact_scale)\n",
    "n_true = np.count_nonzero(true_source)\n",
    "print(f'{n_true} true sourcces above S/N={SN_threshold:.1f} and area={compact_scale:.1f}')"
   ]
  },
  {
   "cell_type": "code",
   "execution_count": null,
   "id": "66d9b127-ac2d-4424-afc7-e48cdbb4ab27",
   "metadata": {},
   "outputs": [],
   "source": [
    "'''\n",
    "final_model = baseline + ndimage.gaussian_filter(mRL[1], smoothing_radii[1])\n",
    "\n",
    "RL = np.zeros_like(data)\n",
    "indices = np.where(true_source[HOT_labels[0]])\n",
    "RL[indices] = mRL[0][indices]\n",
    "final_model += ndimage.gaussian_filter(RL, smoothing_radii[0])\n",
    "\n",
    "RL = np.zeros_like(data)\n",
    "indices = np.where(~true_source[HOT_labels[0]])\n",
    "RL[indices] = mRL[0][indices]\n",
    "final_model += ndimage.gaussian_filter(RL, smoothing_radii[0])\n",
    "'''\n",
    "\n",
    "'''\n",
    "RL = np.zeros_like(data)\n",
    "indices = np.where(true_source[HOT_labels[0]])\n",
    "RL[indices] = mRL[0][indices]\n",
    "final_model += ndimage.gaussian_filter(RL, smoothing_radii[0])\n",
    "RL = np.zeros_like(data)\n",
    "indices = np.where(true_source[HOT_labels[1]])\n",
    "RL[indices] = mRL[1][indices]\n",
    "final_model += ndimage.gaussian_filter(RL, smoothing_radii[1])\n",
    "'''\n",
    "\n",
    "final_model = baseline\n",
    "RL = np.zeros_like(data)\n",
    "indices = np.where(true_source[HOT_labels[0]])\n",
    "RL[indices] = mRL[0][indices]\n",
    "final_model += ndimage.gaussian_filter(RL, smoothing_radii[0])\n",
    "RL = np.zeros_like(data)\n",
    "indices = np.where(true_source[HOT_labels[1]])\n",
    "RL[indices] = mRL[1][indices]\n",
    "final_model += ndimage.gaussian_filter(RL, smoothing_radii[1])\n"
   ]
  },
  {
   "cell_type": "code",
   "execution_count": null,
   "id": "d8e13026-6b38-4f39-970b-03626aea7b89",
   "metadata": {},
   "outputs": [],
   "source": [
    "fig, axes = new_figure('source_flux', nrows=1, figsize=(12, 8))\n",
    "\n",
    "ax = axes[0, 0]\n",
    "ax.axhline(SN_threshold, color='k', ls=':', label=f'{SN_threshold} x {noise:.3g} = {SN_threshold*noise:.3g}')\n",
    "ax.axvline(compact_scale, color='k', ls=':', label=f'compact scale = {compact_scale:.3g}')\n",
    "ax.axvline(diffuse_scale, color='k', ls=':', label=f'diffuse scale = {diffuse_scale:.3g}')\n",
    "\n",
    "ax.scatter(source_area[true_source], source_SN[true_source], c='b', s=5, alpha=1)\n",
    "ax.scatter(source_area[~true_source], source_SN[~true_source], c='r', s=5, alpha=.5)\n",
    "#for i in range(n_sources+1):\n",
    "#    ax.text(source_residual[i], mean_residual[i], i, fontsize='x-small', clip_on=True)\n",
    "ax.legend()\n",
    "plt.show()"
   ]
  },
  {
   "cell_type": "markdown",
   "id": "65304c39-05ca-4cd8-ab94-7d7a999dac75",
   "metadata": {},
   "source": [
    "# 3. Plots"
   ]
  },
  {
   "cell_type": "markdown",
   "id": "a9601e96-aced-431b-9caf-d15a0fef64e1",
   "metadata": {
    "tags": []
   },
   "source": [
    "Normalisation and color maps:"
   ]
  },
  {
   "cell_type": "code",
   "execution_count": null,
   "id": "80f86764-f359-44b2-b45c-ddd3f9ea7e3c",
   "metadata": {},
   "outputs": [],
   "source": [
    "latin_cube = np.vstack([(np.argsort(np.random.random(n_sources))+1)/n_sources, (np.argsort(np.random.random(n_sources))+1)/n_sources, (np.argsort(np.random.random(n_sources))+1)/n_sources, np.ones(n_sources)]).T\n",
    "latin_cube[0, :] = [0., 0., 0., 1.]  # background object must be black :^)\n",
    "label_cmap = colors.ListedColormap(latin_cube)\n",
    "label_norm = colors.Normalize(vmin=-.5, vmax=n_sources+.5)\n",
    "print(f'{n_sources} unique sourcces')"
   ]
  },
  {
   "cell_type": "code",
   "execution_count": null,
   "id": "7cc23e9c-ecf4-4ef1-95d4-e2aa25d15e7f",
   "metadata": {},
   "outputs": [],
   "source": [
    "mRL_cmap = default_cmap\n",
    "mRL_norm = colors.LogNorm(vmin=np.percentile(mRL[mRL>0], 10), vmax=np.percentile(mRL[mRL>0], 99))"
   ]
  },
  {
   "cell_type": "code",
   "execution_count": null,
   "id": "1b0449bf-8eaa-4781-904d-e796e7823791",
   "metadata": {},
   "outputs": [],
   "source": [
    "fig_name = 'GARLIC_test'\n",
    "plt.close(fig_name)\n",
    "fig = plt.figure(fig_name, figsize=(12, 10))\n",
    "axes = fig.subplots(nrows=4, ncols=2, squeeze=False, sharex='col', gridspec_kw={'width_ratios': [1, .02], 'hspace': 0})\n",
    "fig.suptitle(fig_name)\n",
    "fig.set_tight_layout(True)\n",
    "\n",
    "\n",
    "ax = axes[0, 0]\n",
    "im = ax.imshow(mRL,\n",
    "               interpolation='nearest', origin='lower', cmap=mRL_cmap, norm=mRL_norm,\n",
    "              )\n",
    "ax.set_aspect('auto')\n",
    "ax.set_ylabel('smoothing scale')\n",
    "ax.set_yticks(np.arange(smoothing_radii.size), [f'{radius:.3g}' for radius in smoothing_radii])\n",
    "cb = plt.colorbar(im, cax=axes[0, 1], orientation='vertical', shrink=.9)\n",
    "cb.ax.tick_params(labelsize='small')\n",
    "cb.ax.set_ylabel('Richardson-Lucy intensity')\n",
    "\n",
    "\n",
    "ax = axes[1, 0]\n",
    "im = ax.imshow(source_SN[HOT_labels],\n",
    "               interpolation='nearest', origin='lower', norm=colors.SymLogNorm(linthresh=SN_threshold), cmap='rainbow_r',\n",
    "              )\n",
    "ax.set_aspect('auto')\n",
    "ax.set_ylabel('smoothing scale')\n",
    "ax.set_yticks(np.arange(smoothing_radii.size), [f'{radius:.3g}' for radius in smoothing_radii])\n",
    "cb = plt.colorbar(im, cax=axes[1, 1], orientation='vertical', shrink=.9)\n",
    "cb.ax.tick_params(labelsize='small')\n",
    "cb.ax.set_ylabel('S/N')\n",
    "\n",
    "\n",
    "ax = axes[2, 0]\n",
    "masked_labels = HOT_labels.copy()\n",
    "indices = np.where(~true_source[masked_labels])\n",
    "masked_labels[indices] = 0\n",
    "im = ax.imshow(masked_labels,\n",
    "               interpolation='nearest', origin='lower', cmap=label_cmap, norm=label_norm,\n",
    "              )\n",
    "ax.set_aspect('auto')\n",
    "ax.set_ylabel('smoothing scale')\n",
    "ax.set_yticks(np.arange(smoothing_radii.size), [f'{radius:.3g}' for radius in smoothing_radii])\n",
    "cb = plt.colorbar(im, cax=axes[2, 1], orientation='vertical', shrink=.9)\n",
    "cb.ax.tick_params(labelsize='small')\n",
    "cb.ax.set_ylabel('source ID')\n",
    "\n",
    "\n",
    "ax = axes[3, 0]\n",
    "ax.set_ylabel('intensity')\n",
    "ax.xaxis.set_minor_locator(AutoMinorLocator())\n",
    "ax.yaxis.set_minor_locator(AutoMinorLocator())\n",
    "ax.tick_params(which='both', bottom=True, top=True, left=True, right=True)\n",
    "ax.tick_params(which='major', direction='inout', length=8, grid_alpha=.3)\n",
    "ax.tick_params(which='minor', direction='in', length=2, grid_alpha=.1)\n",
    "ax.grid(True, which='both')\n",
    "\n",
    "if true_signal is not None:\n",
    "    ax.plot(true_signal, 'g-', alpha=.3)\n",
    "ax.plot(data, 'k-', alpha=.2)\n",
    "ax.plot(baseline + diffuse_emission + compact_emission, 'b-', alpha=.5)\n",
    "\n",
    "ax.plot(final_model, 'k-', alpha=1)\n",
    "ax.plot(2*baseline + compact_emission + diffuse_emission - final_model, 'r-', alpha=1)\n",
    "ax.plot(baseline + diffuse_estimate, 'g--')\n",
    "ax.fill_between(np.arange(data.size), baseline + diffuse_estimate - noise, baseline + diffuse_estimate + noise, color='g', alpha=.1)\n",
    "\n",
    "\n",
    "\n",
    "ax.set_xlabel('pixel ID')\n",
    "#ax.set_xlim(5900, 6300)\n",
    "#ax.set_ylim(-10, 300)\n",
    "#ax.set_ylim(np.min(baseline)*.9, np.max(baseline + diffuse_estimate))\n",
    "\n",
    "axes[-1, 1].axis('off')\n",
    "plt.show()"
   ]
  },
  {
   "cell_type": "code",
   "execution_count": null,
   "id": "25f871c0-fa9e-4a53-94db-edf916313fe9",
   "metadata": {},
   "outputs": [],
   "source": [
    "np.nansum(data), np.nansum(final_model)/np.nansum(data), np.nansum(source_residual), np.nansum(residual), np.nansum(source_residual[~true_source])"
   ]
  },
  {
   "cell_type": "code",
   "execution_count": null,
   "id": "10394668-f0b1-4d4a-8fb3-3721bda79474",
   "metadata": {},
   "outputs": [],
   "source": [
    "class Explore_lbl_1D(object):\n",
    "    \n",
    "    def __init__(self, fig_name, data, estimate, label, parent):\n",
    "        \"\"\"Interactive display\"\"\"\n",
    "        \n",
    "        plt.close(fig_name)\n",
    "        self.fig = plt.figure(fig_name, figsize=(12, 7))\n",
    "        self.axes = self.fig.subplots(nrows=4, ncols=2, squeeze=False, sharex='col', gridspec_kw={'width_ratios': [1, .02], 'hspace': 0})\n",
    "        self.fig.suptitle(fig_name)\n",
    "        self.fig.set_tight_layout(True)\n",
    "\n",
    "        self.original = data\n",
    "        self.data_offset = np.nanmin(data)\n",
    "        #self.RL = RL\n",
    "        #self.SSF = SSF\n",
    "        self.total_estimate = estimate\n",
    "        self.label = label\n",
    "        self.parent = parent\n",
    "\n",
    "        self.ax_parent = self.axes[0, 0]\n",
    "        self.ax_parent_cb = self.axes[0, 1]\n",
    "        self.ax_lbl = self.axes[1, 0]\n",
    "        self.ax_lbl_cb = self.axes[1, 1]\n",
    "\n",
    "        self.ax_im = self.axes[2, 0]\n",
    "        self.ax_cb = self.axes[2, 1]\n",
    "\n",
    "        self.ax0 = self.axes[3, 0]\n",
    "        self.ax0.plot(data, 'k-', alpha=.2)\n",
    "        self.ax0.set_xlim(0, data.size)\n",
    "        self.axes[3, 1].axis('off')\n",
    "\n",
    "        self.widget = widgets.interactive(self.plot_lbl, lbl=widgets.BoundedIntText(value=0, min=0, max=n_sources, continuous_update=False))\n",
    "        display(self.widget)\n",
    "\n",
    "\n",
    "    def plot_lbl(self, lbl):\n",
    "        #lbl = decreasing_flux[lbl_sorted]\n",
    "        xlim = self.ax0.get_xlim()\n",
    "        ylim = self.ax0.get_ylim()\n",
    "\n",
    "        ax = self.ax_parent\n",
    "        im = ax.imshow(self.parent[self.label],\n",
    "                       interpolation='nearest', origin='lower',\n",
    "                       cmap=label_cmap, norm=colors.Normalize(vmin=-.5, vmax=n_sources+.5),\n",
    "                      )\n",
    "        ax.set_aspect('auto')\n",
    "        ax.set_yticks(np.arange(smoothing_radii.size), [f'{radius:.3g}' for radius in smoothing_radii])\n",
    "        cb = plt.colorbar(im, cax=self.ax_parent_cb, orientation='vertical', shrink=.9)\n",
    "        cb.ax.tick_params(labelsize='small')\n",
    "        cb.ax.set_ylabel('parent ID')\n",
    "        \n",
    "        \n",
    "        ax = self.ax_lbl\n",
    "        im = ax.imshow(self.label,\n",
    "                       interpolation='nearest', origin='lower',\n",
    "                       cmap=label_cmap, norm=colors.Normalize(vmin=-.5, vmax=n_sources+.5),\n",
    "                      )\n",
    "        ax.set_aspect('auto')\n",
    "        ax.set_yticks(np.arange(smoothing_radii.size), [f'{radius:.3g}' for radius in smoothing_radii])\n",
    "        cb = plt.colorbar(im, cax=self.ax_lbl_cb, orientation='vertical', shrink=.9)\n",
    "        cb.ax.tick_params(labelsize='small')\n",
    "        cb.ax.set_ylabel('source ID')\n",
    "\n",
    "        \n",
    "        RL = np.zeros_like(mRL)\n",
    "        indices = np.where(HOT_labels == lbl)\n",
    "        RL[indices] = mRL[indices]\n",
    "\n",
    "        self.ax_im.clear()\n",
    "        im = self.ax_im.imshow(RL,\n",
    "                               interpolation='nearest', origin='lower',\n",
    "                               #cmap='gist_earth', norm=colors.LogNorm(vmin=np.min(RL[RL > 1e3*epsilon])))\n",
    "                               cmap=default_cmap, norm=colors.LogNorm(vmin=np.percentile(mRL[mRL>0], 10), vmax=np.percentile(mRL[mRL>0], 99)),\n",
    "                               #cmap=default_cmap, norm=colors.LogNorm(vmin=np.percentile(RL[RL>0], 1), vmax=np.percentile(RL[RL>0], 99)),\n",
    "                              )\n",
    "        self.ax_im.set_aspect('auto')\n",
    "        cb = plt.colorbar(im, cax=self.ax_cb, orientation='vertical', shrink=.9)\n",
    "        cb.ax.tick_params(labelsize='small')\n",
    "        self.fig.canvas.draw_idle()\n",
    "        \n",
    "\n",
    "        ax = self.ax0\n",
    "        ax.clear()\n",
    "\n",
    "        ax.plot(self.original, 'k-', alpha=.3)\n",
    "        ax.plot(baseline + diffuse_emission + compact_emission, 'b-', alpha=.25)        \n",
    "        ax.plot(baseline + diffuse_estimate, 'g--', alpha=.25)\n",
    "        ax.fill_between(np.arange(data.size), baseline + diffuse_estimate - noise, baseline + diffuse_estimate + noise, color='g', alpha=.1)\n",
    "\n",
    "        ax.plot(np.sum(RL, axis=0) + baseline, 'r-', alpha=.25, label=f'source {lbl} ({true_source[lbl]})')\n",
    "        source_fraction = get_source_model(mRL, HOT_labels, lbl) / (compact_emission + diffuse_emission)\n",
    "        ax.plot(baseline + diffuse_estimate + residual * source_fraction, 'r--',\n",
    "                label=f'area={source_area[lbl]:.3g} mean={mean_residual[lbl]:.3g} S/N={source_SN[lbl]:.1f}')\n",
    "        ax.plot((baseline + diffuse_estimate) * source_fraction, 'g--')\n",
    "        ax.plot(baseline + (compact_emission + diffuse_emission) * source_fraction, 'k-')\n",
    "\n",
    "        ax.legend()\n",
    "        ax.xaxis.set_minor_locator(AutoMinorLocator())\n",
    "        ax.yaxis.set_minor_locator(AutoMinorLocator())\n",
    "        ax.tick_params(which='both', bottom=True, top=True, left=True, right=True)\n",
    "        ax.tick_params(which='major', direction='inout', length=8, grid_alpha=.3)\n",
    "        ax.tick_params(which='minor', direction='in', length=2, grid_alpha=.1)\n",
    "        ax.grid(True, which='both')\n",
    "        #ax.set_yscale('log')\n",
    "        ax.set_ylim(.9*self.data_offset, 3e5)\n",
    "        ax.set_xlim(xlim)\n",
    "        ax.set_ylim(ylim)\n",
    "        #self.ax0.set_xlim(5000, 5300)\n",
    "\n",
    "\n",
    "if len(data.shape) == 1:\n",
    "    estimate = np.empty_like(mRL)\n",
    "    for i, radius in enumerate(smoothing_radii):\n",
    "        estimate[i] = ndimage.gaussian_filter(mRL[i], radius)\n",
    "    estimate = np.sum(estimate, axis=0)\n",
    "\n",
    "    #for i, radius in enumerate(smoothing_radii):\n",
    "    #     mRL[i] *= ndimage.gaussian_filter((boosted_data+epsilon) / (estimate+epsilon), radius)\n",
    "    #RL = np.nansum(mRL, axis=0)\n",
    "    #SSF_amplitude = np.nanmedian(mRL/RL[np.newaxis, :], axis=1)\n",
    "    #print(rms_residual)\n",
    "    x = Explore_lbl_1D(object_name, data, estimate, HOT_labels, HOT_parent)"
   ]
  },
  {
   "cell_type": "markdown",
   "id": "90ddc7ce-701a-47cf-874b-2f841a8de8db",
   "metadata": {},
   "source": [
    "# --- OLD STUFF ---"
   ]
  },
  {
   "cell_type": "code",
   "execution_count": null,
   "id": "4fbc8882-95f7-44d0-b40e-49ab759581a7",
   "metadata": {},
   "outputs": [],
   "source": [
    "'''\n",
    "fig_name = 'bg_test'\n",
    "plt.close(fig_name)\n",
    "fig = plt.figure(fig_name, figsize=(12,4))\n",
    "axes = fig.subplots(nrows=1, ncols=1, squeeze=False)\n",
    "fig.suptitle(fig_name)\n",
    "fig.set_tight_layout(True)\n",
    "\n",
    "\n",
    "ax = axes[0, 0]\n",
    "ax.xaxis.set_minor_locator(AutoMinorLocator())\n",
    "ax.yaxis.set_minor_locator(AutoMinorLocator())\n",
    "ax.tick_params(which='both', bottom=True, top=True, left=True, right=True)\n",
    "ax.tick_params(which='major', direction='inout', length=8, grid_alpha=.3)\n",
    "ax.tick_params(which='minor', direction='in', length=2, grid_alpha=.1)\n",
    "ax.grid(True, which='both')\n",
    "\n",
    "ax.plot(true_signal, 'g-', alpha=.3)\n",
    "ax.plot(data, 'k-', alpha=.2)\n",
    "#ax.axhline(data_offset, c='r', ls=':', alpha=.5)\n",
    "ax.plot(baseline, 'y-', alpha=.5)\n",
    "ax.plot(baseline + residual_above_bg, 'y:', alpha=.5)\n",
    "ax.fill_between(np.arange(data.size), baseline, baseline+2*residual_above_bg, color='y', alpha=.1)\n",
    "\n",
    "\n",
    "ax.set_xlabel('pixel')\n",
    "#ax.set_xlim(5900, 6300)\n",
    "ax.set_ylim(np.min(baseline-residual_above_bg), np.max(baseline+4*residual_above_bg)*1.1)\n",
    "\n",
    "plt.show()\n",
    "'''\n",
    ","
   ]
  },
  {
   "cell_type": "code",
   "execution_count": null,
   "id": "adea0e47-1f8a-48c6-9457-87ffc093e35b",
   "metadata": {},
   "outputs": [],
   "source": [
    "'''\n",
    "estimate = baseline + np.sum(mRL, axis=0)\n",
    "index_minima = scripts.diffuse_emission.find_minima(estimate)\n",
    "\n",
    "minima = estimate[index_minima] - baseline[index_minima]\n",
    "p16, p50 = np.nanpercentile(minima, [16, 50])\n",
    "mu0 = p50\n",
    "var0 = (p50 - p16)**2\n",
    "weight = np.exp(-.5 * (minima - mu0)**2 / var0)\n",
    "total_weight = np.nansum(weight)\n",
    "mu1 = np.nansum(weight * minima) / total_weight\n",
    "var1 = np.nansum(weight * (minima- mu1)**2) / total_weight\n",
    "var = 1 / (1/var1 - 1/var0)\n",
    "mu = var * (mu1/var1 - mu0/var0)\n",
    "diffuse_offset = mu\n",
    "print(diffuse_offset, np.sqrt(var))\n",
    "'''\n",
    ","
   ]
  },
  {
   "cell_type": "code",
   "execution_count": null,
   "id": "fe7015be-1a4a-4e29-b4a2-cb9c3a7fe06f",
   "metadata": {},
   "outputs": [],
   "source": [
    "'''\n",
    "importlib.reload(scripts.multiscale_RL)\n",
    "\n",
    "n_iter = 0\n",
    "model = data\n",
    "mean_below = 0\n",
    "while n_iter < 10 and mean_residual > mean_below:\n",
    "    n_iter += 1\n",
    "    compact_scale, diffuse_scale, baseline, residual_above_bg = scripts.diffuse_emission.run(model, max_iter=14)\n",
    "    smoothing_radii = np.array([1, compact_scale, diffuse_scale])\n",
    "    print(f'--- {n_iter} --- {compact_scale}, {diffuse_scale}')\n",
    "    \n",
    "    mRL = scripts.multiscale_RL.run((model - baseline).clip(min=0), smoothing_radii, .01)\n",
    "    compact_emission = ndimage.gaussian_filter(mRL[0], 1) + ndimage.gaussian_filter(mRL[1], compact_scale)\n",
    "    diffuse_residual = ndimage.gaussian_filter(mRL[2], diffuse_scale)\n",
    "    diffuse_emission = baseline + diffuse_residual\n",
    "    model = compact_emission + diffuse_emission\n",
    "    total = np.nansum(data - baseline)\n",
    "    mean_residual = np.nanmean(diffuse_residual)\n",
    "    mean_below = np.sqrt(np.nanmean(((baseline - data)**2)[data < baseline]))\n",
    "    print(np.nansum(compact_emission)/total, mean_residual, mean_below)\n",
    "'''\n",
    ","
   ]
  },
  {
   "cell_type": "markdown",
   "id": "35012a6c-9c7e-4a52-95b2-031628a01062",
   "metadata": {},
   "source": [
    "## Individual sources"
   ]
  },
  {
   "cell_type": "markdown",
   "id": "821387f7-7ebf-40cc-a64f-1b36660ed87d",
   "metadata": {},
   "source": [
    "RL_flux = np.zeros(n_sources+1)\n",
    "RL_compact_flux = np.zeros(n_sources+1)\n",
    "RL_diffuse_flux = np.zeros(n_sources+1)\n",
    "RL_variance = np.zeros(n_sources+1)\n",
    "np.add.at(RL_flux, HOT_labels, mRL)\n",
    "np.add.at(RL_compact_flux, HOT_labels[0], np.max(mRL, axis=0))\n",
    "#np.add.at(RL_diffuse_flux, HOT_labels[1], mRL[1])\n",
    "np.add.at(RL_diffuse_flux, HOT_labels[0], np.min(mRL, axis=0))  # dirty hack?\n",
    "np.add.at(RL_variance, HOT_labels[0], noise**2)\n"
   ]
  },
  {
   "cell_type": "markdown",
   "id": "bc8a193a-5abb-4929-8c55-2210be14a706",
   "metadata": {},
   "source": [
    "sorted_by_flux = np.argsort(RL_compact_flux)\n",
    "RL_background = np.sum(mRL, axis=0)\n",
    "RL_sources = np.zeros_like(data)\n",
    "model = ndimage.gaussian_filter(RL_background, diffuse_scale)\n",
    "#chi2 = np.sqrt(np.nanmean(((data - background - model) / noise)**2))\n",
    "chi2 = np.nanmean(((data - background - model) / noise)**2)\n",
    "print(chi2, 1+1/np.sqrt(data.size))\n",
    "for lbl in sorted_by_flux[::-1]:\n",
    "    old_chi2 = chi2\n",
    "    indices = np.where(HOT_labels[0] == lbl)\n",
    "    RL_this_source = np.fmax(mRL[0][indices], mRL[1][indices])\n",
    "    RL_sources[indices] += RL_this_source\n",
    "    RL_background[indices] -= RL_this_source\n",
    "    #RL_sources[indices] += mRL[0][indices]\n",
    "    #RL_background[indices] -= mRL[0][indices]\n",
    "    #indices = np.where(HOT_labels[1] == lbl)\n",
    "    #RL_sources[indices] += mRL[1][indices]\n",
    "    #RL_background[indices] -= mRL[1][indices]\n",
    "    model = ndimage.gaussian_filter(RL_background, smoothing_radii[1])\n",
    "    model += ndimage.gaussian_filter(RL_sources, smoothing_radii[0])\n",
    "    chi2 = np.sqrt(np.nanmean(((data - background - model) / noise)**2))\n",
    "    print(lbl, RL_compact_flux[lbl], chi2)\n",
    "    #if chi2 > old_chi2:\n",
    "    #    break"
   ]
  },
  {
   "cell_type": "markdown",
   "id": "7d7902d0-030f-4496-bb7f-0ce2e2eeda56",
   "metadata": {},
   "source": [
    "sorted_by_flux = np.argsort(RL_compact_flux)\n",
    "true_source = np.zeros_like(HOT_parent, dtype=bool)\n",
    "true_source[sorted_by_flux] = np.cumsum(RL_compact_flux[sorted_by_flux]) > RL_flux_threshold"
   ]
  },
  {
   "cell_type": "markdown",
   "id": "5e271b2f-976b-4bff-8f64-daf508603df9",
   "metadata": {},
   "source": [
    "#RL_flux_threshold = np.sum((mRL[1] - mRL[0])[mRL[0] < mRL[1]])\n",
    "#sorted_by_flux = np.argsort(RL_compact_flux - RL_diffuse_flux)\n",
    "RL_flux_threshold = np.sum(compact_emission + diffuse_emission - diffuse_estimate)\n",
    "sorted_by_flux = np.argsort(RL_flux)"
   ]
  },
  {
   "cell_type": "markdown",
   "id": "cb5123dd-cd66-4538-be40-e698d2f24b72",
   "metadata": {},
   "source": [
    "true_source = np.zeros_like(HOT_parent, dtype=bool)\n",
    "true_source[sorted_by_flux[::-1]] = np.cumsum(RL_flux[sorted_by_flux[::-1]]) <= RL_flux_threshold"
   ]
  },
  {
   "cell_type": "markdown",
   "id": "5ceb7875-5e43-48b2-bb2e-ab3577015d0e",
   "metadata": {},
   "source": [
    "np.sum(mRL[1]), true_source"
   ]
  },
  {
   "cell_type": "markdown",
   "id": "ccea6aca-a807-4319-9e08-27a8675c86cb",
   "metadata": {},
   "source": [
    "RL_background = np.zeros_like(data)\n",
    "RL_background[~true_source[HOT_labels[0]]] = mRL[0][~true_source[HOT_labels[0]]]\n",
    "#RL_background[~true_source[HOT_labels[1]]] += mRL[1][~true_source[HOT_labels[1]]]\n",
    "\n",
    "RL_sources = np.zeros_like(data)\n",
    "RL_sources[true_source[HOT_labels[0]]] = mRL[0][true_source[HOT_labels[0]]]\n",
    "RL_sources[true_source[HOT_labels[1]]] += mRL[1][true_source[HOT_labels[1]]]\n"
   ]
  },
  {
   "cell_type": "markdown",
   "id": "95665ca1-c712-4016-924f-2b21ccce7cb4",
   "metadata": {},
   "source": [
    "np.sum(mRL), np.sum(RL_sources), np.sum(RL_background), np.sum(RL_sources + RL_background)"
   ]
  },
  {
   "cell_type": "markdown",
   "id": "cb9d1613-9250-451d-9e0b-4d53d0047258",
   "metadata": {},
   "source": [
    "RL_compact_flux[true_source]"
   ]
  },
  {
   "cell_type": "markdown",
   "id": "e66c23c6-168d-400a-8d8a-3ba41a13dbfd",
   "metadata": {},
   "source": [
    "fig, axes = new_figure('source_flux', nrows=3, figsize=(12, 8))\n",
    "\n",
    "ax = axes[0, 0]\n",
    "ax.plot(RL_compact_flux[sorted_by_flux], np.sqrt(2*np.cumsum(RL_variance[sorted_by_flux])), 'r--')\n",
    "ax.plot(RL_compact_flux[sorted_by_flux], np.cumsum(RL_compact_flux[sorted_by_flux]), 'b-')\n",
    "ax.plot(RL_compact_flux[sorted_by_flux], np.cumsum(RL_diffuse_flux[sorted_by_flux]), 'r-')\n",
    "ax.plot(RL_compact_flux[sorted_by_flux], np.cumsum((RL_compact_flux - RL_diffuse_flux)[sorted_by_flux]), 'k-')\n",
    "ax.plot(RL_compact_flux[sorted_by_flux], np.cumsum((RL_compact_flux - RL_diffuse_flux)[sorted_by_flux]) - np.sqrt(2*np.cumsum(RL_variance[sorted_by_flux])), 'k:')\n",
    "ax.axhline(np.sum(mRL[1]), c='b', ls=':')\n",
    "ax.axhline(RL_flux_threshold, c='k', ls='--')\n",
    "#ax.axhline(np.sum(mRL[0]-mRL[1]), c='orange')\n",
    "ax.plot(RL_compact_flux[sorted_by_flux], np.cumsum(RL_diffuse_flux[sorted_by_flux]) + np.sqrt(np.cumsum(RL_variance[sorted_by_flux])), c='r', ls=':')\n",
    "ax.plot(RL_compact_flux[sorted_by_flux], np.cumsum(RL_compact_flux[sorted_by_flux]) - np.sqrt(np.cumsum(RL_variance[sorted_by_flux])), c='b', ls=':')\n",
    "\n",
    "ax = axes[1, 0]\n",
    "ax.plot(RL_compact_flux[~true_source], RL_diffuse_flux[~true_source], 'ro')\n",
    "ax.plot(RL_compact_flux[true_source], RL_diffuse_flux[true_source], 'co')\n",
    "for i in range(n_sources+1):\n",
    "    ax.text(RL_compact_flux[i], RL_diffuse_flux[i], i, fontsize='x-small', clip_on=True)\n",
    "ax.plot([0, np.max(RL_compact_flux)], [0, np.max(RL_compact_flux)], 'k--')\n",
    "\n",
    "ax = axes[2, 0]\n",
    "ax.plot(RL_compact_flux[~true_source], RL_compact_flux[~true_source] / np.sqrt(RL_variance[~true_source]), 'ro')\n",
    "ax.plot(RL_compact_flux[true_source], RL_compact_flux[true_source] / np.sqrt(RL_variance[true_source]), 'co')\n",
    "for i in range(n_sources+1):\n",
    "    ax.text(RL_compact_flux[i], RL_compact_flux[i] / np.sqrt(RL_variance[i]), i, fontsize='x-small', clip_on=True)\n"
   ]
  },
  {
   "cell_type": "markdown",
   "id": "c48bc52b-c460-4253-bf3d-215cc6c62c4c",
   "metadata": {},
   "source": [
    "#raise -1"
   ]
  },
  {
   "cell_type": "markdown",
   "id": "f559049b-0f25-4411-90e3-f49bbb9012e9",
   "metadata": {},
   "source": [
    "def get_mRL_inpaint(mRL, labels, target):\n",
    "    raise -1\n",
    "\n",
    "\n",
    "def get_mRL_inpaint_OLD(mRL, labels, target):\n",
    "\n",
    "    mRL_target = np.zeros_like(mRL)\n",
    "    indices = np.where(labels == target)\n",
    "    mRL_target[indices] = mRL[indices]\n",
    "    #print(f'mRL {target} (area = {len(indices[0])}): {np.nanmax(mRL_target)} {np.nanmax(mRL[indices])}')\n",
    "\n",
    "    radius = np.sqrt(mRL.shape[0])\n",
    "    inpaint_map = np.where(mRL_target > 0, 1., 0.)  # object mask\n",
    "    if len(inpaint_map[0]) > 0:\n",
    "        inpaint_map = ndimage.gaussian_filter(inpaint_map, radius)  # interpolation weight\n",
    "        inpaint_map = np.where(inpaint_map > 0, inpaint_map, np.nan)  # to prevent division by zero\n",
    "        inpaint_map = ndimage.gaussian_filter(mRL_target, radius) / inpaint_map\n",
    "    else:\n",
    "        inpaint_map = mRL_target\n",
    "\n",
    "    return mRL_target, np.fmin(inpaint_map, mRL)\n",
    "\n",
    "\n",
    "def get_individual_mRL_OLD(mRL, labels, parent, target):\n",
    "\n",
    "    mRL_target, inpaint_map = get_mRL_inpaint(mRL, labels, target)\n",
    "    #print(f'mRL {target}: {np.nanmax(mRL_target)}')\n",
    "    \n",
    "    # compute contribution to descendants:\n",
    "    progenitor = np.array(parent[labels])\n",
    "    if parent[target] == target:\n",
    "        indices = np.where(labels == target)\n",
    "        progenitor[indices] = 0\n",
    "    n_found = 1\n",
    "    while n_found > 0:\n",
    "        indices = np.where(progenitor == target)\n",
    "        n_found = len(indices[0])\n",
    "        #print(f'{n_found} values painted for {target} ({np.unique(parent[progenitor][indices])})')\n",
    "        #print(f'{np.unique(labels[indices])}')\n",
    "        #print(f'{parent[np.unique(labels[indices])]}')\n",
    "        mRL_target[indices] = inpaint_map[indices]\n",
    "        progenitor[indices] = 0\n",
    "        progenitor = parent[progenitor]\n",
    "\n",
    "    # remove contribution from ancestors:\n",
    "    inpaint_map = get_mRL_inpaint(mRL, labels, parent[target])[1]\n",
    "    indices = np.where(labels == target)\n",
    "    #print(f'Removing {parent[target]} from {target}: {np.nanmax(mRL_target[indices])} {np.nanmax(inpaint_map[indices])}')\n",
    "    mRL_target[indices] -= inpaint_map[indices]\n",
    "\n",
    "    return mRL_target\n",
    "\n",
    "\n",
    "def get_individual_mRL_another(mRL, labels, parent, target):\n",
    "\n",
    "    mRL_target = np.zeros_like(mRL)\n",
    "    indices = np.where(labels == target)\n",
    "    mRL_target[indices] = mRL[indices] - HOT_bg[target]\n",
    "    # add descendants background:\n",
    "    progenitor = np.array(parent[labels])\n",
    "    if parent[target] == target:\n",
    "        indices = np.where(labels == target)\n",
    "        progenitor[indices] = 0\n",
    "        mRL_target[indices] += HOT_bg[target]\n",
    "    n_found = 1\n",
    "    while n_found > 0:\n",
    "        indices = np.where(progenitor == target)\n",
    "        n_found = len(indices[0])\n",
    "        #print(f'{n_found} values painted for {target} ({np.unique(parent[progenitor][indices])})')\n",
    "        #print(f'{np.unique(labels[indices])}')\n",
    "        #print(f'{parent[np.unique(labels[indices])]}')\n",
    "        mRL_target[indices] = HOT_bg[labels][indices]\n",
    "        progenitor[indices] = 0\n",
    "        progenitor = parent[progenitor]\n",
    "        n_found = 0  # only one generation\n",
    "    '''\n",
    "    '''\n",
    "\n",
    "def get_individual_mRL(mRL, labels, parent, target):\n",
    "\n",
    "    mRL_target = np.zeros_like(mRL)\n",
    "    indices = np.where(labels == target)\n",
    "    mRL_target[indices] = mRL[indices]\n",
    "\n",
    "    return mRL_target"
   ]
  },
  {
   "cell_type": "code",
   "execution_count": null,
   "id": "2b22a588-c824-4c5c-8832-6cd0c083224c",
   "metadata": {},
   "outputs": [],
   "source": []
  }
 ],
 "metadata": {
  "kernelspec": {
   "display_name": "Python 3 (ipykernel)",
   "language": "python",
   "name": "python3"
  },
  "language_info": {
   "codemirror_mode": {
    "name": "ipython",
    "version": 3
   },
   "file_extension": ".py",
   "mimetype": "text/x-python",
   "name": "python",
   "nbconvert_exporter": "python",
   "pygments_lexer": "ipython3",
   "version": "3.8.10"
  },
  "toc-autonumbering": false,
  "toc-showcode": false,
  "toc-showmarkdowntxt": false
 },
 "nbformat": 4,
 "nbformat_minor": 5
}
