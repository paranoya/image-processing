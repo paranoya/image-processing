{
 "cells": [
  {
   "cell_type": "markdown",
   "id": "e6589599",
   "metadata": {},
   "source": [
    "# Source finding demo\n",
    "\n",
    "## 1. Initialisation\n",
    "\n",
    "### imports:"
   ]
  },
  {
   "cell_type": "code",
   "execution_count": 1,
   "id": "5629f632",
   "metadata": {},
   "outputs": [],
   "source": [
    "%matplotlib ipympl\n",
    "from matplotlib import pyplot as plt\n",
    "from matplotlib import colors\n",
    "import numpy as np\n",
    "from scipy.special import erf\n",
    "from scipy.special import erfinv\n",
    "from scipy.spatial import ConvexHull\n",
    "from astropy.io import fits\n",
    "from time import time as time\n",
    "\n",
    "from numba import njit\n",
    "from photutils import segmentation as segm\n",
    "\n",
    "import fabada as f"
   ]
  },
  {
   "cell_type": "markdown",
   "id": "20db26e6",
   "metadata": {},
   "source": [
    "## 2. Read data\n",
    "\n",
    "### select one dataset:"
   ]
  },
  {
   "cell_type": "code",
   "execution_count": 2,
   "id": "2a5a9036",
   "metadata": {},
   "outputs": [],
   "source": [
    "dataset = 2"
   ]
  },
  {
   "cell_type": "code",
   "execution_count": 68,
   "id": "d1748d04-ac2d-4a6d-8119-b00ff8416fce",
   "metadata": {},
   "outputs": [],
   "source": [
    "plots = True"
   ]
  },
  {
   "cell_type": "code",
   "execution_count": 4,
   "id": "e9d323ca-aaf9-4468-b364-b890a37f1078",
   "metadata": {},
   "outputs": [],
   "source": [
    "plots = False"
   ]
  },
  {
   "cell_type": "markdown",
   "id": "d16b63fa",
   "metadata": {},
   "source": [
    "1D spectra"
   ]
  },
  {
   "cell_type": "markdown",
   "id": "1fe3d2d1",
   "metadata": {},
   "source": [
    "2D images:"
   ]
  },
  {
   "cell_type": "code",
   "execution_count": 5,
   "id": "909e6345",
   "metadata": {},
   "outputs": [],
   "source": [
    "if dataset == 1:\n",
    "    hdu = fits.open('data/hcg44_cube_R.fits')\n",
    "    data = hdu[0].data[69]*1.  # to make sure it's converted to float\n",
    "    #data = hdu[0].data[:, 270, :]*1.\n",
    "    #data = hdu[0].data[:, 170, :]*1.\n",
    "    #data = hdu[0].data[99]*1."
   ]
  },
  {
   "cell_type": "code",
   "execution_count": 6,
   "id": "98cc1756",
   "metadata": {},
   "outputs": [],
   "source": [
    "if dataset == 2:\n",
    "    hdu = fits.open('data/CIG_335.fits')\n",
    "    data = hdu[0].data[3000:4000, 1500:2500] * 1.  # to make sure it's converted to float"
   ]
  },
  {
   "cell_type": "markdown",
   "id": "de530b9b",
   "metadata": {},
   "source": [
    "3D datacubes:"
   ]
  },
  {
   "cell_type": "code",
   "execution_count": 7,
   "id": "31bda729",
   "metadata": {},
   "outputs": [],
   "source": [
    "if dataset == 3:\n",
    "    hdu = fits.open('data/hcg44_cube_R.fits')\n",
    "    data = hdu[0].data *1.  # to make sure it's converted to float\n"
   ]
  },
  {
   "cell_type": "code",
   "execution_count": 8,
   "id": "0ca1879e-bf71-41cb-be17-732e38604912",
   "metadata": {},
   "outputs": [],
   "source": [
    "if dataset == 4:\n",
    "    hdu = fits.open('data/sofiawsrtcube.fits')\n",
    "    data = hdu[0].data *1.  # to make sure it's converted to float\n"
   ]
  },
  {
   "cell_type": "markdown",
   "id": "6cd8cb2a",
   "metadata": {},
   "source": [
    "### visual inspection:"
   ]
  },
  {
   "cell_type": "code",
   "execution_count": 9,
   "id": "5785684e",
   "metadata": {},
   "outputs": [],
   "source": [
    "data_dimensionality = len(data.shape)"
   ]
  },
  {
   "cell_type": "code",
   "execution_count": 10,
   "id": "e7f283c6",
   "metadata": {},
   "outputs": [],
   "source": [
    "if plots and data_dimensionality == 2:\n",
    "    plt.close('data')\n",
    "    fig = plt.figure('data')\n",
    "    ax = fig.subplots()\n",
    "\n",
    "    dmin, dmed, dmax = np.nanpercentile(data, [16, 50, 100])\n",
    "    im = ax.imshow(data,\n",
    "                   interpolation='nearest', origin='lower', cmap='nipy_spectral',\n",
    "                   norm=colors.SymLogNorm(vmin=dmin, linthresh=dmed-dmin, vmax=dmax),\n",
    "                  )\n",
    "    ax.set_title('Input data')\n",
    "    cb = fig.colorbar(im, ax=ax)\n",
    "    plt.show()"
   ]
  },
  {
   "cell_type": "code",
   "execution_count": 11,
   "id": "0cd611ff",
   "metadata": {},
   "outputs": [],
   "source": [
    "if plots and data_dimensionality == 3:\n",
    "    plt.close('data')\n",
    "    fig = plt.figure('data', figsize=(9, 9))\n",
    "    ax = fig.subplots(nrows=2, ncols=2, squeeze=False,\n",
    "                      sharex='col', sharey='row',\n",
    "                      gridspec_kw={'hspace': 0, 'wspace': 0}\n",
    "                     )\n",
    "\n",
    "    #lo = np.nanpercentile(data, 70)\n",
    "    #hi = np.nanpercentile(data, 99)\n",
    "    lo = -.1\n",
    "    hi = .1\n",
    "    rms = np.sqrt(np.nanmean(data**2))\n",
    "    #colour_scale = colors.SymLogNorm(vmin=0, linthresh=rms/np.sqrt(np.mean(data.shape)), vmax=np.nanmax(data))\n",
    "    colour_scale = colors.SymLogNorm(vmin=0, linthresh=1, vmax=10)\n",
    "    \n",
    "    im = ax[0, 0].imshow(np.sqrt(np.nanmean(data**2, axis=0))/rms-1,\n",
    "                         interpolation='nearest', origin='lower', cmap='terrain',\n",
    "                         #norm=colour_scale,\n",
    "                         vmin=lo, vmax=hi,\n",
    "                  )\n",
    "    ax[0, 0].set_title('Input data (rms value along specral axis)')\n",
    "\n",
    "    im = ax[0, 1].imshow(np.sqrt(np.nanmean(data**2, axis=2)).T/rms-1,\n",
    "                         interpolation='nearest', origin='lower', cmap='terrain',\n",
    "                         #norm=colour_scale,\n",
    "                         vmin=lo, vmax=hi,\n",
    "                  )\n",
    "    #ax[0, 1].set_aspect('auto')\n",
    "    \n",
    "    im = ax[1, 0].imshow(np.sqrt(np.nanmean(data**2, axis=1))/rms-1,\n",
    "                         interpolation='nearest', origin='lower', cmap='terrain',\n",
    "                         #norm=colour_scale,\n",
    "                         vmin=lo, vmax=hi,\n",
    "                  )\n",
    "    #ax[1, 0].set_aspect('auto')\n",
    "    \n",
    "    for axis in ax.flatten():\n",
    "        axis.tick_params(which='both', direction='in')\n",
    "        axis.grid(alpha=.5)\n",
    "        axis.set_aspect('auto')\n",
    "    fig.set_tight_layout(True)\n",
    "    \n",
    "    cb = fig.colorbar(im, ax=ax[1, 1])\n",
    "    ax[1, 1].set_visible(False)\n",
    "    plt.show()"
   ]
  },
  {
   "cell_type": "markdown",
   "id": "926afce1",
   "metadata": {},
   "source": [
    "## 3. Find mode\n",
    "\n",
    "### number density and cumulative fraction:"
   ]
  },
  {
   "cell_type": "code",
   "execution_count": 12,
   "id": "3345d901",
   "metadata": {},
   "outputs": [
    {
     "name": "stdout",
     "output_type": "stream",
     "text": [
      "time elapsed: 0.1284637451171875 s\n"
     ]
    }
   ],
   "source": [
    "t0 = time()\n",
    "flat_data = data.ravel()\n",
    "dummy_argsort = np.argsort(flat_data, axis=None)\n",
    "number_fraction = (np.arange(data.size)+0.5)/data.size\n",
    "print(f'time elapsed: {time()-t0} s')"
   ]
  },
  {
   "cell_type": "markdown",
   "id": "4e946704",
   "metadata": {},
   "source": [
    "I had to downsaple, both for smoothing as well as to avoid numerical problems (CPU time, and even crashes due to the memory required by the plots) "
   ]
  },
  {
   "cell_type": "code",
   "execution_count": 13,
   "id": "1fc826ff",
   "metadata": {},
   "outputs": [
    {
     "name": "stdout",
     "output_type": "stream",
     "text": [
      "Data median: 0.000786\n",
      "First guess of background standard deviation: 0.0013\n",
      "Data subsampled to 1311 linear steps between -0.0049 and 0.0122\n"
     ]
    }
   ],
   "source": [
    "d50 = flat_data[dummy_argsort[data.size//2]]\n",
    "print(f'Data median: {d50:.3g}')\n",
    "bg_std = np.sqrt(np.mean((flat_data[dummy_argsort[:data.size//2]] - d50)**2))\n",
    "print(f'First guess of background standard deviation: {bg_std:.3g}')\n",
    "\n",
    "d_left = flat_data[dummy_argsort[1]]\n",
    "d_right = d50 + 2*(d50-d_left)\n",
    "n_steps = int(100*(d_right-d_left)/bg_std)\n",
    "data_sample = np.linspace(d_left, d_right, n_steps)\n",
    "print(f'Data subsampled to {n_steps} linear steps between {d_left:.3g} and {d_right:.3g}')"
   ]
  },
  {
   "cell_type": "markdown",
   "id": "4d03da7b",
   "metadata": {},
   "source": [
    "Smooth density field (boxcar with $h=\\sigma_{bg}$, i.e. between $x \\pm \\frac{\\sigma_{bg}}{2}$):"
   ]
  },
  {
   "cell_type": "code",
   "execution_count": 14,
   "id": "cfbe911a",
   "metadata": {},
   "outputs": [
    {
     "name": "stdout",
     "output_type": "stream",
     "text": [
      "time elapsed: 0.012628793716430664 s\n"
     ]
    }
   ],
   "source": [
    "t0 = time()\n",
    "h_smooth = bg_std\n",
    "m_left = np.interp(data_sample-h_smooth/2, flat_data[dummy_argsort], number_fraction)\n",
    "m_right = np.interp(data_sample+h_smooth/2, flat_data[dummy_argsort], number_fraction)\n",
    "data_sample_rho_smooth = (m_right-m_left) / h_smooth\n",
    "print(f'time elapsed: {time()-t0} s')"
   ]
  },
  {
   "cell_type": "markdown",
   "id": "1fe47c0a",
   "metadata": {},
   "source": [
    "### density mode:\n",
    "\n",
    "Naive method:"
   ]
  },
  {
   "cell_type": "code",
   "execution_count": 15,
   "id": "fa14d92a",
   "metadata": {},
   "outputs": [
    {
     "name": "stdout",
     "output_type": "stream",
     "text": [
      "Naive mode:0.000439\n",
      "time elapsed: 0.0006518363952636719 s\n"
     ]
    }
   ],
   "source": [
    "t0 = time()\n",
    "data_mode = data_sample[np.argmax(data_sample_rho_smooth)]\n",
    "print(f'Naive mode:{data_mode:.3g}')\n",
    "print(f'time elapsed: {time()-t0} s')"
   ]
  },
  {
   "cell_type": "markdown",
   "id": "2127bef6",
   "metadata": {},
   "source": [
    "More stable:"
   ]
  },
  {
   "cell_type": "code",
   "execution_count": 16,
   "id": "f14a6ffe",
   "metadata": {},
   "outputs": [
    {
     "name": "stdout",
     "output_type": "stream",
     "text": [
      "More stable:0.000467\n",
      "time elapsed: 0.0009992122650146484 s\n"
     ]
    }
   ],
   "source": [
    "t0 = time()\n",
    "weight = data_sample_rho_smooth**10\n",
    "data_mode = np.sum(data_sample*weight) / np.sum(weight)\n",
    "print(f'More stable:{data_mode:.3g}')\n",
    "print(f'time elapsed: {time()-t0} s')"
   ]
  },
  {
   "cell_type": "code",
   "execution_count": 17,
   "id": "179deba3",
   "metadata": {},
   "outputs": [
    {
     "name": "stdout",
     "output_type": "stream",
     "text": [
      "background std=0.00116\n",
      "time elapsed: 0.007244110107421875 s\n"
     ]
    }
   ],
   "source": [
    "t0 = time()\n",
    "bg_std = np.sqrt(np.mean((flat_data[flat_data < data_mode] - data_mode)**2))\n",
    "print(f'background std={bg_std:.3g}')\n",
    "print(f'time elapsed: {time()-t0} s')"
   ]
  },
  {
   "cell_type": "markdown",
   "id": "341da166",
   "metadata": {},
   "source": [
    "## 4. Signal / background classification\n",
    "\n",
    "### compute probability:\n",
    "\n",
    "Asumming that the background intensity is symmetric around $I_0$, which is well traced by the mode,\n",
    "$$ p_{bg}(I > I_0) = \\frac{p(2I_0-I)}{p(I)} ~~;~~ p_{src} = 1 - p_{bg}$$"
   ]
  },
  {
   "cell_type": "code",
   "execution_count": 18,
   "id": "e0b3c141",
   "metadata": {},
   "outputs": [
    {
     "name": "stdout",
     "output_type": "stream",
     "text": [
      "time elapsed: 0.06164741516113281 s\n"
     ]
    }
   ],
   "source": [
    "t0 = time()\n",
    "rho_sym = np.interp(2*data_mode-data_sample, data_sample, data_sample_rho_smooth, left=0)\n",
    "probability_bg = np.clip(rho_sym/data_sample_rho_smooth, 0, 1)\n",
    "dummy_src_probability_map = 1 - np.interp(data, data_sample, probability_bg)\n",
    "print(f'time elapsed: {time()-t0} s')"
   ]
  },
  {
   "cell_type": "markdown",
   "id": "c123e7d9",
   "metadata": {},
   "source": [
    "### estimate threshold:\n",
    "\n",
    "a) The number of background pixels is the same above and below mode:"
   ]
  },
  {
   "cell_type": "code",
   "execution_count": 19,
   "id": "47f780a3",
   "metadata": {},
   "outputs": [
    {
     "name": "stdout",
     "output_type": "stream",
     "text": [
      "412351 (41.2%) pixels below mode\n",
      "826566.3166398421 (82.7%) background pixels; N_background/N_mode=2.0045211885986505\n",
      "173433.68336015788 (17.3%) source pixels; N_pixels-2N_mode=175298\n",
      "Number-based threshold=0.00282, (2.02 sigmas)\n",
      "time elapsed: 0.002514362335205078 s\n"
     ]
    }
   ],
   "source": [
    "t0 = time()\n",
    "N_mode = np.count_nonzero(data < data_mode)\n",
    "N_src = np.sum(dummy_src_probability_map)\n",
    "N_background = data.size - N_src\n",
    "print(f'{N_mode} ({100*N_mode/data.size:.1f}%) pixels below mode')\n",
    "print(f'{N_background} ({100*N_background/data.size:.1f}%) background pixels; N_background/N_mode={N_background/N_mode}')\n",
    "print(f'{data.size-N_background} ({100-100*N_background/data.size:.1f}%) source pixels; N_pixels-2N_mode={data.size-2*N_mode}')\n",
    "\n",
    "number_threshold = flat_data[dummy_argsort[int(N_background)]]\n",
    "print(f'Number-based threshold={number_threshold:.3g}, ({(number_threshold-data_mode)/bg_std:.3g} sigmas)')\n",
    "print(f'time elapsed: {time()-t0} s')"
   ]
  },
  {
   "cell_type": "markdown",
   "id": "4b2f2be7",
   "metadata": {},
   "source": [
    "b) The background flux is the same:"
   ]
  },
  {
   "cell_type": "code",
   "execution_count": 20,
   "id": "d77e2813",
   "metadata": {},
   "outputs": [
    {
     "name": "stdout",
     "output_type": "stream",
     "text": [
      "Total flux: 383 below mode, 1.31e+04 above\n",
      "Flux-based threshold=0.00289 (2.08 sigmas)\n",
      "time elapsed: 0.017999887466430664 s\n"
     ]
    }
   ],
   "source": [
    "t0 = time()\n",
    "total_flux_below_mode = np.sum(data_mode-flat_data[flat_data < data_mode])\n",
    "flux_above_mode = np.cumsum(flat_data[dummy_argsort[N_mode:]]-data_mode)\n",
    "flux_threshold = np.interp(total_flux_below_mode, flux_above_mode, flat_data[dummy_argsort[N_mode:]])\n",
    "print(f'Total flux: {total_flux_below_mode:.3g} below mode, {flux_above_mode[-1]:.3g} above')\n",
    "print(f'Flux-based threshold={flux_threshold:.3g} ({(flux_threshold-data_mode)/bg_std:.3g} sigmas)')\n",
    "print(f'time elapsed: {time()-t0} s')"
   ]
  },
  {
   "cell_type": "markdown",
   "id": "d7c1ab14",
   "metadata": {},
   "source": [
    "c) Below the mode, $p_{src}$ and $p_{bg}$ should be zero and one, respectively. The maximum difference found sets the (un)reliable regime:"
   ]
  },
  {
   "cell_type": "code",
   "execution_count": 21,
   "id": "bf2d9fe7",
   "metadata": {},
   "outputs": [
    {
     "name": "stdout",
     "output_type": "stream",
     "text": [
      "Reliable probabilities: p_src > 0.0054; p_bg < 0.995\n",
      "Probability-based threshold=0.00127 (0.694 sigmas)\n",
      "time elapsed: 0.00040078163146972656 s\n"
     ]
    }
   ],
   "source": [
    "t0 = time()\n",
    "reliable_bg_probability = np.min(probability_bg[data_sample < data_mode])\n",
    "reliable_src_probability = 1 - reliable_bg_probability\n",
    "probability_threshold = np.min(data_sample[probability_bg < reliable_bg_probability])\n",
    "print(f'Reliable probabilities: p_src > {reliable_src_probability:.3g}; p_bg < {reliable_bg_probability:.3g}')\n",
    "print(f'Probability-based threshold={probability_threshold:.3g} ({(probability_threshold-data_mode)/bg_std:.3g} sigmas)')\n",
    "print(f'time elapsed: {time()-t0} s')"
   ]
  },
  {
   "cell_type": "markdown",
   "id": "06e9808a",
   "metadata": {},
   "source": [
    "Now, take the minimum of three:"
   ]
  },
  {
   "cell_type": "code",
   "execution_count": 22,
   "id": "3059bf15",
   "metadata": {},
   "outputs": [],
   "source": [
    "threshold_guess = min([number_threshold, flux_threshold, probability_threshold])\n",
    "delta_th = (threshold_guess - data_mode) / bg_std"
   ]
  },
  {
   "cell_type": "code",
   "execution_count": 23,
   "id": "30b68ac2",
   "metadata": {},
   "outputs": [],
   "source": [
    "colour_scale = colors.SymLogNorm(vmin=d_left, linthresh=threshold_guess, vmax=np.nanmax(data))"
   ]
  },
  {
   "cell_type": "markdown",
   "id": "4cee67a8",
   "metadata": {},
   "source": [
    "### summary plot:"
   ]
  },
  {
   "cell_type": "code",
   "execution_count": 24,
   "id": "5f0bd520",
   "metadata": {},
   "outputs": [],
   "source": [
    "if plots:\n",
    "    plt.close('density')\n",
    "    fig = plt.figure('density')\n",
    "    ax = fig.subplots(nrows=2, ncols=1, squeeze=False,\n",
    "                      sharex='col', sharey='row',\n",
    "                      gridspec_kw={'hspace': 0, 'wspace': 0}\n",
    "                     )\n",
    "    for axis in ax.flatten():\n",
    "        axis.tick_params(which='both', direction='in')\n",
    "        axis.grid(alpha=.5)\n",
    "        axis.set_aspect('auto')\n",
    "        axis.axvline(data_mode, c='k', ls=':')\n",
    "        shade = axis.fill_between(data_sample, 0, 1, where=np.abs(data_sample-data_mode) <= bg_std,\n",
    "                          color='k', alpha=0.2, transform=axis.get_xaxis_transform(),\n",
    "                          label=f'Mode={data_mode:.3g}, bg_std={bg_std:.3g}')\n",
    "        th_line = axis.axvline(threshold_guess, c='k', ls='--')\n",
    "    fig.set_tight_layout(True)\n",
    "\n",
    "    ax[0, 0].set_ylabel('density')\n",
    "    ax[0, 0].set_yscale('log')\n",
    "    ax[0, 0].set_ylim(np.min(data_sample_rho_smooth[data_sample > data_mode]), 2*np.max(data_sample_rho_smooth))\n",
    "    ax[0, 0].plot(data_sample, data_sample_rho_smooth, 'k+')\n",
    "    ax[0, 0].plot(data_sample,\n",
    "                  np.exp(-.5*((data_sample-data_mode)/bg_std)**2) * N_background/data.size/np.sqrt(2*np.pi)/bg_std,\n",
    "                  'k:', label='Gaussian')\n",
    "    ax[0, 0].plot(data_sample, rho_sym, 'r--', label='symmetric')\n",
    "    ax[0, 0].legend()\n",
    "\n",
    "    ax[1, 0].set_ylabel('probability')\n",
    "    ax[1, 0].set_yscale('log')\n",
    "    ax[1, 0].set_ylim(reliable_src_probability, 1.5)\n",
    "    ax[1, 0].plot(data_sample, probability_bg, 'r-',\n",
    "                  label=f'{N_background:.1f} \"background\" values ({100*N_background/data.size:.1f}%)')\n",
    "    ax[1, 0].plot(data_sample, 1-probability_bg, 'b-',\n",
    "                  label=f'{data.size-N_background:.1f} \"signal\" values ({100-100*N_background/data.size:.1f}%)')\n",
    "    shade.set_label('')\n",
    "    th_line.set_label(f'threshold: {threshold_guess:.3g} ({delta_th:.3g} sigmas)')\n",
    "    ax[1, 0].legend()\n",
    "\n",
    "    ax[-1, 0].set_xlabel('data value')\n"
   ]
  },
  {
   "cell_type": "markdown",
   "id": "8fb8ec4d-5ac1-4c75-ba9c-727d2cdb0506",
   "metadata": {},
   "source": [
    "## 5. Noise reduction (FABADA)"
   ]
  },
  {
   "cell_type": "code",
   "execution_count": 25,
   "id": "1db6b54a-4f59-4453-8136-e757d616d4de",
   "metadata": {},
   "outputs": [],
   "source": [
    "#smoothed_data = f.fabada(data, bg_std**2, verbose=True)\n",
    "#smoothed_data = data"
   ]
  },
  {
   "cell_type": "code",
   "execution_count": 32,
   "id": "b83da5ee-3b22-480e-b5a9-0d7c3943fd00",
   "metadata": {},
   "outputs": [
    {
     "name": "stdout",
     "output_type": "stream",
     "text": [
      "iteration 1 (0.01666855812072754 s): residual std=0.354, max=0.847 (expected=4.75)\n",
      "iteration 2 (0.013789176940917969 s): residual std=0.56, max=1.6 (expected=4.75)\n",
      "iteration 3 (0.013907670974731445 s): residual std=0.687, max=2.2 (expected=4.75)\n",
      "iteration 4 (0.02118372917175293 s): residual std=0.765, max=2.62 (expected=4.75)\n",
      "iteration 5 (0.01593017578125 s): residual std=0.812, max=3.07 (expected=4.75)\n",
      "iteration 6 (0.013346433639526367 s): residual std=0.843, max=3.29 (expected=4.75)\n",
      "iteration 7 (0.026270151138305664 s): residual std=0.865, max=3.48 (expected=4.75)\n",
      "iteration 8 (0.014245748519897461 s): residual std=0.882, max=3.64 (expected=4.75)\n",
      "iteration 9 (0.01367330551147461 s): residual std=0.895, max=3.79 (expected=4.75)\n",
      "iteration 10 (0.015449762344360352 s): residual std=0.907, max=4.05 (expected=4.75)\n",
      "iteration 11 (0.013294219970703125 s): residual std=0.917, max=4.37 (expected=4.75)\n",
      "iteration 12 (0.012543439865112305 s): residual std=0.925, max=4.53 (expected=4.75)\n",
      "iteration 13 (0.01226806640625 s): residual std=0.933, max=4.66 (expected=4.75)\n",
      "iteration 14 (0.012763261795043945 s): residual std=0.94, max=4.76 (expected=4.75)\n",
      "time elapsed: 0.2315528392791748 s\n"
     ]
    }
   ],
   "source": [
    "#@njit\n",
    "def fabada_filter(data, noise_std, max_iter=50):\n",
    "    '''\n",
    "    '''\n",
    "    strides = np.array(data.strides)//data.itemsize\n",
    "    flat_data = data.ravel()\n",
    "    filtered_data = np.copy(flat_data)\n",
    "    weighted_sum = np.empty(data.size, dtype=data.dtype)\n",
    "    total_weight = np.empty(data.size, dtype=np.float32)\n",
    "    expected_max_residual = erfinv(1-2/data.size)*np.sqrt(2)    \n",
    "\n",
    "    iteration = 0\n",
    "    while iteration < max_iter:\n",
    "        t0 = time()\n",
    "        np.copyto(weighted_sum, filtered_data)\n",
    "        total_weight.fill(1.)\n",
    "        for stride in strides:\n",
    "            weight = np.exp(-.5*((filtered_data[:-stride]-filtered_data[stride:])/noise_std)**2)\n",
    "            total_weight[:-stride] += weight\n",
    "            total_weight[stride:] += weight\n",
    "            weighted_sum[:-stride] += weight*filtered_data[stride:]\n",
    "            weighted_sum[stride:] += weight*filtered_data[:-stride]\n",
    "        filtered_data = weighted_sum / total_weight\n",
    "        iteration += 1\n",
    "\n",
    "        residual = (flat_data-filtered_data)/noise_std\n",
    "        max_residual = np.max(residual)\n",
    "        print(f'iteration {iteration} ({time()-t0} s):',\n",
    "              f'residual std={np.sqrt(np.mean(residual**2)):.3g},',\n",
    "              f'max={max_residual:.3g} (expected={expected_max_residual:.3g})')\n",
    "        if max_residual > expected_max_residual:\n",
    "            break\n",
    "    \n",
    "    return np.reshape(filtered_data, data.shape)\n",
    "\n",
    "'''\n",
    "'''\n",
    "t0 = time()\n",
    "smoothed_data = fabada_filter(data, bg_std)\n",
    "print(f'time elapsed: {time()-t0} s')\n",
    "hdu_out = fits.PrimaryHDU(smoothed_data)\n",
    "hdu_out.writeto('smoothed_data.fits', overwrite=True)\n"
   ]
  },
  {
   "cell_type": "code",
   "execution_count": 33,
   "id": "10927a49-4b9b-43b0-865f-c245b8c563ca",
   "metadata": {},
   "outputs": [],
   "source": [
    "if plots:\n",
    "    plt.close('filter_plot')\n",
    "    fig = plt.figure('filter_plot', figsize=(5, 4))\n",
    "    ax = fig.subplots(nrows=1, ncols=1, squeeze=False,\n",
    "                      sharex=True, sharey=False,\n",
    "                      gridspec_kw={'hspace': 0}\n",
    "                     )\n",
    "    for axis in ax.flatten():\n",
    "        axis.tick_params(which='both', direction='in')\n",
    "        axis.grid(alpha=.5)\n",
    "    fig.set_tight_layout(True)\n",
    "    \n",
    "    delta_dummy = np.linspace(-5, 5, 101)\n",
    "    expected_above_delta = .5*(1 - erf(delta_dummy/np.sqrt(2)))\n",
    "    ax[0, 0].plot(delta_dummy, np.exp(-.5*delta_dummy**2)/np.sqrt(2*np.pi), 'k--')\n",
    "    ax[0, 0].set_yscale('log')\n",
    "    ax[0, 0].set_ylim(1/data.size, 2)\n",
    "#    ax[1, 0].plot(delta_dummy, expected_above_delta, 'k--')\n",
    "#    ax[1, 0].set_yscale('log')\n",
    "    ax[-1, 0].set_xlabel('$\\Delta$ = (Input - Filtered) / $\\sigma$')\n",
    "    ax[-1, 0].set_xlim(-5, 5)\n",
    "\n",
    "    delta = (data.ravel()-smoothed_data.ravel())/bg_std\n",
    "    ax[0, 0].hist(delta, bins=delta_dummy, density=True, color='b', alpha=.5)\n",
    "    #ax[1, 0].plot(delta[sorted_by_delta[::1000]], observed_above_delta[::1000], 'k-', alpha=iteration/max_iter)\n",
    "    #ax[2, 0].plot(delta[sorted_by_delta], observed_above_delta/expected, 'k-', alpha=iteration/max_iter)\n"
   ]
  },
  {
   "cell_type": "code",
   "execution_count": 34,
   "id": "1bea1e43-8e37-4ad9-802e-e8b2d8125a5c",
   "metadata": {},
   "outputs": [
    {
     "name": "stdout",
     "output_type": "stream",
     "text": [
      "time elapsed: 0.108642578125 s\n"
     ]
    }
   ],
   "source": [
    "t0 = time()\n",
    "flat_smoothed_data = smoothed_data.ravel()\n",
    "#argsort_smoothed_data_ravel = np.argsort(flat_smoothed_data, axis=None)\n",
    "dummy_argsort = np.argsort(flat_smoothed_data, axis=None)  # recycle variable (TODO: look for a name that avoids confusion)\n",
    "print(f'time elapsed: {time()-t0} s')"
   ]
  },
  {
   "cell_type": "markdown",
   "id": "435bda1c-c384-40b0-a66e-544c29c4aed8",
   "metadata": {},
   "source": [
    "I had to downsaple, both for smoothing as well as to avoid numerical problems (CPU time, and even crashes due to the memory required by the plots) "
   ]
  },
  {
   "cell_type": "code",
   "execution_count": 35,
   "id": "d44e1130-b9a1-493e-8750-91e45b330186",
   "metadata": {},
   "outputs": [
    {
     "name": "stdout",
     "output_type": "stream",
     "text": [
      "Data median: 0.000543\n",
      "First guess of background standard deviation: 0.000401\n",
      "Smoothed data subsampled to 1295 linear steps between -0.00447 and 0.0106\n",
      "time elapsed: 0.0036711692810058594 s\n"
     ]
    }
   ],
   "source": [
    "t0 = time()\n",
    "d50 = flat_smoothed_data[dummy_argsort[data.size//2]]\n",
    "print(f'Data median: {d50:.3g}')\n",
    "smoothed_bg_std = np.sqrt(np.mean((flat_smoothed_data[dummy_argsort[:data.size//2]]-d50)**2))\n",
    "print(f'First guess of background standard deviation: {smoothed_bg_std:.3g}')\n",
    "\n",
    "d_left = flat_smoothed_data[dummy_argsort[1]]\n",
    "d_right = d50 + 2*(d50-d_left)\n",
    "n_steps = int(100*(d_right-d_left)/bg_std)\n",
    "smoothed_data_sample = np.linspace(d_left, d_right, n_steps)\n",
    "print(f'Smoothed data subsampled to {n_steps} linear steps between {d_left:.3g} and {d_right:.3g}')\n",
    "print(f'time elapsed: {time()-t0} s')"
   ]
  },
  {
   "cell_type": "markdown",
   "id": "e230048d-a9bb-470f-a28c-3cf735c371fd",
   "metadata": {},
   "source": [
    "Smooth density field (boxcar with $h=\\sigma_{bg}$, i.e. between $x \\pm \\frac{\\sigma_{bg}}{2}$):"
   ]
  },
  {
   "cell_type": "code",
   "execution_count": 36,
   "id": "4363321f-dff3-432e-b1dc-2d9b14c65d14",
   "metadata": {},
   "outputs": [
    {
     "name": "stdout",
     "output_type": "stream",
     "text": [
      "time elapsed: 0.014025688171386719 s\n"
     ]
    }
   ],
   "source": [
    "t0 = time()\n",
    "h_smooth = smoothed_bg_std\n",
    "m_left = np.interp(smoothed_data_sample-h_smooth/2, flat_smoothed_data[dummy_argsort], number_fraction)\n",
    "m_right = np.interp(smoothed_data_sample+h_smooth/2, flat_smoothed_data[dummy_argsort], number_fraction)\n",
    "smoothed_data_sample_rho_smooth = (m_right-m_left) / h_smooth\n",
    "print(f'time elapsed: {time()-t0} s')"
   ]
  },
  {
   "cell_type": "markdown",
   "id": "7be55703-0f5d-445c-be96-64a550b55994",
   "metadata": {},
   "source": [
    "### density mode:\n",
    "\n",
    "Naive method:"
   ]
  },
  {
   "cell_type": "code",
   "execution_count": 37,
   "id": "2beb2f28-f046-4a89-870c-570250c55499",
   "metadata": {},
   "outputs": [
    {
     "name": "stdout",
     "output_type": "stream",
     "text": [
      "Naive mode:0.000294\n"
     ]
    }
   ],
   "source": [
    "smoothed_data_mode = smoothed_data_sample[np.argmax(smoothed_data_sample_rho_smooth)]\n",
    "print(f'Naive mode:{smoothed_data_mode:.3g}')"
   ]
  },
  {
   "cell_type": "markdown",
   "id": "0f8dc5b1-a3b2-48f9-9be0-76a39966ef89",
   "metadata": {},
   "source": [
    "More stable:"
   ]
  },
  {
   "cell_type": "code",
   "execution_count": 38,
   "id": "8131e4a3-31e6-4e48-931a-dde7341ec466",
   "metadata": {},
   "outputs": [
    {
     "name": "stdout",
     "output_type": "stream",
     "text": [
      "More stable:0.000293\n"
     ]
    }
   ],
   "source": [
    "weight = smoothed_data_sample_rho_smooth**10\n",
    "smoothed_data_mode = np.sum(smoothed_data_sample*weight) / np.sum(weight)\n",
    "print(f'More stable:{smoothed_data_mode:.3g}')"
   ]
  },
  {
   "cell_type": "code",
   "execution_count": 39,
   "id": "f40b360f-7e02-49aa-a0f9-f48b7aab5ee8",
   "metadata": {},
   "outputs": [
    {
     "name": "stdout",
     "output_type": "stream",
     "text": [
      "background std=0.000272\n",
      "time elapsed: 0.003092527389526367 s\n"
     ]
    }
   ],
   "source": [
    "t0 = time()\n",
    "smoothed_bg_std = np.sqrt(np.mean((flat_smoothed_data[flat_smoothed_data < smoothed_data_mode]- smoothed_data_mode)**2))\n",
    "print(f'background std={smoothed_bg_std:.3g}')\n",
    "print(f'time elapsed: {time()-t0} s')"
   ]
  },
  {
   "cell_type": "markdown",
   "id": "01fc0a96-6026-41bc-949c-26457d7873fd",
   "metadata": {},
   "source": [
    "## 6. New signal / background classification\n",
    "\n",
    "### compute probability:\n",
    "\n",
    "Asumming that the background intensity is symmetric around $I_0$, which is well traced by the mode,\n",
    "$$ p_{bg}(I > I_0) = \\frac{p(2I_0-I)}{p(I)} ~~;~~ p_{src} = 1 - p_{bg}$$"
   ]
  },
  {
   "cell_type": "code",
   "execution_count": 40,
   "id": "2b23dcdf-9439-48df-a5b0-5fe219db2132",
   "metadata": {},
   "outputs": [
    {
     "name": "stdout",
     "output_type": "stream",
     "text": [
      "time elapsed: 0.037181854248046875 s\n"
     ]
    }
   ],
   "source": [
    "t0 = time()\n",
    "rho_sym = np.interp(2*smoothed_data_mode-smoothed_data_sample, smoothed_data_sample, smoothed_data_sample_rho_smooth, left=0)\n",
    "smoothed_probability_bg = np.clip(rho_sym/smoothed_data_sample_rho_smooth, 0, 1)\n",
    "dummy_src_probability_map = 1 - np.interp(smoothed_data, smoothed_data_sample, smoothed_probability_bg)\n",
    "print(f'time elapsed: {time()-t0} s')"
   ]
  },
  {
   "cell_type": "markdown",
   "id": "30a91eaf-d68b-43e3-95d5-c583ac912010",
   "metadata": {},
   "source": [
    "### estimate threshold:\n",
    "\n",
    "a) The number of background pixels is the same above and below mode:"
   ]
  },
  {
   "cell_type": "code",
   "execution_count": 41,
   "id": "ca4b04fa-7b3c-43dc-aa69-2e10a19dc929",
   "metadata": {},
   "outputs": [
    {
     "name": "stdout",
     "output_type": "stream",
     "text": [
      "310904 (31.1%) pixels below mode\n",
      "620096.7310991219 (62.0%) background pixels; N_background/N_mode=1.9944958286130827\n",
      "379903.26890087815 (38.0%) source pixels; N_pixels-2N_mode=378192\n",
      "Number-based threshold=0.00243, (1.84 sigmas)\n",
      "time elapsed: 0.00222015380859375 s\n"
     ]
    }
   ],
   "source": [
    "t0 = time()\n",
    "N_mode = np.count_nonzero(smoothed_data < smoothed_data_mode)\n",
    "N_src = np.sum(dummy_src_probability_map)\n",
    "N_background = smoothed_data.size-N_src\n",
    "print(f'{N_mode} ({100*N_mode/data.size:.1f}%) pixels below mode')\n",
    "print(f'{N_background} ({100*N_background/data.size:.1f}%) background pixels; N_background/N_mode={N_background/N_mode}')\n",
    "print(f'{data.size-N_background} ({100-100*N_background/data.size:.1f}%) source pixels; N_pixels-2N_mode={data.size-2*N_mode}')\n",
    "\n",
    "number_threshold = flat_data[dummy_argsort[int(N_background)]]\n",
    "print(f'Number-based threshold={number_threshold:.3g}, ({(number_threshold-smoothed_data_mode)/bg_std:.3g} sigmas)')\n",
    "print(f'time elapsed: {time()-t0} s')"
   ]
  },
  {
   "cell_type": "markdown",
   "id": "66b08c2c-0eb9-446c-a387-cae59ea51e10",
   "metadata": {},
   "source": [
    "b) The background flux is the same:"
   ]
  },
  {
   "cell_type": "code",
   "execution_count": 42,
   "id": "8fb96409-4988-442d-8eb3-0f1ac1e5605f",
   "metadata": {},
   "outputs": [
    {
     "name": "stdout",
     "output_type": "stream",
     "text": [
      "Total flux: 67.7 below mode, 1.3e+04 above\n",
      "Flux-based threshold=0.000799 (0.436 sigmas)\n",
      "time elapsed: 0.01362299919128418 s\n"
     ]
    }
   ],
   "source": [
    "t0 = time()\n",
    "total_flux_below_mode = np.sum(smoothed_data_mode-flat_smoothed_data[flat_smoothed_data < smoothed_data_mode])\n",
    "flux_above_mode = np.cumsum(flat_smoothed_data[dummy_argsort[N_mode:]]-smoothed_data_mode)\n",
    "flux_threshold = np.interp(total_flux_below_mode, flux_above_mode, flat_smoothed_data[dummy_argsort[N_mode:]])\n",
    "print(f'Total flux: {total_flux_below_mode:.3g} below mode, {flux_above_mode[-1]:.3g} above')\n",
    "print(f'Flux-based threshold={flux_threshold:.3g} ({(flux_threshold-smoothed_data_mode)/bg_std:.3g} sigmas)')\n",
    "print(f'time elapsed: {time()-t0} s')"
   ]
  },
  {
   "cell_type": "markdown",
   "id": "63c77e29-75a7-4af0-b1cd-4417f1c56a7f",
   "metadata": {},
   "source": [
    "c) Below the mode, $p_{src}$ and $p_{bg}$ should be zero and one, respectively. The maximum difference found sets the (un)reliable regime:"
   ]
  },
  {
   "cell_type": "code",
   "execution_count": 43,
   "id": "1d105628-3c91-44bf-8b47-02e3ad6abe1d",
   "metadata": {},
   "outputs": [
    {
     "name": "stdout",
     "output_type": "stream",
     "text": [
      "Reliable probabilities: p_src > 0.016; p_bg < 0.984\n",
      "Probability-based threshold=0.000515 (0.191 sigmas)\n"
     ]
    }
   ],
   "source": [
    "reliable_bg_probability = np.min(smoothed_probability_bg[smoothed_data_sample < smoothed_data_mode])\n",
    "reliable_src_probability = 1 - reliable_bg_probability\n",
    "probability_threshold = np.min(smoothed_data_sample[smoothed_probability_bg < reliable_bg_probability])\n",
    "print(f'Reliable probabilities: p_src > {reliable_src_probability:.3g}; p_bg < {reliable_bg_probability:.3g}')\n",
    "print(f'Probability-based threshold={probability_threshold:.3g} ({(probability_threshold-smoothed_data_mode)/bg_std:.3g} sigmas)')"
   ]
  },
  {
   "cell_type": "markdown",
   "id": "a5d7d65a-6da0-4bf9-a14a-adbfb75506e4",
   "metadata": {},
   "source": [
    "Now, take the minimum of three:"
   ]
  },
  {
   "cell_type": "code",
   "execution_count": 44,
   "id": "abf98ad3-6a33-4fa0-b461-a0273cf509e3",
   "metadata": {},
   "outputs": [],
   "source": [
    "#smoothed_threshold_guess = probability_threshold\n",
    "smoothed_threshold_guess = min([number_threshold, flux_threshold, probability_threshold])"
   ]
  },
  {
   "cell_type": "markdown",
   "id": "bebb5d2d-6632-4d94-8c9b-a95e2219bc84",
   "metadata": {},
   "source": [
    "### summary plot:"
   ]
  },
  {
   "cell_type": "code",
   "execution_count": 45,
   "id": "9b49600c-5526-4465-8c15-8b45fbd1e936",
   "metadata": {},
   "outputs": [],
   "source": [
    "if plots:\n",
    "    plt.close('smoothed_density')\n",
    "    fig = plt.figure('smoothed_density')\n",
    "    ax = fig.subplots(nrows=2, ncols=1, squeeze=False,\n",
    "                      sharex='col', sharey='row',\n",
    "                      gridspec_kw={'hspace': 0, 'wspace': 0}\n",
    "                     )\n",
    "    for axis in ax.flatten():\n",
    "        axis.tick_params(which='both', direction='in')\n",
    "        axis.grid(alpha=.5)\n",
    "        axis.set_aspect('auto')\n",
    "        axis.axvline(smoothed_data_mode, c='k', ls=':')\n",
    "        shade = axis.fill_between(smoothed_data_sample, 0, 1, where=np.abs(smoothed_data_sample-smoothed_data_mode) <= smoothed_bg_std,\n",
    "                          color='k', alpha=0.2, transform=axis.get_xaxis_transform(),\n",
    "                          label=f'Mode={smoothed_data_mode:.3g}, bg_std={smoothed_bg_std:.3g}')\n",
    "        th_line = axis.axvline(threshold_guess, c='k', ls='--')\n",
    "        smoothed_th_line = axis.axvline(smoothed_threshold_guess, c='k', ls='-.')\n",
    "    fig.set_tight_layout(True)\n",
    "\n",
    "    ax[0, 0].set_ylabel('density')\n",
    "    ax[0, 0].set_yscale('log')\n",
    "    ax[0, 0].set_ylim(np.min(smoothed_data_sample_rho_smooth[smoothed_data_sample > smoothed_data_mode]), 2*np.max(smoothed_data_sample_rho_smooth))\n",
    "    ax[0, 0].plot(smoothed_data_sample, smoothed_data_sample_rho_smooth, 'k+')\n",
    "    ax[0, 0].plot(smoothed_data_sample,\n",
    "                  np.exp(-.5*((smoothed_data_sample-smoothed_data_mode)/smoothed_bg_std)**2) * N_background/data.size/np.sqrt(2*np.pi)/smoothed_bg_std,\n",
    "                  'k:', label='Gaussian')\n",
    "    ax[0, 0].plot(smoothed_data_sample, rho_sym, 'r--', label='symmetric')\n",
    "    ax[0, 0].legend()\n",
    "\n",
    "    ax[1, 0].set_ylabel('probability')\n",
    "    ax[1, 0].set_yscale('log')\n",
    "    ax[1, 0].set_ylim(reliable_src_probability, 1.5)\n",
    "    ax[1, 0].plot(smoothed_data_sample, smoothed_probability_bg, 'r-',\n",
    "                  label=f'{N_background:.1f} \"background\" values ({100*N_background/data.size:.1f}%)')\n",
    "    ax[1, 0].plot(smoothed_data_sample, 1-smoothed_probability_bg, 'b-',\n",
    "                  label=f'{data.size-N_background:.1f} \"signal\" values ({100-100*N_background/data.size:.1f}%)')\n",
    "    shade.set_label('')\n",
    "    th_line.set_label(f'threshold: {threshold_guess:.3g} ({delta_th:.3g} sigmas)')\n",
    "    smoothed_th_line.set_label(f'smoothed threshold: {smoothed_threshold_guess:.3g} ({(smoothed_threshold_guess-smoothed_data_mode)/bg_std:.3g}) sigmas')\n",
    "    ax[1, 0].legend()\n",
    "\n",
    "    ax[-1, 0].set_xlabel('smoothed data value')\n"
   ]
  },
  {
   "cell_type": "code",
   "execution_count": 46,
   "id": "1b76303e-a78a-484b-9f9c-a38ad308f94c",
   "metadata": {},
   "outputs": [],
   "source": [
    "if plots and data_dimensionality == 2:\n",
    "    plt.close('bg_map')\n",
    "    fig = plt.figure('bg_map', figsize=(10, 8))\n",
    "    ax = fig.subplots(nrows=2, ncols=2, squeeze=False,\n",
    "                      sharex=True, sharey=True,\n",
    "                      gridspec_kw={'wspace': 0})\n",
    "    for axis in ax.flatten():\n",
    "        axis.tick_params(which='both', direction='in')\n",
    "        axis.grid(alpha=.5)\n",
    "    fig.set_tight_layout(True)\n",
    "\n",
    "    ax[0, 0].set_title('Data')\n",
    "    im = ax[0, 0].imshow(\n",
    "        data,\n",
    "        interpolation='nearest', origin='lower', cmap='nipy_spectral', norm = colour_scale,\n",
    "        )\n",
    "    ax[0, 0].contour(smoothed_data, levels=[smoothed_threshold_guess, threshold_guess], colors=['w', 'k'])\n",
    "    cb = fig.colorbar(im, ax=ax[0, 0])\n",
    "    cb.ax.axhline(threshold_guess, c='k', ls='--')\n",
    "    cb.ax.axhline(data_mode, c='k', ls=':')\n",
    "\n",
    "    ax[0, 1].set_title('Source probability map')\n",
    "    im = ax[0, 1].imshow(\n",
    "        dummy_src_probability_map,\n",
    "        interpolation='nearest', origin='lower', cmap='nipy_spectral',\n",
    "        norm = colors.SymLogNorm(vmin=0, linthresh=reliable_src_probability, vmax=1),\n",
    "        )\n",
    "    ax[0, 1].contour(smoothed_data, levels=[smoothed_threshold_guess, threshold_guess], colors=['w', 'k'])\n",
    "    cb = fig.colorbar(im, ax=ax[0, 1])\n",
    "    cb.ax.axhline(reliable_src_probability, c='k', ls='--')\n",
    "\n",
    "    ax[1, 0].set_title('Smoothed data')\n",
    "    im = ax[1, 0].imshow(\n",
    "        smoothed_data,\n",
    "        interpolation='nearest', origin='lower', cmap='nipy_spectral', norm = colour_scale,\n",
    "        )\n",
    "    ax[1, 0].contour(smoothed_data, levels=[smoothed_threshold_guess, threshold_guess], colors=['w', 'k'])\n",
    "    cb = fig.colorbar(im, ax=ax[1, 0])\n",
    "    cb.ax.axhline(smoothed_threshold_guess, c='k', ls='--')\n",
    "    cb.ax.axhline(smoothed_data_mode, c='k', ls=':')\n",
    "\n",
    "    ax[1, 1].set_title('Smoothed source probability map')\n",
    "    im = ax[1, 1].imshow(\n",
    "        dummy_src_probability_map,\n",
    "        interpolation='nearest', origin='lower', cmap='nipy_spectral',\n",
    "        norm = colors.SymLogNorm(vmin=0, linthresh=reliable_src_probability, vmax=1),\n",
    "        )\n",
    "    ax[1, 1].contour(smoothed_data, levels=[smoothed_threshold_guess, threshold_guess], colors=['w', 'k'])\n",
    "    cb = fig.colorbar(im, ax=ax[1, 1])\n",
    "    cb.ax.axhline(reliable_src_probability, c='k', ls='--')\n"
   ]
  },
  {
   "cell_type": "markdown",
   "id": "8bd815df",
   "metadata": {},
   "source": [
    "## 7. Hierarchical Overdensity Tree (HOT)\n",
    "\n",
    "### routine definition:\n",
    "\n",
    "$$ S = \\sum p_i (I_i - I_0) $$\n",
    "$$ \\sigma^2 = 2\\sigma_0^2 \\sum p_i $$\n",
    "\n",
    "$$ n = \\sum p_i $$\n",
    "$$ \\Delta S_n = p_n I_n + (n-1) I_{n-1} - n I_n = (p_n - 1) I_n + (n-1) (I_{n-1}-I_n) $$\n",
    "$$ \\Delta S_n > 0 ~~ \\iff ~~ I_n < \\frac{n-1}{1-p_n} I_{n-1} ~;~ 1-p_n < (n-1) \\frac{I_{n-1}}{I_n} $$\n",
    "\n",
    "$$ \\Delta \\sigma^2_i = p_i 2\\sigma_0^2 $$\n",
    "\n",
    "$$ \\Delta \\ln(S/N)^2 \\sim \\frac{(S+\\Delta S)^2}{\\sigma^2 + \\Delta \\sigma^2 } \\frac{\\sigma^2}{S^2} $$\n",
    "$$ \\propto \\frac{S^2+p^2I^2+2pI}{1 + p } $$\n",
    "\n",
    "$$\n",
    "(S/N)^2_{a+b} = \\frac{ (S_a + S_b)^2 }{ \\sigma^2_a + \\sigma^2_b }\n",
    "= \\frac{ \\sigma^2_a\\frac{S^2_a}{\\sigma^2_a} + \\sigma^2_b\\frac{S^2_b}{\\sigma^2_b}\n",
    "        + 2 \\sigma_a\\sigma_b\\frac{S_a}{\\sigma_a}\\frac{S_b}{\\sigma_b} }{ \\sigma^2_a + \\sigma^2_b }\n",
    "$$ "
   ]
  },
  {
   "cell_type": "code",
   "execution_count": 47,
   "id": "29d52765-e333-49d5-8845-829fd72fbe23",
   "metadata": {},
   "outputs": [],
   "source": [
    "#HOT_threshold = np.sqrt((smoothed_threshold_guess-smoothed_data_mode) * (threshold_guess-data_mode))\n",
    "#HOT_threshold = ((smoothed_threshold_guess-smoothed_data_mode) + (threshold_guess-data_mode)) / 2\n",
    "HOT_threshold = smoothed_threshold_guess-smoothed_data_mode\n",
    "#HOT_threshold = threshold_guess-data_mode"
   ]
  },
  {
   "cell_type": "code",
   "execution_count": 48,
   "id": "068ae07e-1a59-4350-b85e-04274e073d48",
   "metadata": {},
   "outputs": [
    {
     "data": {
      "text/plain": [
       "(0.0005153953595719574, 0.001272232930232835, 0.0002221294649916841)"
      ]
     },
     "execution_count": 48,
     "metadata": {},
     "output_type": "execute_result"
    }
   ],
   "source": [
    "smoothed_threshold_guess, threshold_guess, HOT_threshold"
   ]
  },
  {
   "cell_type": "code",
   "execution_count": 49,
   "id": "2e678a8e",
   "metadata": {},
   "outputs": [],
   "source": [
    "@njit\n",
    "def hot(data, smoothed_data, argsort_smoothed_data_ravel, threshold=-np.inf):\n",
    "    \"\"\"Hierarchical Overdenity Tree (HOT)\"\"\"\n",
    "\n",
    "    strides = np.array(data.strides)//data.itemsize\n",
    "    flat_data = data.ravel()\n",
    "    flat_smoothed_data = smoothed_data.ravel()\n",
    "    \n",
    "    label = np.zeros(data.size, dtype=np.int32)\n",
    "    n_labels = 0\n",
    "    n_peaks_max = 1 + data.size//2**len(strides)  # maximum number of peaks\n",
    "    parent = np.zeros(n_peaks_max, dtype=np.int32)\n",
    "    area = np.zeros(n_peaks_max, dtype=np.int32)\n",
    "    sum_value = np.zeros(n_peaks_max, dtype=data.dtype)\n",
    "    max_signal_to_noise = np.zeros(n_peaks_max, dtype=np.float32)\n",
    "    signal_to_noise_area = np.zeros(n_peaks_max, dtype=np.int32)\n",
    "\n",
    "    for pixel in argsort_smoothed_data_ravel[::-1]:  # decreasing order\n",
    "        pixel_value = flat_data[pixel]\n",
    "        smoothed_pixel_value = flat_smoothed_data[pixel]\n",
    "        if np.isnan(pixel_value):\n",
    "            continue\n",
    "        if smoothed_pixel_value < threshold:\n",
    "            break\n",
    "\n",
    "        neighbour_parents = []\n",
    "        for stride in strides:\n",
    "            if pixel >= stride:\n",
    "                p = label[pixel-stride]\n",
    "                while p > 0:\n",
    "                    pp = parent[p]\n",
    "                    if pp == p:\n",
    "                        break\n",
    "                    else:\n",
    "                        p = pp\n",
    "                if p > 0 and p not in neighbour_parents:\n",
    "                    neighbour_parents.append(p)\n",
    "            if pixel+stride < data.size:\n",
    "                p = label[pixel+stride]\n",
    "                while p > 0:\n",
    "                    pp = parent[p]\n",
    "                    if pp == p:\n",
    "                        break\n",
    "                    else:\n",
    "                        p = pp\n",
    "                if p > 0 and p not in neighbour_parents:\n",
    "                    neighbour_parents.append(p)\n",
    "\n",
    "        neighbour_parents = np.array(neighbour_parents)\n",
    "        n_parents = neighbour_parents.size\n",
    "        if n_parents == 0:\n",
    "            n_labels += 1\n",
    "            selected_parent = n_labels\n",
    "            parent[n_labels] = n_labels\n",
    "        elif n_parents == 1:\n",
    "            selected_parent = neighbour_parents[0]\n",
    "        else:\n",
    "            selected_parent = neighbour_parents[np.argmax(area[neighbour_parents])]\n",
    "            for p in neighbour_parents:\n",
    "                parent[p] = selected_parent\n",
    "\n",
    "        label[pixel] = selected_parent\n",
    "        area[selected_parent] += 1\n",
    "        sum_value[selected_parent] += pixel_value\n",
    "        n = area[selected_parent]\n",
    "        signal_to_noise = (sum_value[selected_parent] - n*smoothed_pixel_value) / np.sqrt(n)\n",
    "        if signal_to_noise > max_signal_to_noise[selected_parent]:\n",
    "            max_signal_to_noise[selected_parent] = signal_to_noise\n",
    "            signal_to_noise_area[selected_parent] = n\n",
    "    \n",
    "    n_src = np.count_nonzero(label)\n",
    "    indep = np.where(parent[1:n_labels+1] == np.arange(1,n_labels+1))\n",
    "    print(f'{n_labels} overdensities found:',\n",
    "          f'{n_src} \"pixels\" ({int(100*n_src/data.size)}%),',\n",
    "          f'{indep[0].size} independent regions',\n",
    "         )\n",
    "    area[0] = data.size-n_src\n",
    "    catalog = (parent[:n_labels+1],\n",
    "               area[:n_labels+1],\n",
    "               max_signal_to_noise[:n_labels+1],\n",
    "               signal_to_noise_area[:n_labels+1],\n",
    "              )\n",
    "\n",
    "    return label.reshape(data.shape), catalog\n"
   ]
  },
  {
   "cell_type": "markdown",
   "id": "e128de57",
   "metadata": {},
   "source": [
    "### selection based on inverted image:"
   ]
  },
  {
   "cell_type": "code",
   "execution_count": 50,
   "id": "e7ffab06",
   "metadata": {},
   "outputs": [
    {
     "name": "stdout",
     "output_type": "stream",
     "text": [
      "3477 overdensities found: 130634 \"pixels\" (13%), 1291 independent regions\n",
      "time elapsed: 3.0062522888183594 s\n"
     ]
    }
   ],
   "source": [
    "t0 = time()\n",
    "label, catalog_inv = hot(smoothed_data_mode-data,\n",
    "                         smoothed_data_mode-smoothed_data,\n",
    "                         dummy_argsort[::-1],\n",
    "                         HOT_threshold)\n",
    "#parent_inv = catalog_inv[0]\n",
    "#area_inv = catalog_inv[1]\n",
    "max_signal_to_noise_inv = catalog_inv[2]\n",
    "signal_to_noise_area_inv = catalog_inv[3]\n",
    "print(f'time elapsed: {time()-t0} s')"
   ]
  },
  {
   "cell_type": "markdown",
   "id": "c31d05ff",
   "metadata": {},
   "source": [
    "Compute the upper hull of the inverted catalogue:"
   ]
  },
  {
   "cell_type": "code",
   "execution_count": 51,
   "id": "e274e28a",
   "metadata": {},
   "outputs": [
    {
     "name": "stdout",
     "output_type": "stream",
     "text": [
      "time elapsed: 0.00025177001953125 s\n"
     ]
    }
   ],
   "source": [
    "t0 = time()\n",
    "\n",
    "\n",
    "def upper_hull(x, y):\n",
    "    \"\"\"Compute upper hull\"\"\"\n",
    "    \n",
    "    points = np.array([x, y]).T\n",
    "    hull = ConvexHull(points)\n",
    "    i_max = np.argmax(x[hull.vertices])\n",
    "    i_min = np.argmin(x[hull.vertices])\n",
    "    if i_min > i_max:\n",
    "        i = hull.vertices[i_max:i_min+1]\n",
    "    else:\n",
    "        i = np.concatenate([hull.vertices[i_max:], hull.vertices[:i_min+1]])\n",
    "    srt = np.argsort(x[i])\n",
    "    return x[i[srt]], y[i[srt]]\n",
    "\n",
    "'''\n",
    "good_hull = (signal_to_noise_area_inv > 0)\n",
    "log_area_inv = np.log(signal_to_noise_area_inv[good_hull])\n",
    "signal = max_signal_to_noise_inv[good_hull]\n",
    "signal_hull_x, signal_hull_y = upper_hull(log_area_inv, signal)\n",
    "'''\n",
    "print(f'time elapsed: {time()-t0} s')"
   ]
  },
  {
   "cell_type": "markdown",
   "id": "4d7f24a8",
   "metadata": {},
   "source": [
    "### analysis of the normal image:"
   ]
  },
  {
   "cell_type": "code",
   "execution_count": 52,
   "id": "375767ca",
   "metadata": {},
   "outputs": [
    {
     "name": "stdout",
     "output_type": "stream",
     "text": [
      "4118 overdensities found: 517267 \"pixels\" (51%), 865 independent regions\n",
      "time elapsed: 1.2040669918060303 s\n"
     ]
    }
   ],
   "source": [
    "t0 = time()\n",
    "#label, catalog = hot((data-data_mode)/bg_std, dummy_argsort, HOT_threshold)\n",
    "#label, catalog = hot(data, smoothed_data, argsort_smoothed_data_ravel, threshold_guess)\n",
    "#label, catalog = hot(data, smoothed_data, argsort_smoothed_data_ravel, smoothed_threshold_guess)\n",
    "label, catalog = hot(data-smoothed_data_mode,\n",
    "                     smoothed_data-smoothed_data_mode,\n",
    "                     dummy_argsort,\n",
    "                     HOT_threshold)\n",
    "segmentation = segm.SegmentationImage(label)\n",
    "parent = catalog[0]\n",
    "area = catalog[1]\n",
    "max_signal_to_noise = catalog[2]\n",
    "signal_to_noise_area = catalog[3]\n",
    "print(f'time elapsed: {time()-t0} s')"
   ]
  },
  {
   "cell_type": "code",
   "execution_count": 53,
   "id": "c1a81e36-962d-4f61-a597-3606b0b31b4c",
   "metadata": {},
   "outputs": [
    {
     "name": "stdout",
     "output_type": "stream",
     "text": [
      "Maximum signal-to-noise threshold = 0.00411\n",
      "time elapsed: 1.2190790176391602 s\n"
     ]
    }
   ],
   "source": [
    "hist_SN_inv, bins = np.histogram(max_signal_to_noise_inv, density=True, bins='auto')\n",
    "hist_SN, bins = np.histogram(max_signal_to_noise, bins=bins, density=True)\n",
    "bins_SN = (bins[1:]+bins[:-1])/2\n",
    "SN_threshold = np.max(bins_SN[hist_SN_inv > .5*hist_SN])\n",
    "print(f'Maximum signal-to-noise threshold = {SN_threshold:.3g}')\n",
    "print(f'time elapsed: {time()-t0} s')"
   ]
  },
  {
   "cell_type": "code",
   "execution_count": 54,
   "id": "a22abcb1-9320-4961-a9f8-809e588dc9aa",
   "metadata": {},
   "outputs": [],
   "source": [
    "true_overdensity = max_signal_to_noise > SN_threshold"
   ]
  },
  {
   "cell_type": "code",
   "execution_count": 55,
   "id": "6ef6bdf7",
   "metadata": {},
   "outputs": [
    {
     "data": {
      "text/plain": [
       "\"\\ntrue_overdensity = max_signal_to_noise > np.interp(np.log(signal_to_noise_area),\\n                                                   signal_hull_x, signal_hull_y, right=0)\\ntrue_overdensity |= max_signal_to_noise > SN_threshold\\ntrue_overdensity[0] = False\\nprint(f'{np.count_nonzero(true_overdensity)} overdensities pass the selection criteria')\\n\""
      ]
     },
     "execution_count": 55,
     "metadata": {},
     "output_type": "execute_result"
    }
   ],
   "source": [
    "'''\n",
    "true_overdensity = max_signal_to_noise > np.interp(np.log(signal_to_noise_area),\n",
    "                                                   signal_hull_x, signal_hull_y, right=0)\n",
    "true_overdensity |= max_signal_to_noise > SN_threshold\n",
    "true_overdensity[0] = False\n",
    "print(f'{np.count_nonzero(true_overdensity)} overdensities pass the selection criteria')\n",
    "'''"
   ]
  },
  {
   "cell_type": "code",
   "execution_count": 56,
   "id": "7d4643d4",
   "metadata": {},
   "outputs": [],
   "source": [
    "if plots:\n",
    "    plt.close('catalogue_selection')\n",
    "    fig = plt.figure('catalogue_selection')\n",
    "    ax = fig.subplots(nrows=1, ncols=1, squeeze=False,\n",
    "                      sharex=True, sharey='row',\n",
    "                      gridspec_kw={'hspace': 0, 'wspace': 0})\n",
    "    for axis in ax.flatten():\n",
    "        axis.tick_params(which='both', direction='in')\n",
    "        axis.grid(alpha=.5)\n",
    "    fig.set_tight_layout(True)\n",
    "\n",
    "    '''\n",
    "    #ax[1, 0].axhline(delta_th, c='k', ls=':')\n",
    "    ax[1, 0].scatter(area[1:], max_value[1:]-min_value[1:], s=25, c='c')\n",
    "    ax[1, 0].scatter(area[true_overdensity],\n",
    "                     max_value[true_overdensity]-min_value[true_overdensity], s=1, c='k')\n",
    "    ax[1, 0].plot(np.exp(contrast_hull_x), contrast_hull_y, 'y-*')\n",
    "    ax[1, 0].scatter(area_inv[1:], max_value_inv[1:]-min_value_inv[1:], s=1, c='r')\n",
    "    ax[1, 0].set_xscale('log')\n",
    "    ax[1, 0].set_yscale('log')\n",
    "    ax[1, 0].set_ylim(np.min(contrast_hull_y[contrast_hull_y > 0])/10)\n",
    "    '''\n",
    "\n",
    "    ax[0, 0].set_ylabel('maximum S/N')\n",
    "    ax[0, 0].set_yscale('log')\n",
    "    #ax[0, 0].set_ylim(1e-1*np.max(signal_hull_y), np.max(max_signal_to_noise))\n",
    "    ax[0, 0].scatter(signal_to_noise_area[1:], max_signal_to_noise[1:], s=25, c='c')\n",
    "    ax[0, 0].scatter(signal_to_noise_area_inv[1:], max_signal_to_noise_inv[1:], s=25, c='r')\n",
    "    ax[0, 0].scatter(signal_to_noise_area[true_overdensity], max_signal_to_noise[true_overdensity], s=1, c='k')\n",
    "    #ax[0, 0].scatter(signal_to_noise_area_inv[good_hull], max_signal_to_noise_inv[good_hull], s=5, c='y')\n",
    "    #ax[0, 0].plot(np.exp(signal_hull_x), signal_hull_y, 'y*')\n",
    "    #xx = np.linspace(signal_hull_x[0], signal_hull_x[-1], 100)\n",
    "    #yy = np.interp(xx, signal_hull_x, signal_hull_y)\n",
    "    #ax[0, 0].plot(np.exp(xx), yy, 'y-')\n",
    "    ax[0, 0].axhline(SN_threshold, color='y', ls='--')\n",
    "\n",
    "    ax[-1, 0].set_xscale('log')\n",
    "    ax[-1, 0].set_xlabel('number of pixels at maximum S/N')"
   ]
  },
  {
   "cell_type": "code",
   "execution_count": 57,
   "id": "25599eac-9975-4779-83f8-372babb60fbb",
   "metadata": {},
   "outputs": [],
   "source": [
    "#sn_inv_sorted = np.sort(max_signal_to_noise_inv[1:])\n",
    "#sn_sorted = np.sort(max_signal_to_noise[1:])\n",
    "\n",
    "if plots:\n",
    "    plt.close('SN_selection')\n",
    "    fig = plt.figure('SN_selection')\n",
    "    ax = fig.subplots(nrows=1, ncols=1, squeeze=False,\n",
    "                      sharex=True, sharey='row',\n",
    "                      gridspec_kw={'hspace': 0, 'wspace': 0})\n",
    "    for axis in ax.flatten():\n",
    "        axis.tick_params(which='both', direction='in')\n",
    "        axis.grid(alpha=.5)\n",
    "    fig.set_tight_layout(True)\n",
    "\n",
    "    ax[0, 0].set_xlabel('maximum S/N')\n",
    "    #ax[0, 0].set_xscale('log')\n",
    "    ax[0, 0].set_yscale('log')\n",
    "    #ax[0, 0].plot(sn_sorted, np.arange(sn_sorted.size), 'b-')\n",
    "    #ax[0, 0].plot(sn_inv_sorted, np.arange(sn_inv_sorted.size), 'r-')\n",
    "    ax[0, 0].plot(bins_SN, hist_SN, color='b')\n",
    "    ax[0, 0].plot(bins_SN, hist_SN_inv, color='r')\n",
    "    ax[0, 0].axvline(SN_threshold, color='k', ls='--')\n",
    "    \n"
   ]
  },
  {
   "cell_type": "markdown",
   "id": "1bad1119",
   "metadata": {},
   "source": [
    "## 8. Clean-up\n",
    "\n",
    "### prune HOT based on selection threshold"
   ]
  },
  {
   "cell_type": "code",
   "execution_count": 58,
   "id": "7c677e69",
   "metadata": {},
   "outputs": [
    {
     "name": "stdout",
     "output_type": "stream",
     "text": [
      "2711 yet to go\n",
      "832 yet to go\n",
      "571 yet to go\n",
      "561 yet to go\n"
     ]
    }
   ],
   "source": [
    "original_labels = np.arange(parent.size)\n",
    "island = (parent == original_labels)\n",
    "pruned_labels = np.zeros_like(original_labels)\n",
    "pruned_labels[true_overdensity | ~island] = original_labels[true_overdensity | ~island]\n",
    "\n",
    "pruned_OK = true_overdensity[pruned_labels]\n",
    "to_go = np.count_nonzero(~pruned_OK)\n",
    "while True:\n",
    "    print(f'{to_go} yet to go')\n",
    "    pruned_labels[~pruned_OK] = parent[pruned_labels[~pruned_OK]]\n",
    "    pruned_OK = true_overdensity[pruned_labels]\n",
    "    still_to_go = np.count_nonzero(~pruned_OK)\n",
    "    if still_to_go == to_go:\n",
    "        break\n",
    "    else:\n",
    "        to_go = still_to_go\n",
    "        #break\n",
    "\n",
    "pruned_labels[~pruned_OK] = 0"
   ]
  },
  {
   "cell_type": "code",
   "execution_count": 59,
   "id": "09843913",
   "metadata": {},
   "outputs": [],
   "source": [
    "if plots and data_dimensionality == 2:\n",
    "    pruned_segmentation = segm.SegmentationImage(pruned_labels[label])\n",
    "    plt.close('HOT')\n",
    "    fig = plt.figure('HOT', figsize=(9.5, 6))\n",
    "    fig.set_tight_layout(True)\n",
    "    ax = fig.subplots(nrows=2, ncols=3, sharex=True, sharey=True)\n",
    "\n",
    "    ax[0, 0].set_title('Input data')\n",
    "    im = ax[0, 0].imshow(\n",
    "        data,\n",
    "        interpolation='nearest', origin='lower', cmap='terrain', norm = colour_scale,\n",
    "        )\n",
    "    cb = fig.colorbar(im, ax=ax[0, 0])\n",
    "\n",
    "    ax[0, 1].set_title(f'Initial segmentation\\n({parent.size} candidates)')\n",
    "    im = ax[0, 1].imshow(\n",
    "        segmentation,\n",
    "        interpolation='nearest', origin='lower', cmap=segmentation.make_cmap(seed=123),\n",
    "        )\n",
    "    cb = fig.colorbar(im, ax=ax[0, 1])\n",
    "\n",
    "    ax[0, 2].set_title('Parent')\n",
    "    im = ax[0, 2].imshow(\n",
    "        parent[label],\n",
    "        interpolation='nearest', origin='lower', cmap=segmentation.make_cmap(seed=123),\n",
    "        )\n",
    "    cb = fig.colorbar(im, ax=ax[0, 2])\n",
    "\n",
    "    #ax[1, 0].set_title('Max value')\n",
    "    #ax[1, 0].set_title('Contrast')\n",
    "    ax[1, 0].set_title('Max S/N')\n",
    "    im = ax[1, 0].imshow(\n",
    "        #max_value[label]-min_value[label],\n",
    "        max_signal_to_noise[label],\n",
    "        interpolation='nearest', origin='lower', cmap='terrain', norm = colour_scale,\n",
    "        )\n",
    "    cb = fig.colorbar(im, ax=ax[1, 0])\n",
    "\n",
    "    '''\n",
    "    ax[1, 1].set_title('S/N threshold')\n",
    "    im = ax[1, 1].imshow(\n",
    "        #saddle_value[label],\n",
    "        signal_to_noise_threshold[label],\n",
    "        interpolation='nearest', origin='lower', cmap='terrain', norm = colour_scale,\n",
    "        )\n",
    "    '''\n",
    "    ax[1, 1].set_title('Pruned segmentation')\n",
    "    im = ax[1, 1].imshow(\n",
    "        pruned_segmentation,\n",
    "        interpolation='nearest', origin='lower', cmap=pruned_segmentation.make_cmap(seed=123),\n",
    "        )\n",
    "    cb = fig.colorbar(im, ax=ax[1, 1])\n",
    "\n",
    "    ax[1, 2].set_title('Area')\n",
    "    im = ax[1, 2].imshow(\n",
    "        area[label],\n",
    "        interpolation='nearest', origin='lower', cmap='nipy_spectral', norm=colors.LogNorm(),\n",
    "        )\n",
    "    cb = fig.colorbar(im, ax=ax[1, 2])\n"
   ]
  },
  {
   "cell_type": "markdown",
   "id": "388bdfab",
   "metadata": {},
   "source": [
    "### rename labels and create final catalogues"
   ]
  },
  {
   "cell_type": "code",
   "execution_count": 60,
   "id": "457264d0",
   "metadata": {},
   "outputs": [
    {
     "name": "stdout",
     "output_type": "stream",
     "text": [
      "1409 objects after mode filtering\n"
     ]
    }
   ],
   "source": [
    "final_labels = pruned_labels.astype(np.int32)\n",
    "old_label = np.sort(np.unique(pruned_labels))\n",
    "new_label = np.zeros_like(parent)\n",
    "n_final_labels = old_label.size\n",
    "print(f'{n_final_labels} objects after mode filtering')\n",
    "\n",
    "for i, lbl in enumerate(old_label):\n",
    "    new_label[lbl] = i\n",
    "    final_labels[final_labels == lbl] = i\n",
    "\n",
    "new_parent = new_label[parent[old_label]]\n",
    "final_labels = new_label[pruned_labels[label]]"
   ]
  },
  {
   "cell_type": "code",
   "execution_count": 61,
   "id": "890b2713",
   "metadata": {},
   "outputs": [],
   "source": [
    "#final_labels[data < signal_to_noise_threshold[label]] = 0"
   ]
  },
  {
   "cell_type": "code",
   "execution_count": 71,
   "id": "b57e821e",
   "metadata": {},
   "outputs": [],
   "source": [
    "if plots and data_dimensionality == 2:\n",
    "    final_selection = segm.SegmentationImage(final_labels)\n",
    "    final_cmap = final_selection.make_cmap(seed=123)\n",
    "    final_catalog = segm.SourceCatalog(data, final_selection)\n",
    "    final_catalog.to_table()"
   ]
  },
  {
   "cell_type": "code",
   "execution_count": 74,
   "id": "f09479ca",
   "metadata": {},
   "outputs": [
    {
     "data": {
      "application/vnd.jupyter.widget-view+json": {
       "model_id": "22ec9cd610fb478eb54db9d1b7f795c9",
       "version_major": 2,
       "version_minor": 0
      },
      "image/png": "[encoded data removed]",
      "text/html": [
       "\n",
       "            <div style=\"display: inline-block;\">\n",
       "                <div class=\"jupyter-widgets widget-label\" style=\"text-align: center;\">\n",
       "                    filtered\n",
       "                </div>\n",
       "                <img src='data:image/png;base64,iVBORw0KGgoAAAANSUhEUgAABLAAAAGQCAYAAAC+tZleAAAAOXRFWHRTb2Z0d2FyZQBNYXRwbG90bGliIHZlcnNpb24zLjUuMSwgaHR0cHM6Ly9tYXRwbG90bGliLm9yZy/YYfK9AAAACXBIWXMAAA9hAAAPYQGoP6dpAADn6UlEQVR4nOzdeXxTVdrA8d9NmqVtulK6QYGyQ0HQIouKoFQQFEVgHFxGBAdcABd0QEd2dRxEEUQRdVTcmNcVxxUF1MFRBCwii4AsBdlaKN3TJWly3j9KQ0PTLQ20Dc93Pv0MvTnn5iTCk9znnvMcTSmlEEIIIYQQQgghhBCikdI19ACEEEIIIYQQQgghhKiOJLCEEEIIIYQQQgghRKMmCSwhhBBCCCGEEEII0ahJAksIIYQQQgghhBBCNGqSwBJCCCGEEEIIIYQQjZoksIQQQgghhBBCCCFEoyYJLCGEEEIIIYQQQgjRqEkCSwghhBBCCCGEEEI0apLAEkIIIYQQQgghhBCNmiSwhBBCCCGEEEIIIUSjJgksIYQQQgghhBBCCNGoSQJLCCGEEEIIIYQQQjRqksASQgghhBBCCCGEEI2aJLCEEEIIIYQQQgghRKMmCSwhhBBCCCGEEEII0ahJAksIIYQQQgghhBDCD6xbt47hw4cTHx+Ppml8/PHHVba966670DSNRYsWuR3PysrilltuITQ0lPDwcO644w4KCgrc2mzdupX+/ftjNptJSEjgqaeeOguvxp0ksIQQQgghhBBCCCH8gNVqpUePHrzwwgvVtlu5ciU//fQT8fHxlR675ZZb2LFjB6tXr+azzz5j3bp1TJw40fV4Xl4egwcPpnXr1qSmprJgwQLmzJnDyy+/7PPXU1HAWT27EEKIc6K4uBibzVbv8xiNRsxmsw9GJIQQwhsSz4UQwj80VDwfOnQoQ4cOrbbNkSNHmDJlCl999RXXXHON22M7d+5k1apVbNq0iV69egGwZMkShg0bxtNPP018fDzvvPMONpuN1157DaPRSFJSElu2bGHhwoVuiS5fkwSWEEI0ccXFxbRs2ZKTJ0/W+1yxsbGkpaXJRY8QQjQAiedCCOEfiouLiWzRhqKsjHqfy9fx3Ol08pe//IW//e1vJCUlVXp8/fr1hIeHu5JXACkpKeh0OjZs2MANN9zA+vXrufzyyzEaja42Q4YMYf78+WRnZxMREeGTsZ5JElhCCNHE2Ww2Tp48yef//jfBQUFen8daWMg1N92EzWaTCx4hhGgAEs+FEMI/2Gw2irIyGP3e1xiCLF6fx15YwAc3DiYzM5PQ0FDXcZPJhMlk8uqc8+fPJyAggHvvvdfj4+np6URHR7sdCwgIIDIykvT0dFebxMREtzYxMTGuxySBJYQQolrBQUFYgoMbehhCCCHqSeK5EEL4h0nHDVgCDV73Lygy8AGQkJDgdnz27NnMmTOnzudLTU1l8eLFbN68GU3TvB5XQ5EElhBC+IvcXLDbve9fWOi7sQghhPCexHMhhPAL1sLPQXk3UwrAWlQCwKFDhyrNwPLG999/z/Hjx2nVqpXrmMPh4MEHH2TRokUcOHCA2NhYjh8/7tavtLSUrKwsYmNjgbJljRkZ7ssjy38vb3M2SAJLCCH8RW4u1KdQZFGR78YihBDCexLPhRDCL3zX5VZMwSFe9y+x5gNPExoa6pbA8tZf/vIXUlJS3I4NGTKEv/zlL4wbNw6Afv36kZOTQ2pqKsnJyQB88803OJ1O+vTp42rz6KOPYrfbMRjKZpitXr2aTp06nbXlgyAJLCGE8B+5uVBS4n3/4mLfjUUIIYT3JJ4LIYRfGLpzGsH1WEJoLbLzdB37FBQUsHfvXtfvaWlpbNmyhcjISFq1akWzZs3c2hsMBmJjY+nUqRMAXbp04eqrr2bChAksW7YMu93O5MmTGTNmDPHx8QDcfPPNzJ07lzvuuIPp06ezfft2Fi9ezLPPPuv1a60NSWAJIYQQQgghhBBC+NhF1hsJdXi/KUdecSHwdZ36/Pzzz1xxxRWu36dOnQrA2LFjWb58ea3O8c477zB58mQGDRqETqdj1KhRPPfcc67Hw8LC+Prrr5k0aRLJyclERUUxa9YsJk6cWKex1pUksIQQwl/k5tbvrnt97vYLIYTwHYnnQgjhF94z7CDQ4H0NrCJH3eP5wIEDUUrVuv2BAwcqHYuMjGTFihXV9rvgggv4/vvv6zq8epEElhBC+IvcXDAave9fn3orQgghfEfiuRBC+IXPiwsx4PC6v71YbkhUJAksIYQQQgghhBBCCB979OebsBgsXvcvsBfwCS/5cERNmySwhBDCX+TkyB17IYTwBxLPhRDCLyy/bjOmwECv+5cUFcEqHw6oiZMElhBC+IvcXDB4v8sJdrvvxiKEEMJ7Es+FEMIvrDtZit5c6nV/R7H3ff2RJLCEEMJf5OZCQD3Ceql8QAohRKMg8VwIIfzC46k5BBu835TDai/mBh+Op6mTBJYQQgghhBBCCCGEjzV7YSeWUO9n1Jrz7PCx78bT1EkCSwgh/EVuLuj13vd3eL9DihBCCB+SeC6EEH7hpe+zMQZ5n3axFcqM2ookgSWEEP4iNxd0Ou/7O52+G4sQQgjvSTwXQgi/EHrAjsmsvO5fIjWw3EgCSwghhBBCCCGEEMLHRgaOIzgwyOv+Vq2QF/nBhyNq2iSBJYQQ/iI3FzTN+/7K+7tDQgghfEjiuRBC+IXnPumLISDE6/720nwfjqbpkwSWEEL4C6u1oUcghBDCFySeCyGEX3goLACLwfu0S4E9gE99OJ6mThJYQgjhJ3SnfurTvyHccMMNfPfddwwaNIgPPviggUYhhBCNh8RzIYTwDz/ufBWz3uR1/2JHiQ9H0/RJAksIIUSDuu+++xg/fjxvvPFGQw9FCCFEPUg8F0IId10+1RMc4n3axZpfCu19OKAmThJYQgjhJ7RTP/Xp3xAGDhzId99910DPLoQQjY/EcyGE8A8D7QZC7Qav++fZHT4cTdMnCSwhhPATDXHBs27dOhYsWEBqairHjh1j5cqVjBgxwq3NCy+8wIIFC0hPT6dHjx4sWbKE3r1712OkQgjh3ySeCyGEf5gw14HB6H0Sym6TBFZFksASQgjhNavVSo8ePRg/fjwjR46s9Pi7777L1KlTWbZsGX369GHRokUMGTKE3bt3Ex0d3QAjFkII4YnEcyGE8D1t4i9oFu9nYGkFdvg/Hw6oiZMElhBC+AlfFf3Ny8tzO24ymTCZPBefHDp0KEOHDq3ynAsXLmTChAmMGzcOgGXLlvH555/z2muv8fDDD9djtEII4b8kngshhH/Y+3UherP3aRdHcakPR9P0SQJLCCH8hK+WnCQkJLgdnz17NnPmzKnz+Ww2G6mpqTzyyCOuYzqdjpSUFNavX1+PkQohhH+TeC6EEP7h6imPYQ61eN2/OK+Azf+83IcjatokgSWEEH7CVxc8hw4dIjQ01HW8qrv1NcnMzMThcBATE+N2PCYmhl27drl+T0lJ4ddff8VqtdKyZUvef/99+vXr59VzCiGEP5B4LoQQ/mHwBz9jCQz0un9BURH/8OF4mjpJYAkhhHATGhrqdsFztq1Zs+acPZcQQpxPJJ4LIUTD6vTZcEINIV73z7PnA1N9N6AmThJYQgjhJ3xVM8VXoqKi0Ov1ZGRkuB3PyMggNjbWx88mhBD+Q+K5EEL4h3/0eRST2fsi7iXFdljtwwE1cZLAEkIIP9EQ265Xx2g0kpyczNq1a11bsTudTtauXcvkyZN9/GxCCOE/JJ4LIYR/2GyOIMBs9Lp/KTYfjqbpkwSWEEL4iYa44CkoKGDv3r2u39PS0tiyZQuRkZG0atWKqVOnMnbsWHr16kXv3r1ZtGgRVqvVtYuVEEKIyiSeCyGEf7jq0HjMxnoUcbcV8AMv+XBETZsksIQQQnjt559/5oorrnD9PnVq2Rr9sWPHsnz5cv785z9z4sQJZs2aRXp6Oj179mTVqlWVCgELIYRoWBLPhRDC9yJM/ybQyw00AIq0Eh+OpunTlFKqoQchhBDCe3l5eYSFhbEZ8P7+DhQAFwG5ubnntOivEEKIMhLPhRDCP5TH8zUrHiY4yOz1eayFxaTc/E+J56fIDCwhhPAjvq57IoQQomFIPBdCiKbvp+JkzLogr/sXFxf6cDRNnySwhBBCCCGEEEIIIXxsmPkgIeZAr/vnO4uY4cPxNHWSwBJCCD/R2HatEkII4R2J50II4R++OjoOc6D3S/+Ki/KAh3w3oCZOElhCCOEndKd+6tNfCCFEw5N4LoQQ/qHVmO8ICg32un9hnlXyVxVIAksIIfyE/tRPffoLIYRoeBLPhRDCP+zZ/inmYKPX/YutNh+OpumTBJYQQgghhBBCCCGEj1n2QaD3JbAIKPLdWPyBJLCEEMJPyB17IYTwDxLPhRDCP2xYdT8GQ4jX/e32fGC5z8bT1EkCSwgh/ITUTBFCCP8g8VwIIfzDjc3XEWT0fgpWoa2I9304nqZOElhCCCGEEEIIIYQQPtYsqRWWQO+LuBcUWX04mqZPElhCCOEnZMmJEEL4B4nnQgjhH459sIagAJPX/QtLS3w4mqZPElhCCOEn5IJHCCH8g8RzIYTwD8926EhAPZYQltqKYL0PB9TESQJLCCH8hEb96p5ovhqIEEKIepF4LoQQ/iEo1kKAKcjr/qUlckuiIklgCSGEEEIIIYQQQvhYu5s+xBhi8Lq/Ld/Ouqd8OKAmThJYQgjhJ2TJiRBC+AeJ50II4R/+nuEkpMDpdf98q5PXfTiepk4SWEII4SfkgkcIIfyDxHMhhPAP07dEYjAbve5vL7b5cDRNnySwhBBCCCGEEEIIIXxsxp/TsYR4n3YpyC/lo4fr1mfdunUsWLCA1NRUjh07xsqVKxkxYgQAdrudGTNm8MUXX7B//37CwsJISUnhn//8J/Hx8a5zZGVlMWXKFD799FN0Oh2jRo1i8eLFWCwWV5utW7cyadIkNm3aRPPmzZkyZQrTpk3z+rXWhiSwhBDCT+ioX9Hf+vQVQgjhOxLPhRDCP6z/pS2Bwd7PwCqy2oC1depjtVrp0aMH48ePZ+TIkW6PFRYWsnnzZmbOnEmPHj3Izs7mvvvu47rrruPnn392tbvllls4duwYq1evxm63M27cOCZOnMiKFSsAyMvLY/DgwaSkpLBs2TK2bdvG+PHjCQ8PZ+LEiV6/3ppoSil11s4uhBDirMvLyyMsLIwTQGh9zgM0B3JzcwkNrc+ZhBBCeEPiuRBC+IfyeJ626AtCA4O9P0+RlcT7h3kdzzVNc5uB5cmmTZvo3bs3Bw8epFWrVuzcuZOuXbuyadMmevXqBcCqVasYNmwYhw8fJj4+nhdffJFHH32U9PR0jMayBN3DDz/Mxx9/zK5du7x6rbUhM7CEEMJPSM0UIYTwDxLPhRDCP3w3dDlBId7PwCrMt8H9vhuPJ7m5uWiaRnh4OADr168nPDzclbwCSElJQafTsWHDBm644QbWr1/P5Zdf7kpeAQwZMoT58+eTnZ1NRETEWRmrJLCEEEIIIYQQQgghfGznuycxmb1Pu5QUlwJlM7oqMplMmEymeo0NoLi4mOnTp3PTTTe5Znilp6cTHR3t1i4gIIDIyEjS09NdbRITE93axMTEuB6TBJYQQohqSc0UIYTwDxLPhRDCP3QvnEGQw1JzwyoUlhQAa0lISHA7Pnv2bObMmVOvsdntdm688UaUUrz44ov1Ote5IgksIYTwE5oZNK0e/RVQ7LPhCCGE8JLEcyGE8A/7+xswBxu87l9sNcA/4dChQ241sOo7+6o8eXXw4EG++eYbt3PHxsZy/Phxt/alpaVkZWURGxvrapORkeHWpvz38jZngySwhBBCCCGEEEIIIXxsZ/RzGC3eJ7BsBXYAQkNDfbYpR3nyas+ePXz77bc0a9bM7fF+/fqRk5NDamoqycnJAHzzzTc4nU769OnjavPoo49it9sxGMpe3+rVq+nUqdNZWz4IksASQgj/EUz91o04kTv2QgjRGEg8F0IIv3DEcSMBjiCv+5c6CoH36tSnoKCAvXv3un5PS0tjy5YtREZGEhcXx+jRo9m8eTOfffYZDofDVdcqMjISo9FIly5duPrqq5kwYQLLli3DbrczefJkxowZQ3x8PAA333wzc+fO5Y477mD69Ols376dxYsX8+yzz3r9WmtDU0qps/oMQgghzqrybXpzW0NoPS548pwQdlC2XRdCiIYi8VwIIfxDeTxPfetKLEHezxsqKCwl+S/f1Cmef/fdd1xxxRWVjo8dO5Y5c+ZUKr5e7ttvv2XgwIEAZGVlMXnyZD799FN0Oh2jRo3iueeew2I5Xc9r69atTJo0iU2bNhEVFcWUKVOYPn163V9kHcgMLCGE8BfB1G/vdIevBiKEEKJeJJ4LIYRfSEu9imCT2ev+1pJi4Js69Rk4cCDVzVOqzRymyMhIVqxYUW2bCy64gO+//75OY6svSWAJIYQQQgghhBBC+NhnyQkYg7xfQmgrLPThaJo+SWAJIYS/CKZ+Ub3UVwMRQghRLxLPhRDCL4QfTMJkDvG6f0lxvg9H0/RJAksIIfyFBbngEUIIfyDxXAgh/MLEyzcRYgn0un9+QRGLfDecJk8SWEIIIYQQQgghhBA+tv8/7Qg2WWpuWAVrSYEPR9P0SQJLCCH8RTBgqEd/u68GIoQQol4kngshhF/YlDkLs9H7tEuxTabUViQJLCGE8BfBgLEe/W2+GogQQoh6kXguhBB+YZi5NRaT9wG9QGdjLj/4cERNmySwhBDCX1iQCx4hhPAHEs+FEMIvvBmbjMnsfQ2skuIiYIXvBtTESQJLCCGEEEIIIYQQwsf6h+8jKNDkdf/CohJe8OF4mjpJYAkhhL8IBrz/fIQSXw1ECCFEvUg8F0IIvxCqdSNY834GVoBW5MPRNH2SwBJCCH8RDJjr0V8+EYQQonGQeC6EEH4h1JiFxeh9QNc7in04mqZPPt6EEEI0qM8++4wHH3wQp9PJ9OnT+etf/9rQQxJCCOEFiedCCOFufqaGwax53d9e7H1ffyQJLCGE8BcWmtwd+9LSUqZOncq3335LWFgYycnJ3HDDDTRr1uzcD0YIIRoLiedCCOEXFiZdTEhwsNf9861WPvXheJo6SWAJIYS/CAa8X2IPel8NpPY2btxIUlISLVq0AGDo0KF8/fXX3HTTTed+MEII0VhIPBdCCL/wqrYbcz1qYBVLDSw3uoYegBBCCB8J8MFPHa1bt47hw4cTHx+Ppml8/PHHldq88MILtGnTBrPZTJ8+fdi4caPrsaNHj7oudgBatGjBkSNH6j4QIYTwJxLPhRDCL+zfkMueH3K8/tm/IbehX0KjIjOwhBBCeM1qtdKjRw/Gjx/PyJEjKz3+7rvvMnXqVJYtW0afPn1YtGgRQ4YMYffu3URHRzfAiIUQQngi8VwIIXyv+w0HMFuMXvcvLrDx3nwfDqiJkwSWEEL4Cy/vurv1B/Ly8twOm0wmTCbP+7kPHTqUoUOHVnnKhQsXMmHCBMaNGwfAsmXL+Pzzz3nttdd4+OGHiY+Pd7tDf+TIEXr37l2PFyGEEH5A4rkQQviF3/c9hTEo1Ov+tsI84F++G1ATJ0sIhRDCX+ip33KTUzVTEhISCAsLc/08+eSTXg3HZrORmppKSkqK65hOpyMlJYX169cD0Lt3b7Zv386RI0coKCjgyy+/ZMiQIV49nxBC+A2J50II4RcMjm0YHL/W42dbQ7+ERkVmYAkhhHBz6NAhQkNP3ymq6m59TTIzM3E4HMTExLgdj4mJYdeuXQAEBATwzDPPcMUVV+B0Opk2bZrsWCWEED4i8VwIIRqWLqclupIQ7/sX5ftwNE2fJLCEEMJf+GjJSWhoqNsFz9l23XXXcd11152z5xNCiEZP4rkQQviFiI2pmIxBXvcvsRX6cDRNnySwhBDCX/jogsdXoqKi0Ov1ZGRkuB3PyMggNjbWt08mhBD+ROK5EEL4hWY54ZgNwV73L7Z7XwDeH0kCSwgh/EUju+AxGo0kJyezdu1aRowYAYDT6WTt2rVMnjzZt08mhBD+ROK5EEL4BTWjGcpi8b5/gRk+8+GAmjhJYAkhhPBaQUEBe/fudf2elpbGli1biIyMpFWrVkydOpWxY8fSq1cvevfuzaJFi7Bara5drIQQQjQOEs+FEML3bA47Ooe9Xv3FaZLAEkIIf9EAd+x//vlnrrjiCtfvU6dOBWDs2LEsX76cP//5z5w4cYJZs2aRnp5Oz549WbVqVaVCwEIIISqQeC6EEH5h3bGvCQg2e92/1Frsw9E0fZpSSjX0IIQQQngvLy+PsLAwcj+CUO+X2JNnhbCRkJube06L/gohhCgj8VwIIfxDeTy/c+0HGIO9L+Jusxby0qDREs9PkRlYQgghhBBCCCGEED42yraOYIPJ6/5WWwkv+XA8TZ0ksIQQwl80sqK/QgghvCTxXAgh/MJTB/oREOj9DKzSokLgOd8NqImTjzchhPAXcsEjhBD+QeK5EEL4hddKowkt9X5NeF6plVY+HE9TJx9vQgjhL+SCRwgh/IPEc3GGAwcOkJiYyOuvv87tt99+1p6nTZs2DBw4kOXLl5+15ziTpmnMnj2bOXPmnLPnBJgzZw5z585FSkKLs+muHgcxWLyfgWUvKPThaJo++XgTQgghhBBCiAa0fPlyxo0b5/Gx6dOnc9ddd53jEfmHwsJCnnrqKQYOHMjAgQMbejjiPHTtf44QaPJ+F8KikmK+8OF4mjpJYAkhhL/QU7+orvfVQIQQQtSLxPPz1rx580hMTHQ71q1bN1q3bk1RUREGg6GBRtY0FRYWMnfuXIBKCawZM2bw8MMPN8CoxPnENliHPljnfX+rDp7x4YCaOElgCSGEv5AlJ0II4R8knp+3hg4dSq9evTw+ZjZ7P4tDVBYQEEBAgPxjEWdX3MqfCDJ5n3guLLH7cDRNn/epQCGEEEIIIYQQZ92BAwfQNM2tNtXtt9+OxWLhyJEjjBgxAovFQvPmzXnooYdwOBxu/Z9++mkuueQSmjVrRmBgIMnJyXzwwQdej+f//u//SE5OJiQkhNDQULp3787ixYvd2uTk5HD//feTkJCAyWSiffv2zJ8/H6fTWeP5jxw5wvjx44mJicFkMpGUlMRrr71WqV1xcTFz5syhY8eOmM1m4uLiGDlyJPv27ePAgQM0b94cgLlz56JpGpqmuWptzZkzB03T3M5XWlrKY489Rrt27TCZTLRp04a///3vlJSUuLVr06YN1157Lf/73//o3bs3ZrOZtm3b8uabb9b42sr/Wz799NO88MILtG3blqCgIAYPHsyhQ4dQSvHYY4/RsmVLAgMDuf7668nKynI7x3/+8x+uueYa4uPjMZlMtGvXjscee6zSf/eBAwfSrVs3UlNTueSSSwgMDCQxMZFly5bVOE7hGx2ntafLjI5e/3Sc1r6hX0KjIilnIYTwE05d2U99+gshhGh4Es/PX7m5uWRmZrodi4qKqrK9w+FgyJAh9OnTh6effpo1a9bwzDPP0K5dO+6++25Xu8WLF3Pddddxyy23YLPZ+L//+z/+9Kc/8dlnn3HNNdfUaYyrV6/mpptuYtCgQcyfPx+AnTt38sMPP3DfffcBZUv3BgwYwJEjR7jzzjtp1aoVP/74I4888gjHjh1j0aJFVZ4/IyODvn37omkakydPpnnz5nz55Zfccccd5OXlcf/997te+7XXXsvatWsZM2YM9913H/n5+axevZrt27eTkpLCiy++yN13380NN9zAyJEjAbjggguqfO6//vWvvPHGG4wePZoHH3yQDRs28OSTT7Jz505Wrlzp1nbv3r2MHj2aO+64g7Fjx/Laa69x++23k5ycTFJSUo3v4zvvvIPNZmPKlClkZWXx1FNPceONN3LllVfy3XffMX36dPbu3cuSJUt46KGH3BJ4y5cvx2KxMHXqVCwWC9988w2zZs0iLy+PBQsWuD1PdnY2w4YN48Ybb+Smm27ivffe4+6778ZoNDJ+/PgaxynqZ+2u4QQGW7zuX2QtAJ713YCaOElgCSGEn1D6sp/69BdCCNHwJJ6fv1JSUiodq26XvOLiYv785z8zc+ZMAO666y4uuugiXn31VbcE1u+//05gYKDr98mTJ3PRRRexcOHCOiewPv/8c0JDQ/nqq6/Q6z3/ZVu4cCH79u3jl19+oUOHDgDceeedxMfHs2DBAh588EESEhI89n300UdxOBxs27aNZs2auV7XTTfdxJw5c7jzzjsJDAzkzTffZO3atSxcuJAHHnjA1f/hhx9GKYWmaYwePZq7776bCy64gFtvvbXa1/Xrr7/yxhtv8Ne//pVXXnkFgHvuuYfo6Giefvppvv32W6644gpX+927d7Nu3Tr69+8PwI033khCQgKvv/46Tz/9dI3v45EjR9izZw9hYWFAWULuySefpKioiJ9//tm1vPHEiRO88847vPjii5hMJgBWrFjh9t/zrrvu4q677mLp0qU8/vjjrnYAR48e5ZlnnmHq1Kmu/w59+vThkUce4S9/+YvUVTvLdv12EmNgkdf9bUWyC2FFcn9GCCH8RPkFT31+hBBCNDyJ5+evF154gdWrV7v91OTMHQr79+/P/v373Y5VTHZkZ2eTm5tL//792bx5c53HGB4ejtVqrXZs77//Pv379yciIoLMzEzXT0pKCg6Hg3Xr1nnsp5Tiww8/ZPjw4Sil3PoOGTKE3Nxc15g//PBDoqKimDJlSqXznLk0sDa++KJsr7fyRE+5Bx98EChL3FXUtWtXV/IKoHnz5nTq1KnSe1+VP/3pT67kFUCfPn0AuPXWW91qc/Xp0webzcaRI0dcxyr+98zPzyczM5P+/ftTWFjIrl273J4nICCAO++80/W70Wjkzjvv5Pjx46SmptZqrMJ7CYk/0brdD17/JCT+1NAvoVGRGVhCCCGEEEII0Qj07t27yiLunpjNZledp3IRERFkZ2e7Hfvss894/PHH2bJli1s9J28SPffccw/vvfceQ4cOpUWLFgwePJgbb7yRq6++2tVmz549bN26tdLYyh0/ftzj8RMnTpCTk8PLL7/Myy+/XG3fffv20alTJ58VYj948CA6nY727d1rDsXGxhIeHs7Bgwfdjrdq1arSOTy991U5s395MuvMmWnlxyued8eOHcyYMYNvvvmGvLw8t/a5ubluv8fHxxMcHOx2rGPHjkBZPa6+ffvWarzCO1ft6IPFHOR1/4LiQmb7cDxNnSSwhBDCT0jNFCGE8A8Sz0VtVbWEr6Lvv/+e6667jssvv5ylS5cSFxeHwWDg9ddfZ8WKFXV+zujoaLZs2cJXX33Fl19+yZdffsnrr7/ObbfdxhtvvAGA0+nkqquuYtq0aR7PUZ5AOVN5gfdbb72VsWPHemxTXQ0rX6htUq+q9766JZ+16V/TeXNychgwYAChoaHMmzePdu3aYTab2bx5M9OnT69VkXxx7nT4JY1Qg/c7iObZi304mqZPElhCCOEnpGaKEEL4B4nnwpc+/PBDzGYzX331lVttpNdff93rcxqNRoYPH87w4cNxOp3cc889vPTSS8ycOZP27dvTrl07CgoKPNb0qk7z5s0JCQnB4XDU2Lddu3Zs2LABu91eZR2nuswwa926NU6nkz179tClSxfX8YyMDHJycmjdunWtz3U2fffdd5w8eZKPPvqIyy+/3HU8LS3NY/ujR49itVrdZmH9/vvvQNluiuLsenJMEKagwJobVqGkUAcra253vpD7M0IIIYQQQgjhp/R6PZqm4XA4XMcOHDjAxx9/7NX5Tp486fa7TqdzzYoqX5544403sn79er766qtK/XNycigtLa1yrKNGjeLDDz9k+/btlR4/ceKE68+jRo0iMzOT559/vlK78tlKQUFBruesybBhwwAq7ZC4cOFCgDoXuz9bymdoVZzpZbPZWLp0qcf2paWlvPTSS25tX3rpJZo3b05ycvLZHaygtKuT0u71+OkqM+oqkhlYQgjhJ5Sunnfs5ZaGEEI0ChLPhS9dc801LFy4kKuvvpqbb76Z48eP88ILL9C+fXu2bt1a5/P99a9/JSsriyuvvJKWLVty8OBBlixZQs+ePV0zl/72t7/xySefcO2113L77beTnJyM1Wpl27ZtfPDBBxw4cICoqCiP5//nP//Jt99+S58+fZgwYQJdu3YlKyuLzZs3s2bNGrKysgC47bbbePPNN5k6dSobN26kf//+WK1W1qxZwz333MP1119PYGAgXbt25d1336Vjx45ERkbSrVs3unXrVul5e/TowdixY3n55Zddy/Q2btzIG2+8wYgRI9x2IGxIl1xyCREREYwdO5Z7770XTdN46623qly6GB8fz/z58zlw4AAdO3bk3XffZcuWLbz88suyA+E5EHnfWswB3r/PxaV2H46m6ZMElhBC+AmpmSKEEP5B4rnwpSuvvJJXX32Vf/7zn9x///0kJia6EhreJLBuvfVWXn75ZZYuXUpOTg6xsbH8+c9/Zs6cOeh0ZX/5goKC+O9//8s//vEP3n//fd58801CQ0Pp2LEjc+fOddt970wxMTFs3LiRefPm8dFHH7F06VKaNWtGUlIS8+fPd7XT6/V88cUXPPHEE6xYsYIPP/yQZs2acdlll9G9e3dXu3/9619MmTKFBx54AJvNxuzZsz0msMrbtm3bluXLl7Ny5UpiY2N55JFHmD278ZTRbtasGZ999hkPPvggM2bMICIigltvvZVBgwYxZMiQSu0jIiJ44403mDJlCq+88goxMTE8//zzTJgwoQFGf/75vW8cRrOp5oZVsBWXwDd167Nu3ToWLFhAamoqx44dY+XKlYwYMcL1uFKK2bNn88orr5CTk8Oll17Kiy++SIcOHVxtsrKymDJlCp9++ik6nY5Ro0axePFiLBaLq83WrVuZNGkSmzZtonnz5kyZMqXKune+oqnaVpkTQgjRKOXl5REWFsbRHRAaUo/z5EN8UtnuNaGhob4boBBCiFqReC6E8KWBAweSmZnpcTmmOLvK4/nMj5ZiDva+BlaxtYjHRt5Tp3j+5Zdf8sMPP5CcnMzIkSMrJbDmz5/Pk08+yRtvvEFiYiIzZ85k27Zt/Pbbb5jNZQXnhw4dyrFjx3jppZew2+2MGzeOiy++2LXxQ15eHh07diQlJYVHHnmEbdu2MX78eBYtWsTEiRO9fr01kRlYQgghhBBCCCGEED7WKWAbQQHez8AqDCipc5+hQ4cydOhQj48ppVi0aBEzZszg+uuvB+DNN98kJiaGjz/+mDFjxrBz505WrVrFpk2b6NWrFwBLlixh2LBhPP3008THx/POO+9gs9l47bXXMBqNJCUlsWXLFhYuXCgJLCGEEDWTXauEEMI/SDwXQgj/sEGXh0ln9Lp/ic4GlM14qshkMrntKlpbaWlppKenu+3yGRYWRp8+fVi/fj1jxoxh/fr1hIeHu5JXACkpKeh0OjZs2MANN9zA+vXrufzyyzEaT7+2IUOGMH/+fLKzs4mIiKjz2GpDElhCCOEnpGaKEEL4B4nnQgjhH/okTCYoxFJzwyoU5hewhHdISEhwOz579mzmzJlT5/Olp6cDZbXmKoqJiXE9lp6eTnR0tNvjAQEBREZGurVJTEysdI7yxySBJYQQQgghhBBCiFr57rvvGnoI5z2TKR+Tyel1f4fNCsChQ4fcamB5M/vKH0gCSwgh/IQsORFCCP8g8VwIIfxDyPKvCK7HLoT64rIaWKGhoT7ZlCM2NhaAjIwM4uLiXMczMjLo2bOnq83x48fd+pWWlpKVleXqHxsbS0ZGhlub8t/L25wNksASQgg/oXT1vOCRJSdCCNEoSDwXQgj/sH7f15gN3gf0YrvDh6OBxMREYmNjWbt2rSthlZeXx4YNG7j77rsB6NevHzk5OaSmppKcnAzAN998g9PppE+fPq42jz76KHa7HYPBAMDq1avp1KnTWVs+CCAfb0KcRcuXL0fTNA4cONDQQxHnAacOHPX4kZopwl9omsbkyZPP+vN89913aJrm9RKNOXPmoGmabwcl/ILEc+ErTz31FJ07d8bp9H4JU1N0++23Y7HUru6Qpmle1RI6F/r27cu0adMaehiiHq4MWsvg4J+8/rkyaG2dn7OgoIAtW7awZcsWoKxw+5YtW/jjjz/QNI3777+fxx9/nE8++YRt27Zx2223ER8fz4gRIwDo0qULV199NRMmTGDjxo388MMPTJ48mTFjxhAfHw/AzTffjNFo5I477mDHjh28++67LF68mKlTp/rqrfNIPt5Eo1Ce6Pn5558beigAFBYWMmfOnAZdN75ixQoWLVrUYM8vhDg/bNu2jdGjR9O6dWvMZjMtWrTgqquuYsmSJQ09tGr9+OOPzJkzh5ycnIYeSoNYunQpy5cvb+hhCCEasby8PObPn8/06dPR6U5f9r377rvceuutdOjQAU3TGDhwYK3O98QTT6BpGt26dfP4+I8//shll11GUFAQsbGx3HvvvRQUFFRql5qaytVXX01oaCghISEMHjzYdaHtb+p7TTF9+nReeOEFV+Fs0fQE/HklAbe+5/3Pn1fW+Tl//vlnLrzwQi688EIApk6dyoUXXsisWbMAmDZtGlOmTGHixIlcfPHFFBQUsGrVKsxms+sc77zzDp07d2bQoEEMGzaMyy67jJdfftn1eFhYGF9//TVpaWkkJyfz4IMPMmvWLCZOnFjPd6x6soRQCA8KCwuZO3cuQK0/1H1txYoVbN++nfvvv79Bnl80PaVa2U99+ovzy48//sgVV1xBq1atmDBhArGxsRw6dIiffvqJxYsXM2XKlIYeYpV+/PFH5s6dy+233054eHhDD+ecW7p0KVFRUdx+++0NPRRxFkg8F77w2muvUVpayk033eR2/MUXXyQ1NZWLL76YkydP1upchw8f5h//+AfBwcEeH9+yZQuDBg2iS5cuLFy4kMOHD/P000+zZ88evvzyS1e7zZs3c9lll5GQkMDs2bNxOp0sXbqUAQMGsHHjRjp16uT9C/ZSUVERAQFn57K4vtcU119/PaGhoSxdupR58+b5eHTiXFjwZSYGk7nmhlWwlxTXuc/AgQNRSlX5uKZpzJs3r9q/U5GRkaxYsaLa57ngggv4/vvv6zy++pAElhBC+Am54BF19cQTTxAWFsamTZsqJYHOLN4phDh3JJ4LX3j99de57rrr3GZVALz11lu0aNECnU5X5WyqMz300EP07dsXh8NBZmZmpcf//ve/ExERwXfffecqNN2mTRsmTJjA119/zeDBgwGYOXMmgYGBrF+/nmbNmgFw66230rFjR/7+97/z4Ycf1ucle+XM96cx0el0jB49mjfffJO5c+fKsvMmqKMtBpMW5HX/EluhD0fT9MkSQtFola9dP3LkCCNGjMBisdC8eXMeeughHI7TxewOHDiApmk8/fTTPPvss7Ru3ZrAwEAGDBjA9u3b3c45cOBAj3c/br/9dtq0aeM6X/PmzQFcHxS1WRu/Y8cOrrzySgIDA2nZsiWPP/64x3oD//nPf7jmmmuIj4/HZDLRrl07HnvsMbfXNHDgQD7//HMOHjzoev7y8dlsNmbNmkVycjJhYWEEBwfTv39/vv3221q8q0IIcdq+fftISkryOIMpOjra7ffyulLvv/8+Xbt2JTAwkH79+rFt2zYAXnrpJdq3b4/ZbGbgwIEea/+9//77JCcnExgYSFRUFLfeeitHjhyp1O6bb76hf//+BAcHEx4ezvXXX8/OnTtdj8+ZM4e//e1vQFkx0vI4eeZzfvzxx3Tr1g2TyURSUhKrVq2q9FxHjhxh/PjxxMTEuNq99tprldodPnyYESNGEBwcTHR0NA888AAlJSWV2lXlf//7HxdffDFms5l27drx0ksveWz3+uuvc+WVVxIdHY3JZKJr1668+OKLbm3atGnDjh07+O9//+t67eWfbVlZWTz00EN0794di8VCaGgoQ4cO5ddff631WIUQTV9aWhpbt24lJSWl0mMJCQluSwprsm7dOj744IMqS1vk5eWxevVqbr31Vrdd0m677TYsFgvvvfee69j3339PSkqKK3kFEBcXx4ABA/jss888Ljk8U20/SwD279/PkCFDCA4OJj4+nnnz5lWameLpe35tPxuKi4uZM2cOHTt2xGw2ExcXx8iRI9m3b1+N1xTp6emMGzeOli1bYjKZiIuL4/rrr6/0WXbVVVdx8OBBv11m6e8M2b9jPLnT6x9D9u8N/RIaFZmBJRo1h8PBkCFD6NOnD08//TRr1qzhmWeeoV27dq5dEsq9+eab5OfnM2nSJIqLi1m8eDFXXnkl27ZtIyYmptbP2bx5c1588UXuvvtubrjhBkaOHAmUTZGsSnp6OldccQWlpaU8/PDDBAcH8/LLLxMYGFip7fLly7FYLEydOhWLxcI333zDrFmzyMvLY8GCBQA8+uij5ObmcvjwYZ599lkAVyHKvLw8/vWvf3HTTTcxYcIE8vPzefXVVxkyZAgbN2507SYhzj+lurKf+vQX55fWrVuzfv16tm/fXqu78N9//z2ffPIJkyZNAuDJJ5/k2muvZdq0aSxdupR77rmH7OxsnnrqKcaPH88333zj6rt8+XLGjRvHxRdfzJNPPklGRgaLFy/mhx9+4JdffnEl0dasWcPQoUNp27Ytc+bMoaioiCVLlnDppZeyefNm2rRpw8iRI/n999/597//zbPPPktUVBSA60IByhJGH330Effccw8hISE899xzjBo1ij/++MN14ZSRkUHfvn1dybnmzZvz5Zdfcscdd5CXl+dawl1UVMSgQYP4448/uPfee4mPj+ett95ye33V2bZtG4MHD6Z58+bMmTOH0tJSZs+e7fGz6cUXXyQpKYnrrruOgIAAPv30U+655x6cTqfrfV+0aBFTpkzBYrHw6KOPArjOtX//fj7++GP+9Kc/kZiYSEZGBi+99BIDBgzgt99+cxVfFY2bxHNRXz/++CMAF110Ub3O43A4mDJlCn/961/p3r27xzbbtm2jtLSUXr16uR03Go307NmTX375xXWspKTE4/fjoKAgbDYb27dvp2/fvlWOp7afJeVjv/rqq+nbty9PPfUUq1atYvbs2ZSWlla7dKq2nw0Oh4Nrr72WtWvXMmbMGO677z7y8/NZvXo127dvJyUlpdprilGjRrFjxw6mTJlCmzZtOH78OKtXr+aPP/5w3bgGXLvA/fDDD66aRqLpmDTvAkJDvJ+BlZdfyBPv1dzuvKGEaARef/11BahNmza5jo0dO1YBat68eW5tL7zwQpWcnOz6PS0tTQEqMDBQHT582HV8w4YNClAPPPCA69iAAQPUgAEDKj3/2LFjVevWrV2/nzhxQgFq9uzZtRr//fffrwC1YcMG17Hjx4+rsLAwBai0tDTX8cLCwkr977zzThUUFKSKi4tdx6655hq3MZUrLS1VJSUlbseys7NVTEyMGj9+fK3GK/xLbm6uAtQvR1F7C7z/+eUoClC5ubkN/ZLEOfL1118rvV6v9Hq96tevn5o2bZr66quvlM1mq9QWUCaTyS2evfTSSwpQsbGxKi8vz3X8kUcecYt9NptNRUdHq27duqmioiJXu88++0wBatasWa5jPXv2VNHR0erkyZOuY7/++qvS6XTqtttucx1bsGBBpfhacaxGo1Ht3bvX7RyAWrJkievYHXfcoeLi4lRmZqZb/zFjxqiwsDBXvF60aJEC1HvvvedqY7VaVfv27RWgvv3220pjqGjEiBHKbDargwcPuo799ttvSq/XqzO/inn6jBgyZIhq27at27GkpCSPn2fFxcXK4XC4HUtLS1Mmk6nS56lofCSeC1+ZMWOGAlR+fn617aqKJeWef/55FRYWpo4fP66UKvsunZSU5Nbm/fffV4Bat25dpf5/+tOfVGxsrOv37t27q44dO6rS0lLXsZKSEtWqVSsFqA8++KDKsdTls6T8OmLKlCmuY06nU11zzTXKaDSqEydOuI6f+Z2/tp8Nr732mgLUwoULK43V6XQqpaq+psjOzlaAWrBgQZWvtyKj0ajuvvvuWrUVjUN5PH9u+N/VKyPnef3z3PC/SzyvQO7PiEbvrrvucvu9f//+7N+/v1K7ESNG0KJFC9fvvXv3pk+fPnzxxRdnfYxffPEFffv2pXfv3q5jzZs355ZbbqnUtuJdp/z8fDIzM+nfvz+FhYXs2rWrxufS6/UYjUYAnE4nWVlZrrtemzdv9sGrEU2VQztdN8WbH4eUVTjvXHXVVaxfv57rrruOX3/9laeeeoohQ4bQokULPvnkk0rtBw0a5HZXuE+fPkDZXeSQkJBKx8tj9c8//8zx48e555573GqNXHPNNXTu3JnPP/8cgGPHjrFlyxZuv/12IiMjXe0uuOACrrrqqjrF85SUFNq1a+d2jtDQUNeYlFJ8+OGHDB8+HKUUmZmZrp8hQ4aQm5vriqlffPEFcXFxjB492nW+oKCgWu2043A4+OqrrxgxYgStWrVyHe/SpQtDhgyp1L7iZ0Rubi6ZmZkMGDCA/fv3k5ubW+PzmUwm19Igh8PByZMnsVgsdOrUST4jmhCJ56K+Tp48SUBAgGsGv7fnmDVrFjNnznSb4XqmoqIioCz+nMlsNrseB7jnnnv4/fffueOOO/jtt9/Yvn07t912G8eOHXM7lye1/SypaPLkya4/l8+ostlsrFmzxuNz1OWz4cMPPyQqKsrjhic11aoKDAzEaDTy3XffkZ2dXW1bgIiICI+1x0Tj50w8jrNduvc/iVKTtCJZQigaNbPZXOkDMyIiwmOg79ChQ6VjHTt2dFt3f7YcPHjQdcFWkaedVHbs2MGMGTP45ptvyMvLc3usNhcnAG+88QbPPPMMu3btwm63u44nJibWceRCiPPdxRdfzEcffYTNZuPXX39l5cqVPPvss4wePZotW7bQtWtXV9uKCRgo20IZyuqpeDpeHqsPHjwIeI6JnTt35n//+1+N7bp06cJXX32F1Wqtchesis4cK7h/fpw4cYKcnBxefvllt22hKyovZH/w4EHat29f6YKkNrtlnThxgqKiIo+fUZ06daqUlPvhhx+YPXs269evp7DQvXBrbm6u672titPpZPHixSxdupS0tDS3+ooVa84IIURNZsyYQWRkZI070pYn3j3VBSwuLnZLzN91110cOnSIBQsW8MYbbwDQq1cvpk2bxhNPPFFtwq22nyXldDodbdu2dTvWsWNHAI91GqFunw379u2jU6dOXu1gaDKZmD9/Pg8++CAxMTH07duXa6+9lttuu43Y2NhK7ZVSUsC9iQrolktAkMH7/oX2mhudRySBJRo1vV7v0/NpmuZxS9GKX/DPppycHAYMGEBoaCjz5s2jXbt2mM1mNm/ezPTp0z0WfT/T22+/ze23386IESP429/+RnR0NHq9nieffJJ9+/adg1chGiupmSLqw2g0cvHFF3PxxRfTsWNHxo0bx/vvv8/s2bNdbaqKyVUd9xRvz5WaxlQeb2+99VbGjh3rsW11tQ/Phn379jFo0CA6d+7MwoULSUhIwGg08sUXX/Dss8/W6jPiH//4BzNnzmT8+PE89thjREZGotPpuP/++2vVXzQOEs9FfTVr1ozS0lLy8/PdZsjW1p49e3j55ZdZtGgRR48edR0vLi7Gbrdz4MABQkNDiYyMJC4uDsA1i6qiY8eOVaq998QTT/DQQw+xY8cOwsLC6N69O3//+9+B0wmmhnIuPxvuv/9+hg8fzscff8xXX33FzJkzefLJJ/nmm28q1brKyclx1XsUTYsWEIcWUHl2Yu37137DmPOBJLCE39izZ0+lY7///rvbcpeIiAiPyw/L7+iUq+sdjtatW3t8/t27d7v9/t1333Hy5Ek++ugjLr/8ctfxtLS0Sn2rGsMHH3xA27Zt+eijj9zaVLzIFOcn2XZd+Ep5IV5PFyPeaN26NVAWE6+88kq3x3bv3u16vGK7M+3atYuoqCjX7Kv63olu3rw5ISEhOBwOj7t0nTn+7du3V7oD7mmcnp4nMDCwVp8Rn376KSUlJXzyySduM8g87TJb3WfEFVdcwauvvup2XC5+mhaJ56K+OnfuDJR9x/Qm4XLkyBGcTif33nsv9957b6XHExMTue+++1i0aBHdunUjICCAn3/+mRtvvNHVxmazsWXLFrdj5SIiIrjssstcv69Zs4aWLVu6xu1JbT9LyjmdTvbv3++WFPv997Id3SpeH1RUl8+Gdu3asWHDBux2OwaD5xk2NX1WtWvXjgcffJAHH3yQPXv20LNnT5555hnefvttV5sjR45gs9no0qVLtecSjVPWB07MBu9vIBXb5eZTRXJ/RviNjz/+2G0L3Y0bN7JhwwaGDh3qOtauXTt27drFiRMnXMd+/fVXfvjhB7dzBQWV7RSRk5NTq+ceNmwYP/30Exs3bnQdO3HiBO+8845bu/IZARVnJdhsNpYuXVrpnMHBwR6XFHo6x4YNG1i/fn2txipEU3PDDTcQERHhVn9I+Ma3337rcZZU+bK22iyRq41evXoRHR3NsmXL3JaYfPnll+zcuZNrrrkGKNtKvWfPnrzxxhtu8Xf79u18/fXXDBs2zHWsPJFV2zh9Jr1ez6hRo/jwww/Zvn17pccrfk4MGzaMo0eP8sEHH7iOFRYWVrm85MznGTJkCB9//DF//PGH6/jOnTv56quvKrUF9/iem5vL66+/Xum8wcHBHl+7Xq+v9N/0/fffr3KLeSHOJYnn506/fv2AsrpR3ujWrRsrV66s9JOUlESrVq1YuXIld9xxB1C2bDwlJYW3336b/Px81zneeustCgoK+NOf/lTtc7377rts2rSJ+++/31XDz5PafpZU9Pzzz7v+rJTi+eefx2AwMGjQII/PUZfPhlGjRpGZmen2HBWfC6q+pigsLKS4uNjtWLt27QgJCam0FDM1NRWASy65xOOYReN2x58LuftWq9c/d/y5sOYnOY/IDCzhN9q3b89ll13G3XffTUlJCYsWLaJZs2ZMmzbN1Wb8+PEsXLiQIUOGcMcdd3D8+HGWLVtGUlKSWz2qwMBAunbtyrvvvkvHjh2JjIykW7duVW4zP23aNN566y2uvvpq7rvvPoKDg3n55Zdp3bo1W7dudbW75JJLiIiIYOzYsdx7771omsZbb73l8QIyOTmZd999l6lTp3LxxRdjsVgYPnw41157LR999BE33HAD11xzDWlpaSxbtoyuXbtSUFDgw3dUNDX+esf+vvvuY/z48a5aGcJ3pkyZQmFhITfccAOdO3fGZrPx448/8u6779KmTRvGjRvnk+cxGAzMnz+fcePGMWDAAG666SbX1udt2rThgQcecLVdsGABQ4cOpV+/ftxxxx0UFRWxZMkSwsLCmDNnjqtd+bbijz76KGPGjMFgMDB8+PBa1ccq989//pNvv/2WPn36MGHCBLp27UpWVhabN29mzZo1ZGVlATBhwgSef/55brvtNlJTU4mLi+Ott95yXZjUZO7cuaxatYr+/ftzzz33UFpaypIlS0hKSnL7jBg8eDBGo5Hhw4dz5513UlBQwCuvvEJ0dHSl2XDJycm8+OKLPP7447Rv357o6GiuvPJKrr32WubNm8e4ceO45JJL2LZtG++8806lOjCicZN4Luqrbdu2dOvWjTVr1jB+/Hi3x9atW8e6deuAsoSM1Wrl8ccfB+Dyyy/n8ssvJyoqihEjRlQ676JFiwAqPfbEE09wySWXMGDAACZOnMjhw4d55plnGDx4MFdffbXbc8+bN4/BgwfTrFkzfvrpJ15//XXXd+jq1OWzBMpq6a5atYqxY8fSp08fvvzySz7//HP+/ve/V1uUvrafDbfddhtvvvkmU6dOZePGjfTv3x+r1cqaNWu45557uP7666u8pigtLWXQoEHceOONdO3alYCAAFauXElGRgZjxoxxG8/q1atp1apVpWWFomnITx8IgbX7vuCxf1Eh8JrPxtPknfN9D4Xw4PXXX1eA2rRpk+vY2LFjVXBwcKW2s2fPdtt2PC0tzbUN7TPPPKMSEhKUyWRS/fv3V7/++mul/m+//bZq27atMhqNqmfPnuqrr75SY8eOVa1bt3Zr9+OPP6rk5GRlNBo9bn97pq1bt6oBAwYos9msWrRooR577DH16quvVtrm/YcfflB9+/ZVgYGBKj4+3rVtPWdsxV5QUKBuvvlmFR4ergDX+JxOp/rHP/6hWrdurUwmk7rwwgvVZ5995vE1iPND+Ta9a0+ifrJ7/7P2ZOPddv3bb79Vo0aNauhh+J0vv/xSjR8/XnXu3FlZLBZlNBpV+/bt1ZQpU1RGRoZbW0BNmjTJ7VjF+FvRt99+qwD1/vvvux1/99131YUXXqhMJpOKjIxUt9xyizp8+HClca1Zs0ZdeumlKjAwUIWGhqrhw4er3377rVK7xx57TLVo0ULpdDq3WOtprEop1bp1azV27Fi3YxkZGWrSpEkqISFBGQwGFRsbqwYNGqRefvllt3YHDx5U1113nQoKClJRUVHqvvvuU6tWraoUu6vy3//+1/WZ0rZtW7Vs2bJKn2dKKfXJJ5+oCy64QJnNZtWmTRs1f/5811btFT9L0tPT1TXXXKNCQkIUoAYMGKCUUqq4uFg9+OCDKi4uTgUGBqpLL71UrV+/Xg0YMMDVRjReEs+FLy1cuFBZLBZVWFjodrw89nj6qen77oABA1RSUpLHx77//nt1ySWXKLPZrJo3b64mTZqk8vLy3Nrs3btXDR48WEVFRSmTyaQ6d+6snnzySVVSUlLr11Wbz5Ly64h9+/apwYMHq6CgIBUTE6Nmz56tHA6HW1tPr7u2nw2FhYXq0UcfVYmJia52o0ePVvv27XO18XRNkZmZqSZNmqQ6d+6sgoODVVhYmOrTp49677333M7vcDhUXFycmjFjRq3fH9E4lMfzS4bOUpdf9w+vfy4ZOqvRxvOGoCnVgBVWhfCBAwcOkJiYyIIFC3jooYcaejhCnHN5eXmEhYXxVRYEh3p/HmseDIksW7IUGlq7E61bt44FCxaQmprKsWPHWLlyZaW7si+88AILFiwgPT2dHj16sGTJEnr37l2nsX333Xc8//zzbku4hBDC30g8F76Um5tL27Zteeqpp1zL/YQ7h8NBQEAAjz32GDNmzGjo4VTy8ccfc/PNN7Nv3z5XsXzRNJTH8zlXD8NcRY202ii225mz6os6xXN/JksIhRBCeM1qtdKjRw/Gjx/PyJEjKz1evgx22bJl9OnTh0WLFjFkyBB2795NdHQ0AD179qS0tLRS36+//rrSzkVCCCHODonn/icsLIxp06axYMECxo0bV219qfNV+fLsxrrJxfz585k8ebIkr5qw696ejCW09uUNzlSQZ2VO1Bc+HFHTJgksIYTwE76qmVKxHhyAyWTCZPK8/e/QoUPdNko408KFC5kwYYKrltKyZcv4/PPPee2113j44YcB2LJli/eDFkIIPyTxXPjK9OnTmT59ekMPo1H64IMPePPNN9E0jSuuuKKhh+ORbNLU9C14pRCj2fuAbiuWIu4VSQJLCCH8RKmu7Kc+/QESEhLcjs+ePduteHZt2Ww2UlNTeeSRR1zHdDodKSkp8oVMCCGqIfFciLNv2rRpaJrGq6++6rNdd4U403UbdxNkMHvdv9BezL99OJ6mThJYoslr06aNx138hBDeOXTokNsa+6ru1tckMzMTh8NBTEyM2/GYmBh27dpV6/OkpKTw66+/YrVaadmyJe+//75re3AhhBBVk3guRNX279/f0EMQ54GvBwVgDPQ+7WIrCoCVPhxQEycJLCGE8BNWyrYQ8lb5BOXQ0NBGVSRyzZo1DT0EIYQ4pySeCyGEf4g62QmT2fsaWCXFVh+OpumTBJYQQviJPMBej/5FvhrIKVFRUej1ejIyMtyOZ2RkEBsb6+NnE0II/yHxXAgh/EP7Np0IDArxun9RYb4PR9P0+W0Cy+l0cvToUUJCQtC0elTBFEKIs0QpRX5+PvHx8T7ZGaixXfAYjUaSk5NZu3atayt2p9PJ2rVrmTx5cq3PI/FcCNHYSTyvHYnnQojGztfxPOXdFYTUowZWvr243mPwJ36bwDp69GilwpVCCNEYHTp0iJYtWzb0MLxSUFDA3r17Xb+npaWxZcsWIiMjadWqFVOnTmXs2LH06tWL3r17s2jRIqxWq2sXq9qQeC6EaCoknldP4rkQoqnwVTx/aZzCFOT9ovCSQgVf1HsYfsMnCax169axYMECUlNTOXbsGCtXrnTdnYGyLObs2bN55ZVXyMnJ4dJLL+XFF1+kQ4cOrjZZWVlMmTKFTz/9FJ1Ox6hRo1i8eDEWi8XVZuvWrUyaNIlNmzbRvHlzpkyZwrRp0zyOKSSkbJremcUrzxaHw8G+ffto164der3+rD/f+UDeU9+S99P36vue5uXlkZCQ4IpX9ZUH2OrR35v7Oz///LPb1tNTp04FYOzYsSxfvpw///nPnDhxglmzZpGenk7Pnj1ZtWpVpULA1ZF43vTJe+p78p76lsRzieeiduQ99T15T32vPu+pr+P5Nau/x2L0Pu1SYCvlKZ+MxD/4JIFltVrp0aMH48ePZ+TIkZUef+qpp3juued44403SExMZObMmQwZMoTffvsNs7lsOt0tt9zCsWPHWL16NXa7nXHjxjFx4kRWrFgBlP1FGjx4MCkpKSxbtoxt27Yxfvx4wsPDmThxYqXnLJ+WfK6KVzocDiwWC6GhoRJ4fETeU9+S99P3fPWe+moZRR5QUo/+3vQdOHBgjbuATp48uU5LTM4k8bzpk/fU9+Q99S2J5xLPRe3Ie+p78p76ni/eU1/F869bdMJsNnrdv7jYBvzXJ2PxBz5JYA0dOpShQ4d6fEwpxaJFi5gxYwbXX389AG+++SYxMTF8/PHHjBkzhp07d7Jq1So2bdpEr169AFiyZAnDhg3j6aefJj4+nnfeeQebzcZrr72G0WgkKSmJLVu2sHDhQo8JLOG/rFara2ZeRkaG687f/v37adu2baX2FdsUFBQQHFz1LhAVz12xbcXjZ56zprae2pf3ATy+lor9oqOjq3zNZ57D0+/VvV4hhGhIdY3nZ7arLsb5Ip7X1L42f66opphdU3yXeC6EEEI0LUc39MNoCPK6v81eCLzsuwE1cWe9BlZaWhrp6emkpKS4joWFhdGnTx/Wr1/PmDFjWL9+PeHh4a7kFUBKSgo6nY4NGzZwww03sH79ei6//HKMxtPZyyFDhjB//nyys7OJiIg42y9FNLAzLyL0uO+G88cff3jst3fvfgIJxkYJVmvZNqRnXgRUPHcABkqxc+DAAXp2u5AQwskh0639L7/8UnYeQgkmhKNHjhHfIs51rop06Dlx4oTrz04cABw/ftytXXmbisovZLZv3+46duDAAdefz0yUWSwWtm/fTiAWnDjcHg/QB5C6ObXScwj/kU/97tjXZ7mKEHVxZjzXoefY0WOu3w8dOlRl3x0bd6JDhxOnx5he8dx6AnDi4MCBA1zQrQfhNCP7jHheHmeDsBBCOEcOHaFFQguCg4OxWq1uMVePnoMHD7rGXDFuV/VnDQ1F2awWi8XCxo0bXY+lpaW5jb1i0qs8npsIRIe+UrwPCAggNVViur+SeC6EEP6h39g/CAryvoh7YWExr0sNLJeznsBKT08HqHQnMiYmxvVYeno60dHR7gMLCCAyMtKtTWJiYqVzlD9WVQIrOzsbh8Ph+t1kMmEymerxijxzOBw4nU635xLeO3Eoky3rtvPiUy/z9b5P2L59O107daWTridhKpJcTpJAByb2eJAUbTQAj1zxD1K00WRwmAztMIXkkaQuZuZlC+inDeEkx7gori8aGmaCCVYhHNLtIU/LZteuXZj0Zlo62xNJNCGEM7b7PXTRkgHoRm/s2MjUjqFQPDD0UbppfYihJTaKGdt5Ert1v5CnZRPotNBa60hL2mLHjh49wy4Y4RpnBofZr9tB7/aXUKIVMUC7jv3aDgZdcDWJWmcMGDmg7SZBtScICzZKuPKCwSTqOhOl4vhL34m00LWhi+rFfu03wlUUThwYMaGhMeyCEXTRLqKQPAD0GFAojMrEZ0vW0GpBK5+t6T7f1fffva/jRR5gqEf/+ux4dS5IPG+ack7k8eu6bSya9QKrD3xC6ZQv0Z4dTHtdN5qpGHLIIoF2TLroEVecnD7wcVK00WSSzhFtP0Xk00ldRBjNeOK6JfTQLuG4doTkuH4YMROqIjis20eOVpacMulNxDvbEkYzoohlXPcpdNV6oQFd6YUDO1nacezYMSoTegJOxfMSxne9n991W8getRLjBylEqTj6aUNw4kADRve9hSu0EegJ4C/d7yZIbyFIWejdoy8DtOGkabsYdMHVtNE6YSaIQ9o+YlVLTASigGv73kArXXviVSKjL7iVAi2XK7UbOKj9TriKwo4NAwYCsTDsghtI0nphpWwLbSMmbJRgJogSVURRYTEFBQWVklui7iSen1sSz5sueU99T95T36vPe+rr/w7P70tHb/Y+vjmK63M7w//47S6E5dq0aeP2+6RJk+q1dr8qTqeTrKws9u7d65PtNs93x/84wZp//5fC35xcffF1PHDdI1yuuw5Kyx4PJRIAC2GuPsGU1VKIoSUxupZwRuxpTguaqxbux5zxmNpp/O22v9Pfea3bYxGUJVWNrcCWDiZbIBYVxplMBGIikIucAzB30ijefbp+ROCp/+8U0BN16ttkrKElMfaW6MPBWQqqADqpCzEnQfGOsjZtTB1xVqjAmqDau/4cRjNO3cynrepaaTwhWgQoiMQ9KYyC/761gW3ZPzP78VmV+om6q++/+/IlQr6Si39f8Eg8b5oKcq18++EPFP3uZMgF16HWLKVIdz3qVDwPoewGVCCnZyKVx/YoYonSxVaK582IpZmKdTsW5YzD2FrD3Eoj70en22NhNCOMZhhaQmkWqEII9hDPzVoQKOjhvBTzL09TrLu60nN3NIS7prc008dwieNq9KGgNHDmQkfVg8CuUPRbWZsEQztUhekwLdTpm3EWwlzxPFF1qTSejroe4IBIPBfJ/uzDz3nu6GJmzpzp8XFRexLPzy2J502XvKe+J++p79XnPfV1PL+6SwtMwd7PwCqxFrPVh+Np6s56Ais2tuwLZkZGBnFxca7jGRkZ9OzZ09XmzOVUpaWlZGVlufrHxsa6LRcrP0fF5/DkwIEDbkUiz+Ydnr1799K+fXspvucDPZJ6cqkahh49BZucNXc4Ux0S5yX7FCX7qi5auv+PvbSkfaXjCkUpdgycXtZavFvhxIkOnVu7PHs2gVjQoUdv13OcIxzLPcgFqh8aZQUCf9vxG20pS0g5q9k+qJgiTJhd/Sqp5u3ShTr5z2ef8va7b1XdSNRaff/d5+XlnYVR+S+J502T2WzmEsfVGDFj3epE4USjDl8m6xDPbQcVtoPVxPPDe0igQ6XjCoUdG0Z1+u9T8d6y42fG2mzbcSyEo0ePzqHnGAfJzj9OJ3UResr+vvz22y4S6Vx27mrWctkoxnBq9qxH1bx2qzOffYf2sPI/K3nzzTerbihqReL5uSXxvOmS99T35D31vfq8p76O55a3tmE2eF/E3WCXReEVnfUEVmJiIrGxsaxdu9aVsMrLy2PDhg3cfffdAPTr14+cnBxSU1NJTi5bsvXNN9/gdDrp06ePq82jjz6K3W7HYCi7J7V69Wo6depUbf2riIiIc7LLCYBOp0Ov10vg8QG70wba6YsQu7Jh0Lz/h19bTuVAp7n/9ytPXhWoPEyYT49DKY9jqpi8KlV29AQQqkWSrU4QgIEQLZwslUE31dttd4vy5FVNzK55XXWTRQaXTbqL96a+Jn9Hfag+/+59/d8hn/oF9VJfDeQskXjeNJWWlkKFWGdTJZg07+JYfZUnr4pVIXBqxhWAAqNW+eK5PLGkVPnNCY0ILZosdRwTgQRhIYeTdFA90Ff47GilOlBVTqoiI97dkc1RmRzQ72LJ3z7jpVdekr+nPiLx/NyReN60yXvqe/Ke+p6376mv/xuMK3iAUIP3S/3z7AXM4l0fjqhp80kCq6CggL1797p+T0tLY8uWLURGRtKqVSvuv/9+Hn/8cTp06EBiYiIzZ84kPj6eESNGANClSxeuvvpqJkyYwLJly7Db7UyePJkxY8YQHx8PwM0338zcuXO54447mD59Otu3b2fx4sU8++yzvngJopHJL8gnPiyBPqZBqCLOSfIKwImTUmXHqFW+qHDioIA8IogCwIGTgGpmEThUKUVYCSYU7dT/CingmDpINpnotdP//Mq2rVZo2tmbNlyg5dH2t3yCgrzfBUM0bnlAfT5ypfKCOBsKCgqIDYvnkqDBOAs4Z8krpRRW8rBolZcKaujI5gSxlMXDUkoxVLNgS6EophAzQegp2+wjnxwyOMxxDtNFu8itvV47uxcgBeSRRxYGg0Fiup+SeC6EEP7hyW5bMZm8/6wuKSmEr304oCbOJwmsn3/+mSuuuML1+9SpUwEYO3Ysy5cvZ9q0aVitViZOnEhOTg6XXXYZq1atwmw+nSR45513mDx5MoMGDUKn0zFq1Ciee+451+NhYWF8/fXXTJo0ieTkZKKiopg1axYTJ070xUsQjUxwcDCF5KOKfHM+hyp1SxhVJUAzUFXViVAtglJlr9C26vMdU3+Qy0kAOmsXAhCuRVGiisgjGxvF5KhMwrUoMlU6uZyknZZU4/gKVT5BmncF2FupDqz5ZS2T+atX/UXjlwd1WZhViReLdYWoUXBwMMUUonxUlMepHGjo3GaweqJpmludxIpMmpmoCjW0DFrVyatMdYxMjlFKKd203kDZ50GQsnCQ3ejQc1wdIVprQbY6wXGO0EnrWePrUErV+Bqq6tNSa4vJ6X09DdH4STwXQgj/cOUNPxJk8X4yRmGBjaULfTigJs4nCayBAweemkHimaZpzJs3j3nz5lXZJjIykhUrVlT7PBdccAHff/+91+MUTcexo8dIdg4s+/ZWxbewuiwrrE3yCsoSXTr0Hi8qSlSRx5kDh9Q+ErR2bsfCiCROa4VTOd36mbRAOtCd1qojv/IjXVQyFkKx13LD6+qSV4UqnzyyidVaVdmmeK+isLBQdiEUQpwzGRkZXOC8pNoEVqmyn7qBULMzl3lXxaEc6KpIdNlUicclg+nqj0oxNJhQorSyGp5FykqgVlZsPkAz0I5utFGd2cz/MKsggrBUmTQ7U3XJK7uycZDfaa91q7JPc+Kx2WwS04UQQohGLHpVLJZ67EJYILsQuvH7XQhF09SyRQJdtIsIUeFVtqnPssKqkl/VJbqqWvZyZvIKIEgrW+es03RlW6crJ06Ua1mJASMXcbnr9ziqTjrVluL07oxVMbbUiIyMxG5v7PsTCW/kU6uyO1Wq+jaEEN6LjY2ls3YRkVp0lW1qm7zypKpkVHXL+Dy1BzzeAChPWJX/WSmFwulKpOnQk0x/1+8tSKx0jrrSoyeWhGrbFJDLM888wwcffCAx3Q9JPBdCCP/w+hX7MAbX43uO1Q5P+HBATZwksESjpHBSQhEoKKGYApXDHrbRi4H1utApZ9CM7FM7aE0nj0sBncqJzof1qBSQynd0VD0J15qhaZprt6qKjqj9WAgjTGvmOnZA7SaGlgRgQE8ANopdhYdtqthVryuAgBpry5gSgWNgtVoJDg6utq1oemQPLNEYaWgUkQ+Osl33ipSVnWymG7091qeqK6NmYr/6jSjiCNUqb+riaXOO+tA0jR/U13RTvV3xXPMQz4+pgwRgpLl2egfmo+oAYTTDgIEAjG7xvFAVuG5+lFBS43tziH20oVm1bUTTJfFcCCH8Q8wPYzCZvb/uKim2Au/7bkBNnCSwRKMVRdmXfhNmDDSnr3aVT89fthuV+z3K8uUj3iSv8lQOVnKJ01pXesyODQ292w6FZ3KoUo5zhN1s4WJ1JSFaOEXKShbHcVBKKzqc2hFLo0QV4cRJoBZMoSrgEHtpSTtqmpxaclARrEKxWCzVLvsVQghfCjmVaDFixqiZ6Yuv43l7tDPi6zH1B3FaK6+SV8WqiKOk0VY7vTtsef0pu7ITRDAOqp715FQOTpLBcY5wgepHlBZLsSokiwzyyKYtXV07HNqUDTvFBGuhFKtCDrOPKOIIpPqCr3G0pjRb4rgQQgjRmHUYvI4gi/dLCAsLSmC2DwfUxEkCSzRaJk7PJjrzAqRQ5WPHjh0bUVrsmV1rxagZcSj3fXqqqx9Vk1AtnDyV5XbMqvIJ1kIwaWa6qYv5gS+5SF1eaSmNUk6KKKQnl6FpGjtVKhYVTibH6EgPLNrprabNuM+yCtIsmJQZHTpKVSkKZ5XLK+3HwNHoN9cWXnNQv62nZNsqcRYoFGFUnhlVrkQVUUIxJRTRXIuv3TnPKIBu0Ixum2wARFO7c3li1gLRlHtCLJ8cQonAoBm4QPXjv3xCkrq40ueGUzkpoZgkLqab1pu9ahvFyspRDtKVZLeZVeZTSSojxlPPG4RBmQjEgl3ZXK/Nk1Ai6rdNnWjcJJ4LIYRfePE1CwFG7zdeKbXVf/WRP5EElmiUcnJy+Nf0t/ny5W89Pv4H+zjCPi7h6no9jzdbnVe3c1RLra1bO6fbN0hFMKEcZDeRRGNXNkpPpeECCSYAg+u8XbRkDqrfuVC7rFZjMmLCgQMzeoooRq8CUKhKBYwDIuC3jTuIbFb1xaRowpzUb+sp2bZKnAX5+fn8e/5K3nviE4+PH2Y/B9lNL67w+LgnnmLwmcvLa7N5R3XLxRO1zm6/OyrEc4UihHAO8DuxtMKubDgoxUEpBoxusbe91p0DahcXc0Wtdh00YsKJAwNGSijCQNnNFg3NbaxWcnn8kcd47f9eqfGcogmSeC7OE97syCpEU3J9QDfMhupnVVen2FnIzz4cT1MnCSzRKP2yZptb8ipPZROAgSDNglM5iSKasBoKlp/JrkowVFG490ylqtRjbSyofueoM9uFEM5RdRAHpbSkLf20wa5ZXwbNWHaho4pQODjMPlqrjq677aW13JlQKUW8lki2ysSJgyCtbHlgxQsdhypFrwVgPw6OIqfUv/JXcsdeNELpe0+4Ja+KVSHFFBGuNUOpskRQd/qhr+VXEodyYKfEVTuqPrQ6lMmO0KI4pg5Sip042tBbG+Q2S8qAkSJlRUPHIfYSqxIIPrVzrANHrT47lFLEaa3JU9loaK6i8RVvtpTv2BhCBPknCgkKqv/7IBohiefiPCHJK+Hvtif+C2Og92kXW5GsnqlIElii0bFarQQ3CyKNnSTShTR2Ek4UAZTdXddpOqJOLQ2xqaq3FS3fQj2DQzhxEkYUBkw4VCkOHFXuQgVUmbwqO2+pxzv7Vd1BshBKAbkAlKjiU8XbT1+MOCilFDvxtGY3W2ilympdDfnTeLa9/x1mAikglxAt3ON4yp8zQotiv/qNRNWl0jjKx9txUFcS2reo8rUJIYSvmSwGbnhwKCuf+ZJ9bCeSGAynKvZpmkY0ZTGpRBVXeQ6ncqKhkcUJCskjkhgASpUNhfe70lZ14VRVPA8nihMcJUALoEQVVUq66dFTQC4taMM+dtBCJWLASG7UTVgzfyAIC4UUuBJbVY0nVIvggNpNS9W20syy8t/z4uJJ6Oz9MkkhhBB1l5qaSnJysk/P+f333xMb611JFNH4XbcmkiCD98sAC+123vXheJo6SWCJRsdisRCAgUu1YegskFjQpcq9pKtKQimlsJKPDo0IotnPb/zOr/RUl+LAQTp/0EIlYiG82mSVJ3otAKvKIxCL2ywnhcKhHJXOF6pFlNUqoawgfbo6RKAKJkyLpEQVU0IJEVoUAN3oTamyY6OYvR9sJPDUDIMQwms1tooFh89kx0anUd3r8lJFUyN37EUj1KZDGy7VriYwKJDEwq5VLtkzaVXXh8jiBKGEEUo4x0jjd37lQnUZoOMI+4hXbV31qeoqT2UTQrhbwqqsWLutUmIsUAumFR1OjTeQLHUChyqluRZHqbKTTw7NTtVlTOJilFLkk8NFJ7fCqaRVMJ6TV2dqo3Wq8jGncnAg/UM07e46vVbRhEg8F6JR8nXyCqB///7s2bPH5+cVjcOOuTrMFu+LVhYXOOBrHw6oiZMElmiUSrGX7djn5QZLmqZxRO0jinhslHCE/QRhYRsbKKEIABsldOACLJwukF7bdfjHOUIL2mLE5NrNL5tMmp1RnN3TbK1oWqBQ7FM7OMhuAgmmH0NcjwdoBtdsM186oR1lfeQWJnGDz88tGgmpmSIaISeOsvpReqrdibU6x0jDSQJBWEjnEGaC2MlmirACYKeEtiQRTpSrT23jeRYZmDBjItAVz3M46bqxUN35IohC0zQOqN2ksRMdOgZwnVubUM33NQezOEGWLsPn5xWNiMRzIYTwC9EnTxJY7P21XZG16l2Pz0eSwBKNTkFBAVarlb5xA2hn7eaxTU0XJpkqnSOkcZyj2ClbZlhIgVubk6S7FUn/Q+2lhCIiVTTNtJhK53QoB3pNj13ZCMRC+bSwEoqwYyeS5pX66LUAjqj9tKhQ3L189kGcak0aO7GSzx9qD620srv6h9U+csikm9anytfnDVPzQSh925obCiGEDxUUFNAxtBtd83t5fLymeJ6ncsjgMFkcp5SyL3HFFLq1yeIE3SrMbMpQh8nkGLGqVbXxvFTZXfFcKUUJRThxEk6zSn00TXOL1eXHABJoz1624QD2qG100Mpmu6bzB5kqne6+jufRSej+9pxPzymEEOLci46OpqSkhA0bNjT0UMRZ8u2BMRgCva9XaS8qBNbUur3D4WDOnDm8/fbbpKenEx8fz+23386MGTNc31uUUsyePZtXXnmFnJwcLr30Ul588UU6dDj9HScrK4spU6bw6aefotPpGDVqFIsXL8ZisXj9WnxBElii0QkOLitaW14ct7acyoFO0+NUTg6xBx06V/KqKr+rX+mo9cCq8tnDrygUB9lNN9W70tbo5UV0DZqRWBJcx3M4iRGT2wVYkbISqJUVSi+hmPXqa0IJx0oBvbUrgbKdpswE0YZOlFLKDrUJPQFkkUEiXer02muj2fF9lO6uXRF70UTJkhPRCAUHB+Ok6gKknpJX5bsDOpSDA/yGERO2GuL5HraSxMXYlY0dbMKJg2McpIO6gNZaR7e25fE8QDMQQ0vXcavKw46dIO30l7MClYdFK5upG4CBH9SXhNMMK/n01ga5zmdQJhIp27lwu9qEAQPZnHA7v6+EnDhJxN5DQMca24omSuK5OE8tnf0y98yd2NDDOGcGTTzAB/PDGnoY4iwabFxNoMm7Wp0ARQ4b/6lD+/nz5/Piiy/yxhtvkJSUxM8//8y4ceMICwvj3nvvBeCpp57iueee44033iAxMZGZM2cyZMgQfvvtN8zmspIOt9xyC8eOHWP16tXY7XbGjRvHxIkTWbFihdevxRckgSUapaxjOa46I554uuDRaXpsqoRD7CWPbJy1mD//B3v449U9MN77sZ7kGElab7djx/iDVqo9VvIxEUgh+VjJA2CnSqUNnSmkgIu5stq6L3WRozLJ4SQGjBgxYSHMlUQrp5lyffJcopFyUr+LFllyIs6C9EMZtFJV13PyRKfpsCs7R0kjm5M13owAOMZBjj1jh6lHvR0qJzhKZ+2iSseCVDB5ZGPARDGFHDu1dHGrWk97ulNMIb25slLM9VaOOkk+OejQCMCAhfBKhd8dRd5/GRZNgMRzcZ46n5JXAP9+PIgP5jf0KMTZ9O3QFzCEhtbcsAr2vDyoQxn3H3/8keuvv55rrrkGgDZt2vDvf/+bjRs3AmWzrxYtWsSMGTO4/vrrAXjzzTeJiYnh448/ZsyYMezcuZNVq1axadMmevUqm0G/ZMkShg0bxtNPP018fMNtIiMJLNHoWK1WTKEGtuk20MeZUm1bpZxop5bk7VAbySWr0lLBGnlIXjmqmS1Q0R61jUzS3Y4VqgJa0xG9pieMSIJVCNG04Chp5JHDUQ7Qhs4el7XU1RGVRgaHcOAgl5No6FCnvrUGYGAg17u1z52XxaGhR2nTNcHT6URTJzVTRCNjtVrRjLBdt4FLnFdX27Z81hXAHrWVExyjkPy6PaGH5JWzllmAg+p3jpBGZ04nsEpUEa3piE7TEU4UdmVjINdzhDQKyOMoabSmE5Fn1D/0RoY6zGH2ndpt8TgaGupUIUhP8TzpnRXsvepmt+n+wo9IPBdCCL9wycufEmj2fglhUXEhHwB5eXlux00mEyZT5dU1l1xyCS+//DK///47HTt25Ndff+V///sfCxcuBCAtLY309HRSUk5fZ4eFhdGnTx/Wr1/PmDFjWL9+PeHh4a7kFUBKSgo6nY4NGzZwww0NV1NZElii0SlfVxugCyAgGkqPV91Wq7CbVRhR5JFDLAmkc8hzh3uApZUPJ9CeeNpwjIP8wR528QstqLleVCKdOchu15JBp3KSRxYxFZYYBmgGSlUpzYjDQjg2ij3epS9SVraxgS5cRIgWXu3zpqld7GN7peOqwjfWUuxkqMPEaBWWr+j1RLWMrPF1CSGEL7jiuT4AY2uwHay6bcXdCcOJIoPDJNCOQ+zz3KGKeB5HK1rSnmxOsJdt7GMHcao1Zq36L4+ttY7sVdvIVVmEaZE4lZNcsmlOnKuNQTNiUyVE0xITJymhiDCtcky1Kzub+S+duJBwrXI9rYqOqjR+IxWeuAgePeE6rirsYlKKnUNqLwlae9cxnd5OXMf63wgRQoiG9t1/1jHw+ssbehg+M3lBIc//rfYJixsfzgYOn70BiQZlGPsehhDvi7iX5tvhMUhIcJ+AMHv2bObMmVOp/cMPP0xeXh6dO3dGr9fjcDh44oknuOWWWwBITy+bfBET4/4dIiYmxvVYeno60dHuN+cCAgKIjIx0tWkoksASjVZz4imtw4q3llpbipWVfKrp5OFih6duI27aEfaxg070JIcsmp1RkF1rE4M97TAamtuuggGagVAVgYGypRw6TUeAMnCIva4lkEopdOgwYUaHDn2Ff3YFKpdsTpDBYXLIBGADawhWIXQmmQAMaJTVy9rHDswEcZyj5JNdq/dkGz9hUJe7ZgeonAIK8gqwhPpmmYtoZKRmimikmqt4SmsXtsraa/GcVOlluxdWxVM8f6w18W8ns3/3jyRxMRkcIoLmbsmrnOhIgjPS0dAI0Ny/UEbQHDOBwOl4vo8dtOf0hiIGjDhwYCHUbcfYQlXASTI4wVGyKNsh8Ge+xaQC6UovTJjRYwAUB/kdE4GcJN0V+3l0c7XvyW62YFAmYrWyL7B6eyknj2aB73d0F42BxHNxHqkqefX0A4t46Nn7z+1gfKAuySuAN+cEsmfPWRqMaHC6Tc+hCwqpuWFV/QvzgQ4cOnSI0ApLET3NvgJ47733eOedd1ixYgVJSUls2bKF+++/n/j4eMaOHev1OBoLSWCJRqegoIAQSwgJqgO1KHvitoPVEdKwU7fi70x7kz9IoC1dKMJKGzrSDPeM9P6079jHDsKJohcDXceLlJUEOlS4Tw55ZJPGTqJUHEGaBU3TKFC5BGEhSLPQk0tdbS1aGFnqOHlkuT2flXxS+Q4TgXTmQo5ygCOkVf0aXqPKOl6bWcdlahiaVpZEa9emHdbSOi6zFE2DXPCIRqagoACLxUKcaoMzr+b2FZeFZ5Ppqh1YazMP8geltKEThRTQgrZum24AlGRs5Wd+IpgQ+qrBrs8Pu7LRjFi3mU+F5HGAXTRX8a6ZVsUUYsBEsBZKd07vLhikWTiujlQacwlF/ML3GDDSmYuwks/hqmaVAbwBVPH9cjsbCFTBmAnEpAXyykuvMGj4wNq/P6LpkHguRJNMXlU0bl4hr8/yfumY8A+f5m/EUFrfXQghNDTULYFVlb/97W88/PDDjBkzBoDu3btz8OBBnnzyScaOHUtsbCwAGRkZxMWdnmWekZFBz549AYiNjeX4cfdlUKWlpWRlZbn6NxRJYIlGJzg4mPSMdLrF96SH89Iq22WrE0RozdE0DYcq5RD7iaA5Jzh2eindX4EC4P+qf85iitGhJ9LDUhDAlRTLIZM0tZM2dEbTNMwEEUQJhlN38a0qj0PsQ6HIJ5sgypbPBBLsNnOrXKkq2xI+mDCPs6pKKOJXfqx64J8B11JjEfosjhNPG/SR4MiRb7VCiHMjODiYjIwMOscnEemsuk5UvsohRAtH03Q4VCnpHMJCKEVYT9ewGg8UAzVsflNMITr0hGmRhFN5+V4xZV8ErRe/x65Nk+isLkTTNAyakTAV6ZqtVawKOcBuAPLIIoyyzwczgW7L18s5lRMjJoyYKaGo0uN2bGzjp6oH/ikwnCqTV+WyOU4brTNFFBAZJDtXCSGaprUffsugUVf45FxdunRh586dPjmXL9w8s5AVjwVJ8koA0KXwM0zK+41XSopsrKpD+8LCQnQ69+8per0ep7Ps+jgxMZHY2FjWrl3rSljl5eWxYcMG7r77bgD69etHTk4OqampJCeXTfX+5ptvcDqd9OnTh4YkCSzRKAUHB5OnstHMoIo9t4nQTi/z06EnnlaUUkJL2nKIvWUPdDbAEXu1z6VDRwsSsWhVXwi0MY3ij5J/kkAHErUuruOaprkuagDyySWAAGJoQQZHiFDR6AlwW6ZyXB0mACOhRKAngGbE8gdezhvuUnOTQCzEa20AcGTB9h2Va2cJPyFFf0UjFBwcjFXlow8BRxU12SvW/dNrAUSrFhSQSyKd2ceOsgcuGgi/f1ftc2noiKOVx7pU5ZxJN8OOrcRsmkAXra/bY+FalOvPRVhRKFrSlpNk0Fy1wIjp1POUOaGO4aSsxmGAFkCYasYh9lc7xirVYqNGIybaaJ2Bstg+/tY7vHsu0fhJPBd+7B/3LCC6RfOaG9bgqquuYvXq1Y0qeQVQXMfFIMK/jbBfiCUg0Ov+BfYinuXftW4/fPhwnnjiCVq1akVSUhK//PILCxcuZPz4shkPmqZx//338/jjj9OhQwcSExOZOXMm8fHxjBgxAihLCl999dVMmDCBZcuWYbfbmTx5MmPGjGnQHQhBEliiEbJarRQUFNCGTqhiyOAQUSrO4wymcpqmYcRMa9WRLE5QSAHFFGJ9KI8+vMWGl2PAMRjudu8XSDB9SKlUB+VMP5UswkwQHeju8XGlFE6cpLGTS7WhruO/qh/pzIXoT9VUsakSjnOU1nQkmxM0I5aD/E4JHrJ0C4FQymaRAXwNNAcigXBICKWsVH0BcBJofardf4EBp09zQYUlLujg4I7DxLWKJThY6mD5HVlyIhoZq9WK1WqlBYk48uEERwlVkZg0c7X9DJqRtqoLBeQRQTSl2Mif/B28/Rd4fQcUb64Uzw0Y6ctVmLTqvyQe2/E4ARjoQq9q2+1lO/0Y7Pp8+E39TALtCNEiAChRxWSTQRTx5HKScNWMExylyNPOiYsAC6fj+VrK4nkIEAmhoZQtPMwFcjgdz78Brjx9mg70cP3ZiZODW49QmFJISIj3tTVEIyXxXPixvy/9GzP+MpcZf5lLUEgQf1/6N6/Os3r1ah+PrGbj5pXN4i2fXXXzzEKKbVByRtJq5PRCzEZY8djpduV/FueX7zoaMAd7X8S92Fpap/ZLlixh5syZ3HPPPRw/fpz4+HjuvPNOZs2a5Wozbdo0rFYrEydOJCcnh8suu4xVq1ZhNp/+fvbOO+8wefJkBg0ahE6nY9SoUTz33HNevw5fkQSWaHQsFgsBGLhEGwJADAkcYi8JtK/UtkQVu10I6Qkggih+ZwvNiMVKHhv4C5gXwG3ufXXoiaZFjckrgAu5jAwOue2SVdEJjrGVH4mnjdvxHtol7uOlmJOkcz1/4aP70jhg+pZc47/h8YGVT9oaGFXh9zZAx7I/3lcA7YAvge3BuO+5eMbLySWbEMouuDQ9jPnzGDKd6SilEH5GLnhEI2OxWNATQB9tEFC2OcdBfqd1eTA7Q8WYrsdAGJGUYiOIEArJx3HrW/DKdXC3e8FzHXqiiK0xeQVwIf05wG4CqrgpkqMySeW/NCPW7fOhq+ae8HLi4DhHOMoBwu97hoMhWWTFtIcp2yqftA0wosLv8bhm0LrF89Az4vkZeb48soijFVC2M+GXX33BpMcnYLdXP9NYNEESz4Wfe/yt2Q09BI9umlFInhWah8Py2ZUTTrlWMFX4rm0MOJ2kGjm90JXIOjOhJbOyzl977bsw2r1fQmiz1+0vT0hICIsWLWLRokVVttE0jXnz5jFv3rwq20RGRrJiRQ11GxqAJLBEoxRIMMYK39wrbh1eUQG5OFQpQVpZranjHCGYUNrQGVvFCvC3ud/ZiaMVkcQSTYtajSdEC6dAVb274VHSCCaEjhXujnuyh63YsfEST0Dy41B0AIqnuDf6GGhGpQuXitd7F+2Dsaee6qoCOBQMFAH7gaTT7XToKKhQUFgfBrlZJ6sdoxBC+FIABoI4PUOoteY5eZWvcnBQiulU8MvgMBbCaUE77JSQUZ7amfCJW7/mxBFFfKVi7VUJ1IKJVFUvXTnIHgKx0JmLqj3PAXZTfKrWVWY3J9h2QMkZNQs/AaKodGOh4vLvM+N5bijkFQEHqLRMvOImJXZKMMbL3XwhhPAlTYPQYLCdMemlPLFlMoK5Qi6iYpLro/mn/1yezLrmgUJMRvfHxPnlxOq7MBi9nyltt+UDL/luQE2cJLBEo1O+C2FtNNPcdwuM1cruTIcQDkCMakkGh0jnMEWU7bxnJohWdHAtA6koX+ViwoTRw/KWOK21a4csu7K5tk/XNI2eWtXF5isKqPhP7rYZnhuNqPk8YyvkyW62QkvgdSucWQdeoQglouIBNm/ZTHR01cWURROmqF/dE5mUJ3ysfBfC2qhYBwsgzhXPy3bciVdtOMReMjlGAWU3FAwYaU1nwrXKxdqLlBUNzVWUvaIYLQGHKkWvBWBXNvQEuGbY9tD61Wq8mqsSFjDhAc+Nrqv5PB7jeTFlS8PPUDGeB2Dgnil3s/j5RbUZrmhqJJ4L0SCqWub378eDmP58MfMnV78EvlzFJJfZ+8k3wg/c2XkBwYHe/yWw1rGIu7+TBJZotI5qacSrxHqdw6KFYVZBtNO6sVZ9SAAGLtOGVdk+pJpC7oBr5ymDVvcglKuyyOJ4zQ3raFxM1Y9F0Jx4rTVKKTRNw1kKF/VMxu6wyRJCfyRLTkQjdVDbTWtViyrl1TBpZtqqrrTXuvGt+hgHpQzQqs4QBWrV1/krr6voTTwvULlkcqzO/WpSXTwPJpRWWgfX7w4cLH3uRT765ENZQuiPJJ4L0ejUNnkFVSfCxPln//ahBBq9//tQZCukxi2YzyOSwBKNTvnd+hwyidcS630XMUAzoJRCh462dPXBCE+zqnyKsFJMIS21tgCcVOkoFDvYBLgv+aiN/x3qy2UJ1Wy1Xgd5ZLuSVwDOXGiuxXGUgz45vxBCVKc8nudrOegCwVlYv/PpNB1KKQIweKyLWB/FqpBCCigg15UoylYncOJkJ6mUYqeUuiWKPj8M17T0zfgKKcCpHOg0PQBBWCjeLzcihBDiXHj4+SL+Odn7neTE+SuvyITNYfK6f7FN7khUJAks0Wid0I5WOX2+RBXVqlhvuXxyiKalWx0Wq8onWHNfqpivcsgnhzAiCdZCqz1nqvov2Zxw/b5b/YLywZz9ePsKoG3dOv0E9K18uBQ7RVgJ4vQSnpkzZjFy0rX1GqNopOSOvWikMjlW7+RVuWIKiSCKEE7PmPUUz4tVIdmcwEQgkVr1y6a3qQ2na2wBv6tffTLW+AwvOlURzxVOcjhJJKdfS8+knrz05WKvxycaMYnnQjQqT9xT+9lX5UZOL8RkKFt+KM5f0VOzCbR42HG+looKimQCVgWSwBKNUgAG+joHV/l4XZJXAKFaBIEqmAhOF+51evh2ZyIQHXrM1Hz+JHrzO79ynMMAdU9ebaVsW/UzclVt29YxebUOSK982EQgreiA/tQ/cydO9EE6/v7Ew9w97w5ZQuiPnNSvZkp9+gpRBR06LnYO8tn5ArVgLCqcGO100XYHlbeYNmtBhKoITLWI5124CCNGDrHPu0FVEc8vTK7jeb4FjlQ+bMBEK9oTSNmySKUUxVohWw/+QkLCLFlC6I8kngvRIMbNK7vb8vos96STXqd5al6lm2aUnUerWzfhh/687TNCg2re9b4qeYV2JvlwPE2dJLBEoxRC7S466iKQYI6SRqkqBRS5ZNFd9XUtSdE0DaNmQinlqo1ypkJV4NrxUIeGDl3tB/AREAJcVfbr6LYwS03jAp7y+jWF/hpKXo88j49paLSig2v5oA4dOjMUFOd4/XyikZM79qKRKSgoINoSSzDe777jSTAhHFMHKSAPE4Fkc5zO6iJMmtlt2XQABgI0z18ai1WhW4F3XV2+En0BBAEDy369qi1MUbWq2V61VKCKhJcGtKAtRq1sCYKmaThxYoqpw2eQaFokngtxTpy5S2CuFS7vqa/XOW+dXZa8kp0HBcCQ9AgC6lHJv7S4buVo/J0ksESjU1BQwMF9f3Bfz1m17qOUIpNjNNfiq2xzgN+xntq5qtw6PiFZDXDbkdCkmSlVdo8XPeXJK6vKZyep5JBZ6zFmXJuB0imsBVbaWdrxgQWeT58KXiawCgoKsFqtxOC56q+DUhTKbacsRxZoOrngEU3HoUOHuPnmmwG45JJLmD17Nn/6058aeFSitoKDg9l75Hdua3lvrfsopcgig2ZabJVtDrGfrDOmnmZyjIvU5URop2famrRAt4RWReXJqxJVzG9s4iR1WO8XDTQDCgALrLbAwt9r372SVDzOvCrnaYZZMCGoyoeFaLQknovG6J15gSggO18REaL5JOn09lxJXInTonZ2wGCs+xLUcnab98sP/ZEksESjExwcTHRM9fVKzqRpGs2pOnkFUEjlmUotaOeWvCoXoBn4Q+2lldaeApVHMCGuCyCryuMn1qDqOD9/wckFtArR6HD89F2d2NiqL9BqMnrNaOxZ7stGdOgIJpRiCrFjYzPraK+6Ea5FlTUwwIafNtCho2+LH4tGwg/v2AcEBPDkk0/Sv39/Vq5cycCBAxk2bBjBwdXvMCcaj2bNourUXqGqTV4BFJBd6VgMLd2SV+U0TeOw2kdLrR1WcyDBxUWux2yqhB/40uOS8mpFQJfmcMdxeOjUoe4d63YKN1UksEIIp4QibJTwC9/TViXRXIsDypbB//WuO/nXW6/U44lFoyXxXIhz4vMf7GgaBJvh+gHez5Ip96//lKDXwbjh3hftFv5l8aXBhAR6v7Iov0hP5zd9OKAmThJYolGKaBaOHTsGql4vrJRCodBp3s8oqm5HqShiyVUnCdOa4VAO9JQlnvLJIYoYTtRxC/Wn4572epxsB7q5H1o1YlWlZhbCyCObECKwYyOXk6RzCKdyEqlFY4yBi3v3knop/soPa6bExcW5Lm5iYmKIiooiKytLLniaEIMxgCKsrvpNVXEqJzpNV6uY7vBwde7pWLnmxJOtThBR3ByHKnUtE88jm2jiSa9QwL1W2sFOTiev6sRDPGdi5WaBBJ963yzYKCGfnLKai0rRXIsnjyxeXf4vrrzqCm9GIRo7iedCnBO3XO190urOJwt56RH32VZ/vV4SV8Ld7S3WEBDsfQ2sUqtct1Uka4lEo2S1WrFR9ZZV5UtCsjkOcKquVfUqFnAvd4T9/KRWk6uyKFFFbo8FaRbCtGYA6LXTs6bS2ImF8Nq8jPorX9Fy5sVOFcqSV+EUkg9AazrhxOl67faT4IONEoVwWbduHcOHDyc+Ph5N0/j4448rtXnhhRdo06YNZrOZPn36sHHjRq+e65dffsHhcJCQkFBzY9FoWK1WiquJ51CWvMrhJAAOVfPUkRhaVjp2gqOsV19zUqVTfEY8N2mBrtlZFWscHiGNwAq7tJ5VR0/9fy3jeRFWTARSRAEAregAQDPKZqeFENEokxSi6ZJ4LkTtlBdoPzN5JYQnUdlzaZ71T69/orLnNvRLaFTOyQysOXPmMHeu+xvfqVMndu3aBUBxcTEPPvgg//d//0dJSQlDhgxh6dKlxMScru3zxx9/cPfdd/Ptt99isVgYO3YsTz75JAEBMonMH8WExxGti6ej6unx8dP1TDR2qs20JJEDag/hNCNBa+dql6MyXcvnLtIu56RKJ5N0jnHQNfuqFDvBhFRZ6PdM/bQhbFE/VN9oITC1VqernufyVtXKJ4dwooikOfEkuhUpDuyocXztcR8MTDRKTuq3bMSLi2Gr1UqPHj0YP348I0eOrPT4u+++y9SpU1m2bBl9+vRh0aJFDBkyhN27dxMdXbZUuGfPnpSWVk5Cf/3118THn14afNddd/Hqq6/WfZCiQYWHRBCva02EqnwToVzZZhpO9qrtRBJNuvqDIEJoo3VytclWJ1xJqK5aL2JVK06SzjH+wEZZfYgSigghwlXsvCY9tH5sUxvq8erqoPpV7h5ZySOMSCKIJp42rjqMAEdJ45npr/twgKJRkXguxFnxyAuFPDmpfomnfz8uiStRe7dmBBIU6P3fmcIiB5/5cDxN3TnL/iQlJbFmzZrTT1wh8fTAAw/w+eef8/777xMWFsbkyZMZOXIkP/xQliRwOBxcc801xMbG8uOPP3Ls2DFuu+02DAYD//jHP87VSxDnkEIRoaLRTKBK3B8rULnsJBXQKCSfdnRDQ0d3rXel84RrUZSqUgJO3XFvpsXSjFg60ZM16gOgbGcnfR3/KUQQRR7ZroumSnyRvKqjCJrTmYsI1qre7UsXrBFYjwAqGjkf1UzJy3OvF2cymTCZPCcEhg4dytChQ6s85cKFC5kwYQLjxo0DYNmyZXz++ee89tprPPzwwwBs2bKl2mGVlJQFgQceeIBLLrmkNq9ENCJ6AspmC+mp9PfTpkrYzDoMmMgji3YkEUAAXbVelc4ToTV32wk2Uosmkmg6cAHfqI9w4iSaFrVOXpWLJYFcTtY4S+xcCiGcrvQiRAuvsk2xVoTB4P2SBNHISTwX4qyoT/Lq8dcLmTFOvkeLuum49TVCjN4vLc23ldTc6DxyzhJYAQEBHgtW5+bm8uqrr7JixQquvPJKAF5//XW6dOnCTz/9RN++ffn666/57bffWLNmDTExMfTs2ZPHHnuM6dOnM2fOHIzG+hfcE43LHxkHaBHfgg4DR7H1q5204nR13AAM5JFDd/pgxHS6QLkHNlVS5cVMijaaTHWMqFMFcevCSGDVyatzJJgQEumKERN6AgjTIqtt78SJsmqkH0unTdvW52iU4pzyUc2UM5d0zJ49mzlz5tT5dDabjdTUVB555BHXMZ1OR0pKCuvXr6/VOZRS3H333QCMGTOmzmMQDe9QxkFaxLeg66B2/PT1Jjpzkesxo2aiQOWSxMW0I4lgQjBonj/TS1SR2wykiq7URpKp0omqofi7JwZMlFBUc8OzyEwQ7UjCRFmR10it+o1MlFIEEkzWicrF7IWfkHguRKMjySvhjV0T7iDIUvUEg5oUFuTDmwt9OKKm7ZwlsPbs2UN8fDxms5l+/frx5JNP0qpVK1JTU7Hb7aSkpLjadu7cmVatWrF+/Xr69u3L+vXr6d69u9uSwiFDhnD33XezY8cOLrzwwnP1MsQ5YLVay/6ggT4Ut+QVlG19fqG6rMYv+AA72EiC6lDlRY03ySuAA+zyqp8vBGGhiEI6c5HHHbfK2ZUNg2Z01QvToUNp0KFTe3JycqRoqqjSoUOHCA0Ndf1e1d36mmRmZuJwONxiN5QV7y1fQl6TH374gY8++giAyy67DJ1Ox1tvvUX37t29GpM4t9zieRhuyatySfQmTmtV47m2s4mWKpEYzXPNHG+SV1AWz1UDFQcMJJgSiulA9ypfF4BdlWDQTK54rmkaDkp58V9LubB3T0JCvP9iLPybxHMhhGhYRz6ZS6DJ+wk3RSU2H46m6TsnCaw+ffqwfPlyOnXqxLFjx5g7dy79+/dn+/btpKenYzQaCQ8Pd+sTExNDeno6AOnp6R4/MMsfq052djYOx+k52NVNna4Ph8OB0+l0ey7hnfDwcPROPe20bpx83/P76Sl5lUMm4bjPxrpQ6+/2ez657Oc3kuhFQDU7HNakJKCQgHOU/w1QBsJUJAbMWFQoLWlXcydAd6rw/Ol6YWA7DAG6AMLDwykubtgZZP6gvv/ufR4vfLTkJDQ01O2CpyFddtll5OTkEBYWxqeffuoaV3Z2tsTzJiA8PBxNabSmY5Xx3FPyKpsTlTbeSNYud/td4WQr6+lMMibMKBQaGnWVoz/hWmZ+tumUnnDVDBOBmFUwrc+4QVOlU3G8YjyPpex9i46OpqCgwOdjPd9IPD/7JJ77h/q+pz/++KPPl4927NiRIRN/ZclDgT4977kif099rz7vqa//O0RdrwiyeD+ltrBAwQIfDqiJOyff2Cqup7/gggvo06cPrVu35r333iMw8OwGmjZt2rj9PmnSJCZPnuzz53E6nWRlZbF37150OtncsT5Gjx5N0W4n1i21+4ce26MFPf6eQOpHP+MocpLzpRNVxW6jIYTRg35gBKpIZhviwJ4NFVcIagFQvtFhQASMHjy61q+nShNPPcebnh9WTkVpFpRmOSk+oDC2hKJt1Z/S3BlK9kFAhEaA0lN6wv3x1hfHMbx0BPrIslmRon7q++/e5xedPrrg8ZWoqCj0ej0ZGRluxzMyMjwuKa+JxPOmZ/To0ZQccZL/v9rFc30EhM7VEfVDHE67k5wvnDiryLVr6OjBpRAIFOExeRUQdWolVmaFfgZcnxGaGUZf74N4DnAT8G/PDymlKD0JpTlOSg4q9BFQUkMINneCkv1lM5GNJiO2o+6Ph3cKJlafwMiRIyWe+4DE8+pJPBfl6vKeWvedJLhdM7djzZs393nM+vzzz4HD+Oq0//mvnesHnLsag/L31Pfq8576Op6vLTFhNHg/A8tWIn8nKmqQLfzCw8Pp2LEje/fu5aqrrsJms5GTk+M2C6viB2JsbGylbXrLP0Br+tA8cOBApanTZ+sOz969e2nfvj16vd7n5z+fPPvss3z3/g+8et//1ar9V9ve47ObbBRouQAYnEYuZVj1nc5IXv2kfUVblYQRM3vTtxNLgttMJ1VhQ539OXvY/8GOWo3NzX8p+0JZvrPQ4KqbBigDFzuvdNVDASg6o9SJHRsG3IPhoV1H2aHfSLPMGLo7+1U675E96az54xNKHaW8/fbbdX8Nwk19/92fWVzX3xiNRpKTk1m7di0jRowAyr5QrF271qsLFYnnTc+zzz7Lzs2/849rl9Sq/ebcH7DdX4JVK/u3oXcG0J9rq+90RvmqVO2/xKnWBBNCWuZOQrRw2tHN9XjFGxwnitP59oOfajU2N+XxXKPs82QI8IHnpjqlo5fzCoI4vcyvNNO9jY1ijJjdjmXsPskv+u8JzY6gp/MydP/f3p3HR1ne+/9/3TOT2bMCSQiETVBAFBQE41atHKO1PbVqa3s8ltpWv4eCpxW7aI9Va1uty09pLZZuWnvO6dFudtFqS3GrihuKKyAKAgIJa7bZl+v3x5Ahk41kZiCZ8f3kMQ/IPfd1zzU3ySdzf+7r+lxkfi++v2E7/ll2Hvzjg/zqV33cCZEBUzzvn+K5dBrUOZ0y5fB0KgcLvh0iHIXOWVp/vM3DVw9zt/V9mn+5nNN8x/Ox+7biimafdokEeq7s+kE2JAmsjo4O3n33XS655BJmz55NSUkJK1eu5IILLgBg/fr1bNmyhYaG1AV4Q0MD3/ve99i5c2d6md4VK1ZQVlbG9OnT+32tysrKwzZ02mazYbfbFXhyNHr0aGoZx4z9qwomiPe5SuDb5jVaEnuIdclIGQyDnUXSkWxnO5sBmMPp/e5rJS3iySwCyWagFlgLLOp7Nxt2pnECLqv30YkJEydCCG8vqw2Ooo5j4yelplL2cg7irUniiTjxeFzfp3mSy8993v8P8lT0dzA6Ojp455130l9v2rSJNWvWUFVVxbhx41iyZAkLFixgzpw5zJ07l6VLlxIIBNKrWA2G4nnhGT16NBWMZI51OgBx4n1Ov95q3qElsYc4sXRNqgSJ1O+AQUzxa0+2YMdBjChzOL3faYXGJInHs4jnzaRG8u4EPt/3bhYW05jTa7wGSJok7bT0ughHOSOYET+RKkalp4R35Un6MRjF8zxSPFc8l4EppnMajNiIRMHlhD/cMnRF2ovpnA4X2Z7TfP8f+PccizuYfYK+JBQhdedM4DAlsL761a/ysY99jPHjx7N9+3auv/567HY7n/nMZygvL+cLX/gCS5YsoaqqirKyMq644goaGho48cQTATjrrLOYPn06l1xyCbfeeitNTU1ce+21LFq06JDcrZGh13U58ygRHCbZ68pUdYznfd5Nf23HzhnWJ7J6zSAdnMAZ/e4TMgG2dnm9tGXAaFIjAS7uo/G/7f/7e30f346DyczA9PPJ08JGiAAdpp1qq45m8z5VVFNiOQmbYL/F7b1TbfBs368vBW4Ippy89NJLnHHGgZ+bJUuWALBgwQJ++ctfctFFF7Fr1y6uu+46mpqamDVrFo8++miPuoZSvLqu8GfDRsSE0gn6zqLkAKMZzzu8kU5eWVicaV0w6NeLE6ODVo7ntIyaUd1FTYRNvS3IcQ9QAQSAS/pofP7+v79XAvQ+Z92GnSOY3m8CzcLCkGS7eY86awK7zA4qGYXDchAxoX4L02+21jOOeX0+LwVO8VwkZ+d/I3U9Ue6De6/rPTnVmbS69MZgr8+L5GrikUfj9WdfNinYMbQrJQ83hyWB9f777/OZz3yGPXv2MGrUKE455RSee+45Ro1KFWi98847sdlsXHDBBUQiERobG7n77rvT7e12Ow899BALFy6koaEBn8/HggULuPHGGw9H9+Uw6+joYN/ufZw58VzGWUfiMh5sVu9zfx2U4MVPB6npgzN6+TC/02yjimocVt9z2Y/mBNazJiNJtsvsYFSXVQp3mm28xUvEe7tYWQT8ARjIzcT/yvxyHEcyklr2spPJVmqaS8xESJpkr+/bZtl432yknRbCJsgoamllL07jpKyXu/hdWU7458qnmTR14gA6KgWnc3pqLu0H6fTTT8eY/ldwW7x48SGpbSLDX2c8P2XimUyxjiVpEhmjS7smmCxslFHJPlLF+45kVo/j7TO78FKKy3L3eK7TcZzKazyL1/Knt3WP5/vMLl7nOaJEeh7g88D/AANZqPW/Mn8fjGY8Y5jILrYzxToWgLiJkTAJ7L2MorIsi01mHSEChEyAOibQxl5sxkaFNbLH/l0ZDP92/r9z5513DqCjUnAUz0Vy9odbvJz/jSCtgYPv21eCSyRX7+7w4PZm//0VVm41w2FJYN1/f/+1jNxuN8uWLWPZsmV97jN+/Hj++te/5rtrMgz5fD6SyWRqGpxJ3bHvi9vyUm+OIEA7lYxklFXXY5/OOlJRE8GOHRv2HnflR1vjGc34jG1dL3YASnAyjeN5ned778z58MTbT+De4iYYCfLhKR/us98WFiOpxYWHI/df5FRxYORUieVir9mJ35TjtDJHGRpjmGmlVm/ZZjbhsfx48NObZvM+NdbY9NftzyfxeDzpqbgiIoeSz+fDGEOZVQmGfld/tVt2xpsj8VFKGSOos8b33AcHduxETRg7jl7j+QirhjPIHInbPZ67cDONObzKM7135t9Jjaz98f6vF/b9Hi0sKqnGhZujrRMAMlbEdVgltJl9OI0bdy9Tw4+zTgHgffMuHsuHp4/M2U6zneouv+OmmuOx2+zpm4EiItLTH27x8n5zks07klgWjKtVQWw5vI79YwBfSfZzwgMxjcDqakhqYIkcjMftoYz+RxN1GmNN6vf5ztoiCTO4OipdGWOIEO599FUXpx95+oCON5sP9Xt3vXMqoDGGuIlnLPEeI4qTVFJrjNX3SKotZgMxotRwIIGV7IAPN/wLe+LNfbaTAjYENVNEDsbn81Fj6ge070hrNCMZ3efzZVYlAHFjZR3PAQK0k+Agta/6qVXY1dGcQK01rs/nwyZEmVVJ0iR7/B4Km1A6qTXWOqKvQ7DVvLP/98+BBJYNGz9fei+N5/3LwDoqhUXxXCRvxtYoaSVD56kvJXD5sx9SG+lIwG/y2KECpwSWDEuOEgev257jmOSJGdu7J3MGw245iJsYNuxECOOxBj6U07Isaqlnr9nJGCbSwh4C9L9CxcaNG6muruatZ99m1/bdfP1z/0WQdlx4Dzo1xL2/b5Zl9Sh43N8Ihq7GWb0vodLOvl63SxEYZsuui0Aqjq22PcHs5Ol5O6bDcpAwCcAQI9bryKb+jLLq6DBtjGY8AdppY2//DW4B/GMo3fkxnLtHU73sz8SIEifab/IKSPctNSU88yKq82bEwdRbk3vd7qwd5IolUjgUz0VEisKJj0zH6xpIXYLeBSMDmAP7AaIElgxLgUAgXci3q828TZ2ZgB0bp3/1k/z89huYxvG9Furteqc7bIIYUtNGDIYSnKnRTcQp6ac2VndVVnV6qt/T5hHC9B1QJk2aRAUjOOfIS2h6ezMjGM1I6vot0H4wURPpMaVwMEZPq2HPc3uybi8iMliBQAALC6sETJdBrNvMJioYgRM3r8w5A9dLt3MsJ/Yaz2Mmmq5RGDUREsRxkqqDZSdVWyp1g8LW64p9vfFbZRxNasrfC2Ylbf0l978BPtqZOsHC/94aEozBApI5xPOYiVCSQzwPVZZxzbX/mXV7EZFD4eWXX+b4448f6m4c1OvvxDlm8vC4FN6+fftQd0EOob8c/1Oc3p6LkQ1UNBjNY28K3/D4qRXpxu/3M8F2VMa2JrOFaurSI6ceuH0p063ZvbaPmVhGYmoX26lmbLooesLEsSyLkv2jmbquijVQ85hPE5tZzxoA3HixYydEgCRJ/FRQShVb334bGzZKcKWXkI+ZKDbstLGXSmvg9Uv6Sl6FTIDnWME0ZlNr9Zyqs8NsZbRVz461zYRaI5SW9r6kuxQ43bGXYcjv91NnG5+RvNptduDCg89KrXwx+qX7qLcaem2fMPGMBTaa2EIN9QeKopvUVMDOhTqySfTP4XS2s5m3WUOSJE7clOAkTJAEcdx4KGMErve2EiOBCw8x4pTgJGqi2LHTQWt6yvpA9JW8ips4/+QhJnAUE61pPZ7fZjYxxpqIZ18be7a0wIxBvVUpFIrnUqAKIXkFDJvkFcDOnTvx+bIfoSPD29cbTqG0LPtVCNvbQvw3D+SxR4Vt+PzkinRTZ1L1nZIksGGnkuqMgu5dazt19YJZySSOZiSp5cd3mybWs4YyqnB13rHvNg3RZXlImsSA79wDlFgl1DOZMlNJgI50weHt5j1ceKhk1P4l0k1q9EGXhFlqdJidSkZlLCMPqVEE/a2Y2Jt1vEKCOG/wPLX0TGCN7pLUanpvJ9Vj+5/CKAVKNVNkmBptJgCQIIEdO6VUZoyy7b6IRqcXzeOMZVL6+Vazl7d5FQ9+Ru2vldU9njst16Cnm9ssO2OZRIUZSSt7qWM8lmWxzWzEjY8KRmDDnhHPnaSSajZjYbfslFPVI573tfpgf95mDQnivMubTKRnAqtr7cP31+2Ajwzq8FIoFM9FPjCOOOIImpqahrobcoj85rUO3L6D1N3sRzgQzmNvCp8SWDLs2fZPD+m+bPoONjOeIzO2xfffid/OJspNFTGiVDCCozmBZrZS3qUwfMC0pe/+Az2SV0mTTI/Y6k+5NYJyRqQTYHXWhIznLXpOh+l65737dJnBJq8AjmIWq3mSIzj6oKMPdm/VFMKipTv2Mkx1xnF7t3jemfBpZitjyFyQI2mS2LGzg82MMDUkSODFzyxOYRsb0wksgHbTQqlVkf66e/Kqe2KpL36rDD9lJE0SC6vHIiG9xfOuMbv7aww2eQVwBDPYSzMTmJpR5L037bs6Bn18KRCK5yIfGKWlpUpgFTHzj3qMa+C1l3u0jwTz2JvCpwSWDEsOSnDT9w/60+avXDL9/7Fp7dbMdpaDOjOBXexgO+8x3koluEYznpg5MH84asIZyave9JW82mI2MM6a0uOCaKCjt7rfkY+YcI/k3GB5LT8nmUbslgNjMmuHde/njFOm5vRaIiKD5aX3qRGWZbHaPIF35JWM2fNKxnM2y8ZYcwRb2MB2NlPPEdgtByOpJWAOLKJhjMFH/9Oi+0pebTXvUm8d0Us8H9iKVd1XFexaqytbLsvNyeYjvfa5Rzw/46ge+4iIDKXbb7+dr371q0PdDZFhY8uIOpxuf9bto2HdrOpKCSwZdgKBAKvXvMTnj/tPKjlQH+ot8xLTrTkA1FDfI3nVqY0WjrNO6bHdwYGLCmcWCaOoCbOFDbzHeprMFo5iFuWMGPxxCGM3duw4iBPjfTZSY8bixZ9Ogg00qdVuWim1yoED02i6X/R0/dpf58fh1Y990dIdexlmAoEAr776GhfN+ixjObCS3rvmDY6wUsWbKhjFEd2SV532spM51uk9tnddjdWyLCwGN9IpaRJs5m028hbvm3eZwrHpaeeDFTNRLCySJNnOJipNNaWUp+P5QKeFd43nfSXcum/3j1TNlKKleC4FSsmrwXt1zQa8CudF68IpT+PzZj9YIRAM86s89qfQ6UpWhh2/34+DEk6xDhT2CJkAUSIETAc+y88U65he275lXiJGpMf2DtPGRt7AbTyUUTWo2iidnJabiWY6FjY6aMVDdpn0BHFceLBZNuw4OIKjAWgz+3AZNzYcJIizzWxiBDW4rb5HonVe7PTFmCRWl5EE0ZIOamqricVi/bSSgmXIre5Jz4U/RXLi9/uxsGXE86RJso/dtJl9lFmVHGEd3WvbDeZ12ntZGTBsgrzLG7iMhzIqs1qZ1WbZGW+Owo6DPTTjPcgIrr7EiFKCM30DYQKpEa6tZi8e48OGjQghdpntlFOF1+r7dQ4ezzNHX+1jJ7ffcRv/8z//k1XfZZhTPBf5wJg5awobNmwY6m7IIXJCcDtlZL/qcFuw57XtB5kSWDIsxYmx2vYEZ3/kbB786++JJ1JJH9PHLcX3zHre513CBBnbrY4KgMEQI8byF27nqrnfxjHAb/3uFwx2y55OOGXDGIO/j4uUMquSPaaZEVYNdmPHhp1XeJrJZgYuPJRZlQN+nc5VGK1u02CiW8GbZeJNRCQbhiQv257knMaP8Me/peK5gxJMH1fn28wmNrOeIB2M6GVUlNn/Zw1XMZcf4czyQ6HNsjGOKYxjSlbtjTG93mAwxlBuVbHX7KLKGoVlbEQI8zL/5EgzExeeQa1W2FnXsPvoq0qqie1WlkJERGQ4u8tch9v0X7qmP2HTBizPX4cKnBJYMux0dHQQCAQYM2YMdp9FZ83cCCG28A7jzZH4utzFTpok/tnfpf7avWz4xKWM4Ygexyy1yjnBnMHcuXM5jlNxMbClTHfyPjXdVvULmQAeyzfgIu9ddb0A6Vp0OGDaCdDGZt6hwowkQBs2bDRYZ6X3bzG72co7HGOd2O9rGGMo6Wu6ShKW3fKTQfVZCoimnMgw0zWeO8oOxPM4Md5jPRPNtB7J+eaLv0Jw2iy49hjGdZl22Mlj+TjBfJhVnE8rMyljYMn9XaaJUVZmQqyzZlU2qwV2jedtZh9+yrFZNsKE6DCtbOQt5nEmHbRgYXEy56TbdJhWNrGOY6x5B32d/kaYHT9h7qD6LAVE8VyKwBe/+EVeeukl1qxZM9RdERkyoxu+iac0+/qYofbowXf6AFECS4Ydn6/vSeC72cEo6tIFe+Mmxiv8k47Vf6b6z68BECGI3dhx4UlfkMRNDC9+jmRmn3f9oefKg93v/idNkudYQY0Zy3RrzoBXtupN1ymIPqsUu3FwPKdgw0YpFT0u6iqskYRMgLAJpu/6d+1v3MSJEcZj9T/C6uvXfI1PfOncfs+zFChd8Mgw01+c2ctOahibkYB60TxO4H//BKSmOUcIETQduPGmY13CxHHj4WhOINHPN233+DyC6h77rOLvlJsqZlon5RTPu/bPY3kxJskcTgeglMoeNzv8VjnVZkx6GmXqfR1IoiVMghAB/AdZbOSFV54nGAxSWprdFEgZxhTPpQj8/Oc/H+ouiAy5v+2rpSSW/RTCWIemEHalBJYMW+vWreOaJf+FZVIXFE7cTGYGfg58oHdYJZzAhwHYcu9neHL9BhLxBB8++ixa2MNEM40SXFQxihABPPhw4SZiQrh6WZq8+0VGjGhGsWBDkqM5ITWdsVt9qYNJmDhRIjhxYbccPepwuS0PxqSmxtgsW4/VrQBGW+P77K/DcuAYwPTAkAng9/t7rFYoRSBJbjVTcmkr0o9169bxzav+C5tJxSwHJRzBjB61BE+wzgBgh9nM2rO/xdoaG9X3LaSDVurMBHyUUskoAnTgxU+UCBETxknPKXbdv44RxUVmEdUpHIsXf1YjsMImiIMSHFZJj1FSXisVY83+mwy9xfMaa2zG111f327ZM37X9cVeClVVVaprWIwUz0VEisJlGzfg8x58MZe+BIIxHspjfwqdElgyLPn9fibbZjDBPpUTk438k4eo5whGMrrP6RTjrCmcedQ5fPn2X7CDLRzBDOqsCUBqdJILD7tpIk6MWioOutx51ESwdVvZym45qGYMAGETwt1lKmKL2Z1elbC3u/h2y8Fm8xqjmUA5B+qfrDOvMNU6Lt3O2j/HpvvFTve+ZVO4GCCp27Iichj5/X7G2SZzlGMWpyX/lZX8nnomM4JavFbvI7RGW+MJP3oN7/ImzUA9kxlvHQmkRie598fzKGFGUEuSBPZ+PtJETQQLW49RVqOtcUAqGWXnQD2rNrOPUsqxrJ5tOm0jtdBGBSPT2zaatUyypgGdvwcObTxncLPYRURE5DD76VobJe7sf2HHwvpl35USWDIs2bBRaiohDi7czOJkyhmRTjh1mLZep1YcZc3iq1/9EGM5ggkc2eV4FkkgTDB9EVSCk2azlRqrvsdxoP+6IwBRwukEVpvZhxM3SRLsZBsVZkSvU/mmcGyPC5nO5FVfuo8MiJlo1hc7lhvC0SAdHR1ZtZfhzkW6yFBWDPSyiqdIrvymArN/kNDxfAgPPtz7R8G2m9ZeV+CbaE1jo3mLWuqZzIGVZ21YJDCECTLRSq36Z8fBXtNMlVXT6+sfLGbGiaf/3W5aKMFJggS7zFbKqMTXy2io8RyFvdtNjs7kVV+6T1OPm3jW8TxKFEeFm71792bVXoY7xXMRkWIw+f3ZuJzug+/Yh0g0DPw2fx0qcEpgybDU1tHGXV/+OSvveRqAkdbojOf7W0XwFD6SsTKUMYZNrCNMgB1s4ShmpZ/bwjv4TUVGUfiB6DCt6ZFMbWYfYYL4KMXC4l3epI4JTGJ6r20HW2fFbtmJmRh27BhMr6PGkiZJkI6MpF5vI8xMGB5/5CnVvypWlhcGubBAZvskuuCRfOvo6OBXN93PH25+FIBKa2TG87Z+LtIbaMTb7WbAZt4mSIAmNjORqent77MRy9iotEYNqn9B00F49AT8TXsJmQBt7KWSaiwstvIOpVQyjeN7tLOwBl0zy2bZiJvY/tG9psdUckj9jminJaMOYtzEe+zrxMk58/4Vr7fnSohSBBTPRbJy00038c1vfnOouyGS9skF5fh9A1tArDcdgRA/+FUeO1TglMCSYSkQCLDs3h8ytZeLBqDXpcv7es6yLCxjYxpzONqaS7PZSjkj2MzbtLKHGJkrOyRM6k58f1M+WtnLGGsiAGVWJT5TSpggFhajGZ+eZthdf8fsT5+rCu5ns2w96qX0luiyecDnPnidLBGRfAkEAtxwy/UcS0Ovz/v6KVTePXkF4MDJUUxmujWbJrOVCkawnffYyTZqGZexb8LEsbD1u2JsK3sY3ZR6HY/lo9aMJ0oYCxu11FPaZcp3V4OtmZXu/0HiuWVZPVZW7C3RFSGE2539HV0RkWKk5JUMNy/d/Ec8juxrYIXiqnPZlRJYMuwEAgFqamoYuz9BFNxfrHcgIiaMy+r5gX4CR6YvYGqsekImQJAOZjCXPeygYn/tKoCtvIufckaYmvTd9e41SoK0p0dSJUyC1J9kqnA8U7H1cWHTffpIX5ImwXY2M9aaNKD3PVDJGBx5whF5PaYMIzYv2HK4Y29LAvvy1h2Rzng+av8o2g5a8dNzumBvoiaMs5d4XseEdBytteqJmjAt7GEGc2mnJeMGQjPv46CEkWZ0uk33RTxCBNKx2ZgkUcLEiBIlwhgm9XnjIWkSfcb67rrWxsqXEpxMPmFiXo8pw4jiuYhIUTh1kh+/M/sEVkdUCayulMCSYcfv9+OjPF3zxI2XuIn1etd6l9mRvjACek1eAT0uMjyWj5nmpIxl2W3YaWMfY5hAhHDG1BAbnRc+YRw4uODsz/DjR2+nxoxlDEeQIIYTJ26rot/3drDkVWe9K5tlZywHklcDnXbY334GQ+nxdpyu7AOoDHOWF7IcFZJqrwL/kl9+vx8nbqYxGwAvpX0WLd9jmhnRpYZVb8kr6BlHnZabmeak9IioqInitJy0mr2MpJYI4cwVWynZn6iK4KAE//hGntm8nBozlrEcQYIELjy9rmyY2Y+B/6x1TV71tYJt9/h9sLj/rvUG/kpNHyxaiucig9bR0YHfr5kGMrz85tRTcHmzn0IYCYbgp78fVJtt27bxjW98g0ceeYRgMMjkyZO59957mTNnDpD6jHH99dfzs5/9jJaWFk4++WR+/OMfM2XKlPQx9u7dyxVXXMFf/vIXbDYbF1xwAT/4wQ+G/GdMCSwZlly4ceBMfYfGDySQumtjD6PIrI/VefFyMF0vaDrvsPtMKR20UUpFxr4xItiNI50ge/XRN0iQ4D3WU8EofJTSvdhqwLT3W1vrWfMoczkznZjbbjaxgdeZY87o0c6yLCImRIgAFd3qxxhjSBVr7T/BZWEReCXJm8+s49jTju53XylQlk8XPDLsOHHhxA12sCVsfa4W2MpeRpBZhP1gq8V26jqdrzP+l1LOXnZRSWbMjBOnBGd6FFb1lq28Swlb2EAZlXgp7fE7J2ja8fYTz18wK5nG8ZTur1vVbLaygdeZwTwqrBEZ+1qWjbAJESFEuVXVZbu1P56nGEx6VdreTDJH8/rjazM+bEoRUTwXGbShvrAW6Y391RdwuA7+WaYv8Uj04Dt1sW/fPk4++WTOOOMMHnnkEUaNGsWGDRuorDxQnuDWW2/lhz/8Iffddx8TJ07kW9/6Fo2Njbz11lvp8gQXX3wxO3bsYMWKFcRiMS699FIuv/xyfv3rX2f9XvJBCSwZdjo6Otjy9lYWzb4Ge9yRupDo4zO8Bx/tpoXSLiOf+kpehUwAN970RULnne2u0/oMUGGNyFhSPW5ihAjg5kDh833s5DTro2w17/AWL3I0c0kQx91l6oohmfH63UcdWNjYwttMIpVMqrMmMsqMocRy9jo1xWV5iJhwxmi0A+/DImxCGJJ49vezt7v346aNpXnzrt5PpohInnV0dLC7eQ8LJl9BSSIVm/uqHVVGJbvNjoxFO/pKXoVNEBee/fG89xFNCRKMtGoJm1A6aZY0CTpooZLq9H4tZjcn8i/s5H3W8jLTmE2USEYyLUH/yQA7JWzmbWYwD0hNVR9pRmO3HL3Gc7flIWHihE0wXbexM3llWRYxEyVCKD3dsrd4Hqkup213oN9+iYiIyNB6uw5Ksh+ARSw0uP1vueUW6uvruffee9PbJk48UHLAGMPSpUu59tpr+fjHPw7Ar371K2pqavjjH//Ipz/9adauXcujjz7Kiy++mB61ddddd/GRj3yE22+/nbq6uuzfUI6UwJJhx+fzUVpRxh6aqWYMEUK48GTULem8K19nTSRuDix/3t+UCwclWJZF0iQxmPTy5/vYSampxGm50sXSOy8owiaIg5KMpdnfNxupZCStZi/11mTWmzWs4WlGUQfGotpK/UD7uy0L3zV5td6sIUKICWTWROkredWp66pUQMZ7dVuZkXEvO3ndPMfp1sfT2+LROCd/Ym6vx5YiYPOALYewbosffB+RQfD5fERKI+xiO3VMSNc07FyJz2bZ0rWuRlq1xM3A6jzYu8RzMOl7HC1mNx58uCxPOvnVGRujJgxYjLBq08fZabZhw0aIDmqset40L/I6zzGS0YQJpqdyl/YzPXyDeZ029nISjZl9tBwYk+wznvc20raTg5KM5F0b+1hjnuZD1r+mt5W0JTjhY8f22S8pcIrnIiJF4dNvH4HXlf2iK8FImN8BbW1tGdtdLhcuV8+SDH/+859pbGzkk5/8JE8++SRjxozhS1/6EpdddhkAmzZtoqmpifnz56fblJeXM2/ePFatWsWnP/1pVq1aRUVFRTp5BTB//nxsNhvPP/88n/jEJ7J+P7nKoTqkyKET3Bviwk9eCMAWNgBQwoEf0K28yx7TDGSuztRfvZDOiwGDIUg7QdPBFrOBBIle67FAKpHVvfZWgjifuvI8yq0qtpgNePDx6muvspNtfU517G4PzczkpF5rYtksO0mT+9B/Jy7ixAiY9vS2beub6GgJ5nxsGaYsX+4PkTzr2BPi81/4PACbWQ+AHUc6/jWxhZ1mG3DwFfo6dd5sSJKggzaCpoNtZhMB2jMKtHfltNw9Yn2COE1VF+DBT5PZmprqOOVhdrNjwPG8lT0czQm9vq61vzB8rtx4iRFlnzkwgrYkHGb3VhXpLlqK5yIfCHfffTdvb9eU32LmPBdcH8/+4Tw3dZz6+nrKy8vTj5tvvrnX19u4cWO6ntXf/vY3Fi5cyH/+539y3333AdDU1ARATU1m2Yaampr0c01NTVRXV2c873A4qKqqSu8zVDQCS4alyrpylv/uLmaUzsHXUQoms2bVJGsaxph+60wFTBslOHsUAo4RTd9N9xgfEQY+LjNpklQwkivv/BIOHBzPhxhnTeHfjr2MKmpwdPuR6mvVwZOs1J36vkaMdb9j/5pZhcEw0zqp136FTZB1rOFIjk0vO99OC6MZn3l+DLg82c/BFhEZrIq6Ur57z7c4wX0GnogPDBlTucdZR2KMocXs7lHjr1PQBLDjwNUtAZUkkR6ZGjMRdjPwD1UJk6CMKtbu/Rq7gGM5iVOsj7B3w/d5jxocZCbT+orXc6zT+32++/TG9eYVWtjDPGt+j31T7yPKGzzPZDMjXVOrjb2Moo6KbvW83L7eb76IiEhh+NKXvkQikWDDhqHuiRwqv1+3DWcO11/RUKoG1tatWykrK0tv7230FUAymWTOnDncdNNNABx33HG88cYbLF++nAULFmTdj+FCCSwZdgKBAAnidNBGsh2cuPevEmjLuBCwLGt/8fQDjDFEiWIBPquM3WY7ZWYEDhy9TuMYZQ18/q4xBptlo5wq5nNhevs2s4nRjKfWqme3aaLDtOK3ytP792cgKwsC1DOZMir7fN5teRlrJvISTzDNHM8oq446awJ1TOix72tPvcWpnzhxQK8rBcbywgBHsPTeXsv0Sn4FAgFCoRAxopgwlNecQaxpc8YILEjFwu7JmaRJkiBBghhey8desxNjSnHiSrdNcqDoebk1gnIyC6b3xRiD3bLjo5QPc2AY/FbzDmOYxPFWDS1mN61mb7rQ+sHi9UDjeR0TqafvwusllpNJ5mhe4zkmmKMYY01ilFWXmqbezRuPr2Peh04Y0OtKgVE8FxEpCudXTsWXwyqEgWCI+4CysrKMBFZfRo8ezfTp0zO2TZs2jd//PrWSYW1tqpRCc3Mzo0cfqDva3NzMrFmz0vvs3Lkz4xjxeJy9e/em2w8VJbBk2PH7/bjxcor1EQBGMppX+CfHWadmFLztjWVZtJk9jLLqSJgEI606kibBu7zJFFK1QkoY/AfCvu6sG2MYxej0xVQFI3BYJX0uE5+tSmtUr9s7z4cxhpHWaE4yjQedgnPC2cflrV8yzFgesOUwws4a3ConIgfj9/spwZmu3VTZvIPVPMds6zRCJoinj3jeeQOgxeymyqomaRJUWamh7BvMa+l43teKhgfTV7KphvoD8Xz/aLCBroQ4UN3raXX+fgmZAB7LhzGGcquKE82/pFfI7UvDJ+f0+7wUMMVzkQ+MQEI/r8Xs/ZVOPM7s43koOrgppieffDLr16/P2Pb2228zfvx4IFXQvba2lpUrV6YTVm1tbTz//PMsXLgQgIaGBlpaWli9ejWzZ88G4LHHHiOZTDJv3rys30s+KIElw1KEEE3WVmpNPS3s5jjrVCA10ihh4ukP9VvNO4xmfDpp02b2sZaXqTTV6dpYNstOvTlwt/tgFwS96etiZx+7WMfLNJhGLMtK96O/5FXQdBCkPWOlrf4YY9jJNsqpwm15SZokFqlVsTbzNk7jZqI1Fei/fozBUPlRG7F4FDeadlKULB/kcqGdy91+kT7EibHFeptx5kjaaeE4TgHAY3lJmER6VcLUAhmj8FmlWJZF0HTwGs9xkmnMiKkTmJr+d0kev2c7TCsv8xSnmHMzRof1l7yKmHBqet8gRvPuMtvxUZae7g2pJFkTW4iYMFOt1E2G/n5XGWNYbT2B4VsDfl0pMIrnIh8YPrvKexSzrf/iw5XDCKxI0Ab/N/D9r7zySk466SRuuukmPvWpT/HCCy/w05/+lJ/+9KdA6rr2K1/5Ct/97neZMmUKEydO5Fvf+hZ1dXWcd955QGrE1tlnn81ll13G8uXLicViLF68mE9/+tNDugIhKIElw1BHRweBQICxdfUcdeZ43l/ZSoU5MLWk64f6t3mVt3mVM7kASK3SN9nMIEoYBwcuDrqv0NefVILIGtB0EAsbx9Aw4Kkju00Ta3gaN15mmJI+671kvIZl4TdlqeLCHKgF5sBG2AQxXabQ9CVqwjgsJ6G3Dfv2tGCz2fD5VOBVRA6tA/F8LDM+PJWNj22jlIr08/YuU7vf5Q1iRNNTtL2WnyPNsUQI4eySdB/MaKjBxPMkyT4X1+hNh2nlOVZQgoujjTXgmxJ+yjPej2VZlOAkbELEiBy0fecKjqOZQKAtQDAYpLS091qQIiIiMrR2te3BGct+FcJoKDyo/U844QQefPBBrrnmGm688UYmTpzI0qVLufjii9P7fP3rXycQCHD55ZfT0tLCKaecwqOPPorbfaCf//u//8vixYs588wzsdlsXHDBBfzwhz/M+n3kixJYMuz4fD4SiSRVjCL4pmGE6X2ebcSE08mbZ82jnGSdDUCdNWFArxM3MVrZk7GkOkCMGGE68JsKYkT6nbJYaY3EmIMnkDq1sReAMUwcUPKqk88qI76/DhikElKv8zwJ4n0Wdu8qTJBSXMR3w7TJ0wgmAoPqtxQIywu5TF3NYnSiSH8643kZlQRfTVJlavrcN06qZs8T5k+cbn0cGHg8T5gEe2hmFKMzklVRIsSI4DOlRA8SzzuLwQ9UC7sBqGXsgJNXAB7LR9zE018nTZJXeZYgHZy8//dYf4J0UEoFZVRyx00/4I8rfk8spnpHRUfxXESkKNSeNgK3v+/PHwcT7hj8CvIf/ehH+ehHP9rn85ZlceONN3LjjTf2uU9VVRW//vWvB/3ah5p+u8mw9Mbj6zgm2UBsh8FD7yOFdrA5/e8gqSXUx1gTB/waceI9klcADhyUUUWSRPpix5gkYUK48PS4O9/Xnf24iWVM6dtrdjKKOsYxpUfdlo3mLWJEOcqa1Wd/HV0+jDotN2PNEbSyp9d9u9dsaWIrdkoYM6ec6MqD3+GXAmXzgi2HCx5bz4UORHK14+2dHJc8jfhuehRqT+9jNqdvSMSJsdG8xSRreq/79iZBvEfyCsCOHRflJDLiuSFMECfujBFg/ekez1vMHsqo5HQ+3mMU7Dazib00c4zV92IZXeO5zbIxwUxlG+/2/t66TJsH2MtODEnes9Yzsfy0AfVfCpDiuQxjv/vd77jmmmuGuht5c+aZZ7Jy5cqh7oYUqZ3fPw2nM/uR0tFoex57U/iUwJJhyVt28Cl/E6yjGGFqeI3nCNFBO/uAgSew+ppWaLfsPRJAlmVLJ9I6C+5GTRgHzoyEVucKhACt7GUEB0YblFPVZ02TjbwFwBgzMd3+YGqssWwwrzHKjKbSqiZu4iSI70+OZV5QVTKKN2zPMb7yHNatWzfkq0eIyAdHZc3BY9poazyVZhSv8izttBBkcB/W+qo7WGI5iZtYxk0Dy7LS8byzBlfURHBQkhHPO4uqA7TTQiUHFtPwUdZn/a11vIzBMMbsoqrbAhx9LfBRaY1knXmZnWYb1dYYEiZOkgRgI0E0o/+jqONVniFqC7Nw4ULuvPPOg5wdEZH8uvDCCw++UwFR8koOpSsnlVHqPvjqgX1pD1v8LI/9KXRKYMmwNPG4eprZSg31/e5XalVQb45gM28z1To+vT1iQrgGUfeqU8gEcOEhQDsVfSzHblkWxhiclpukyVwVwombuIkRJsibvMgMMze9glZ/BXmP41Te5lV8DC64jWMKMaJsMRsoo4oyKvdfgGW+VglOZiVPJfRuguOPmkNrfN+gXkcKhOUFK/s59gxwNIrIYFTVVrCZtxnPkf3u57a8jDdH8harmWEdWOEmYsK4svi+DpsgLjy0sZdKqtPbu64qa7fs++O5i6RJZrS3k7qZESPKW7zEEWYGtVY9SZPst3j8bE7fH8/9PZ7rb4GPiUwlQoj3zUZKKad0fzzvvnKuHTvHcxpNiS388LvL+NPjf9AUwmKkeC4iUhTueOUtnCXZ1x6OxgJ57E3hK7gE1rJly7jttttoampi5syZ3HXXXcydO3eouyV5VlFZwTTb8d0HEvWqlMoe0wwHm7wKmHZ8Vml6CfOux0uaBHHiOC0XAdOOF3/64sfW5QNi1ISx42AjbzGSOqKEcePtsV+nrhdRI6wajjKzCNCOf38SK2DaceHud2XBcdYU4iaG2f+nr+LDDkpw4SbwkoEBFpyXQmTf/8ilvUh+OUocGCs5oHheRU1GgXNg0MmrkAngxovb8mKMwUdZt7pYYZzGTZgQHsvbJZ4fiJ8xE8VBCet5lfEcSYgAbjw99uvUNZ5XWCOYbmYTpAPX/jZhE8SGvd8EVq01jqiJYGH1G8/DBKmwRmasxijFSPFcRKQYnH1ODK8n+xtNwVCMn/8tjx0qcAWVwHrggQdYsmQJy5cvZ968eSxdupTGxkbWr19PdXX1wQ8gBcPCGvAUEjcexjK53332md3YsRMnhgMHXkozEkNb2cAYM4lSqwLLsnCRGl1ls+zYLDtJE6HN7KPMqqTF7O61jksz2zAk8FHK27yKG2/GMulA+pgAhiQYW/qix4mbYJcEloOSfpNXnfrbp9m8z0beYgJH4ic1jWfdprcOekwpUJFY73VPbDZwdvk+CfdRBy2iURySf8lkkgBtA9rXhu2giZkO00aC1JRpG/Ye0/l2sJlyRjCCmv3x3JNRw8qOg700M8Kqpd204qO0R7JoJ9uJE6WcKt7iJZy4e114o3OVwyQJbMaejucOnLSwOz3t0Iat3+RVp/722Wt28g6vM5LR6d9BC7/8H9z7+58f9LhSiGz7H7m0FxGRofb8U7twlWQ/iioSG3wR92JWUAmsO+64g8suu4xLL70UgOXLl/Pwww9zzz33cPXVVw9x7ySfVj++hq9/+DsA7GIbERNhrDWp1323sSmjNklvKvdfeMRNPKN4btREeJtXaWYrRzIzo007rfhNOXbLjhM3LjxsNe/yk8fvpPGMc3DiYgS1jKQWJ27GMonVPEkLu/Hg5xTrIz360XUkloUtY1SA3yojbA4Et4GOOjAmidXHnfqtvEuUMPH9f7zjHIyqG/jqh1Jg/l8fK4kcNw2u+eKBry+7ASLRw9Ilka3rtjGz5CTi0Th7aCZg2hhnTel1311sx0X/sc9vpZL83Qurx02cDbzGNjZyKudmtAnQTqmpwGbZsGGnihqazfu8wfM4cOI2XioZyUhG46WUWup5kxfYyTacuDiZc3rtS2fiy2Yy47nb8lBiDiSjnAOM50mT7HPk1TY2ESY1kitmIrRZ+xgxpgqvN/uVjUREROTQOuui/8PnPfighL4EgjFu+0MeO1TgCiaBFY1GWb16dcaKFzabjfnz57Nq1ao+2+3bt49E4kCdIpfLhcuVw6oufUgkEiSTyYzXkuxNPWEK448ey+Y336fD3soWs4Gxyd4TWLXWuPSopYOxd7swaLF2s9u+neeeeY6LGj7LZHNM+rlyq4oYUSys9AXFaMYx/1/mgwNCxHifd7An7VSZarz48Vo+Omwt1CTHHHS6TPfVsiKE2Gxbj9O4sLBRSkXG8wcKtKfEiGDD0WMVrSDteEmtdDHH+hAJEmzhbY46/ghO+vRsAm1B/OXZz8OWA3L9uT988cKiGKaTKJ4XproptRx98lG8+vibhOztbORN6hOTseg5nbnCGoWHgSVkusfQDquFZvsWHOf/lY2/+xLTzJz0c+VWFXFigEnfSKhhLOttr5C0EoRoJ0Q7JplkjJmEExcey4fD5mBksha76f/jUvebCEkSbLatx2Xc2HH0Es8T2Lv8TEYIUYKzx3TzVvZSThUAx1jzSJJkB5vpmHgEe+ZOJxlN6Ps0T4ZfPC/uKYSK54VL5zT/dE7zL5dzmu//h28mjsWRyD6+xRMR4JH8dajAFUwCa/fu3SQSCWpqajK219TUsG7duj7bTZgwIePrRYsWsXjx4rz3L5lMsnfvXt555x1sNg3bzoezF5/Oa0+8xfeXXA02+M7CW4luM4DB7rWIbDV4jrKwbSkj2QYYcI23SEbBxAzxfUAytd3mA0elhbPeQXh9kkQ7lNRaTJs3jv++djkAJ37qODpeTZBoNcR2QMloC2+1GxM3JKMGE7RwBEu48KwLuf7664FUYjUUCHHzFXdg2eGPd/0Wm91G06ad/ODie7BckOxIvR9bKZgImM6BL1aqb5YLSqotSut9rPjBo9x+++1Em5K0PZlZUNg/rQTPVBuJdkPr40lKEi4c+wdTxXen/raXw6gp5SQ7DIl2sLkBm4Njqo6GJLTubeP1V95g5JiqQ/cf9wGS6899R0dHfjv0k++Cp5eRHjYbGRczP7up9/ahMPy/a/PbpzxSPC9cZ3yhgZJyO9+96ms43Ha+95+3En7PgDE4KizCGw3uIyys973YgEQ7OOuBpEUyaojvJR3PLSc4RliUHuEkvMEQ22MoGWkx6aQafnHdapxOJ9+2nUjwzQSxPRDbYXCMAE+tE8sByRAkA5BoM3zi7PO44ds3AKl4HglHuOmK2zEJeOBH/42jxM6+na3c9qkfQzLVFvbX1waS3Ub1W25wVFm4xpbw2LIV3H777cT2GlpXZH4Y9k504DvORjJsaP1HElfUg70SbC6LWFPq7oejCkaPH4EJQbwV7H7AsnOkbxJjXE6Onexg23s7cPvd+j7Ng2EXz+kWt7NqP3wpnhcundP80znNv1zOab7j+eWbP4nX3XNhl4EKhjt4kVvy2KPCVjAJrGy99957lJUdGJ1zKO/wvPPOO0yePBm7fXjf9SoUkyZNYvqpU5g8eTKRSISHX+k5dtJ60wIsnJYLy7IIv5+6mrAZG0kreeDzWxjYAc/87hlOPvnk1LbtsPWHWxk1KjX98Kc//Sk7d+5k6lFTU58Zd8IzDz7DySedTOdAgY3vbKSiqiJjykYwGOThV1N9+9W0n+P1egkeGeS8xL9CkPTnz7Wr1xIOhzlt1hmMMLXc8ovvcukXLyUSC2G2Jdm0ahM1NTXceeed7N69mxNnngykCgPbsBNc387WlVsBGDd2HB6bn5eeeR6bzcbUqVNxGy+rVqxi/FH1eL1ekskk0VAUt89Ny85WbA6LHbt26Hs0j3L9uW9rG1hdoAFzOcE9gPjW1z7JZO/bhwnF88I1adIkJs6qT8fzv7zQJZ7vSv1lrU/FcwcOSmwugttTdRBtxkaSLvE8wYH43BnPd8HWH/UTz1vgmYcHFs8fejnVt/8+en88DwZ5LNSY2sEGWLB2TSqenzzrNKrNGL677AYuW/wFYtEoiaYE7z2/iZraA/F83swTsWEnaSUpwUlgcxtbn0nF8/qx9Xhtpbz47HPYHXamTp2K07h4+k/PMvnYiXi9qWL04UAEj99N+74Okokk/kqfvk/zaNjF8yKneF64dE7zT+c0/3I5p/mO5yum/Qinz5l1+2hAZT+6KpgE1siRI7Hb7TQ3N2dsb25upra2ts92lZWVGb8gDyWbzYbdblfgyaPOc1paWkosFiMQCOD3Z2awOzo68Pl8vT7X3NycHrXXmU2Px+MZ7TqVlpZis9mIJ+LpbUcffTQtrS3p41aNrMpo09mu+xLmpaWlxOKZ/R09ejQA+xK72cduTvlIA22JfT36Ultbi81mI5BsS7+HrosUBAIBYokYMfZRV1eXfk8dtDFx2vj0cex2OyUlqfnWI0ZXkUgkaN7TrO/RPMvl5z7//w/FXfRX8bywFWM8b0vso419nHH+qbQvbO3Rl854HkwG0u+hezyPJ+K0sY8xY8ek31OcOEfOOiKjf/7y1Ee2ipGpBTkSiYS+T/NM8fzwUTwvbDqn+adzmn/ZntN8/x98wTsGn3dwKyp3FTBhfpPH/hS6gklgOZ1OZs+ezcqVKznvvPOA1NDAlStXHpIhxzI8+Xw+jOm9uFRfz3Xf1lf7wRxjoHo7Xtev+zpudXX1oN5ntv2TYlPcNVOkuCieK55LfxTPRUSKwbP/Nxu3M/v6w+Fo9isYFqPhfXummyVLlvCzn/2M++67j7Vr17Jw4UICgUB6VcKhFIlE+NGPfkQk0sfy9DJoOqf5pfOZf8PvnNrz8JDh9/9a+HRO80/nNL+G3/lUPM+H4ff/Wvh0TvNP5zT/htM5PSbxMrMSL2b9OCbx8lC/hWHFMgV2q+9HP/oRt912G01NTcyaNYsf/vCHzJs3r8d+bW1tlJeX09raeliGKO/bt4+qqir27t1LZWXlIX+9DwKd0/zS+cy/XM9pvuJU53H45Q/B68n6OARD8Ln/PGxxcyBaWlo444wzWLNmDdOmTePKK6/ksssuO6SvqZ+V/NM5zT+d0/xSPD/0FM+Lg85p/umc5l8u5zTf8fzxt3+Gv3RgKyz3pqM9yBlHXjas4vlQKpgphJ0WL16sKYMiIr0qvpoppaWlPPLII4wePZqVK1dy0kkncf755zNixIih7pqIyCGkeC4iUgyC7qlYnhxWIYzle5XbwlZwCSwREelL8dVMsdvt6VXiIpEIxhjVCBKRDwDFcxGRYjDz/7ZR5sl+BFZbKJjH3hS+ok1gdf5CPFzLGne+Tltbm1aPyBOd0/zS+cy/XM9pZ/tC/gD/1FNPcdttt7F69Wp27NjBgw8+mF5oo9OyZcvSU79nzpzJXXfdxdy5cwf8Gvv2pVbrnDZtGt/97ndxOp2HNLbrZyX/dE7zT+c0vxTPFc9lYHRO80/nNP9yOaf5jue7Zq8g7HNm3b49EM1LP4pF0Saw2tvbAaivrz+srzthwoTD+nofBDqn+aXzmX+5ntP29vZUzZOcHf479oFAgJkzZ/L5z3+e888/v8fzDzzwAEuWLGH58uXMmzePpUuX0tjYyPr166murgZg1qxZxOPxHm3//ve/U1dXl/7gEQ6H+epXv8pXv/rVQfczG/pZyT+d0/zTOc0vxXPFcxkYndP80znNv1zOab7i+a9KT8blz34EVsQWBH6Rcz+KRdEmsOrq6ti6dSulpaVYljXU3RER6cEYQ3t7O3V1dXk6okVudU9SsbL73XCXy4XL5eq1xTnnnMM555zT5xHvuOMOLrvssvRqscuXL+fhhx/mnnvu4eqrrwZgzZo1/faqazy/6qqrOO2003qMChARGUqK54rnIlIc8h3PzVN/xnhKsm8fiuWlH8WiaBNYNpuNsWPHDnU3RET6lZ879Z3yc8e++8jV66+/nhtuuGHQR4tGo6xevZprrrkmvc1mszF//nxWrVo1oGM0Nzfj9XoZO3Ysra2tPPfcc3z5y1/WKiwiMuwonvdP8VxECkU+4/kVz11OaYkv6/btsQBL+WPe+lPoijaBJSIi2dm6dWvGBUVfd+sPZvfu3SQSCWpqajK219TUsG7dugEdY/PmzVx++eXpYr9XXHEFxxxzTFb9ERH5oFE8FxEZWtd95k84vdnXwIoGo/D7PHaowCmBJSJSNPJzx76srGzY3BGfO3fuQaekiIgUH8VzEZFi8OlNQXyenrUBByoQivK/eexPoVMCS0SkWCQdqUcu7fNo5MiR2O12mpubM7Y3NzdTW1ub19cSESkqiuciIkXh/vfm43RlX8Q9GgkC/52/DhW4XKpDfiB873vf46STTsLr9VJRUdHrPlu2bOHcc8/F6/VSXV3N1772tR4rsDzxxBMcf/zxuFwuJk+ezC9/+csex1m2bBkTJkzA7XYzb948XnjhhUPwjgqDzkXvnnrqKT72sY9RV1eHZVn88Y9/zHjeGMN1113H6NGj8Xg8zJ8/nw0bNmTss3fvXi6++GLKysqoqKjgC1/4Ah0dHRn7vPbaa5x66qm43W7q6+u59dZbD/VbGzI333wzJ5xwAqWlpVRXV3Peeeexfv36jH3C4TCLFi1ixIgR+P1+Lrjggh4f4vMVB4qJ0+lk9uzZrFy5Mr0tmUyycuVKGhoaDnt/FM+Hhs5F3xTT80vx/NBRPFcMA52L/iie51cxxfP1ZXbWlmf/WF+Wy2jc4qME1kFEo1E++clPsnDhwl6fTyQSnHvuuUSjUZ599lnuu+8+fvnLX3Ldddel99m0aRPnnnsuZ5xxBmvWrOErX/kKX/ziF/nb3/6W3qdzaeLrr7+el19+mZkzZ9LY2MjOnTsP+XscbnQu+ta5xPWyZct6ff7WW2/lhz/8IcuXL+f555/H5/PR2NhIOBxO73PxxRfz5ptvsmLFCh566CGeeuopLr/88vTzbW1tnHXWWYwfP57Vq1dz2223ccMNN/DTn/70kL+/ofDkk0+yaNEinnvuOVasWEEsFuOss84iEAik97nyyiv5y1/+wm9/+1uefPJJtm/fnrHEeL7iQM6MI/fHIHV0dLBmzZr0tJBNmzaxZs0atmzZAsCSJUv42c9+xn333cfatWtZuHAhgUAgvYrV4aR4fvjpXPRPMT2/FM8VzzspnuefzkX/FM/zq5ji+SemPMYnj/p71o9PTHksb30pCkYG5N577zXl5eU9tv/1r381NpvNNDU1pbf9+Mc/NmVlZSYSiRhjjPn6179ujj766Ix2F110kWlsbEx/PXfuXLNo0aL014lEwtTV1Zmbb745z+9k+NO5GBjAPPjgg+mvk8mkqa2tNbfddlt6W0tLi3G5XOb//u//jDHGvPXWWwYwL774YnqfRx55xFiWZbZt22aMMebuu+82lZWV6e9fY4z5xje+YY466qhD/I6Gh507dxrAPPnkk8aY1DksKSkxv/3tb9P7rF271gBm1apVxpj8xYFstba2GsDw898Zfv1I9o+f/84AprW1dcCv/fjjj6deu9tjwYIF6X3uuusuM27cOON0Os3cuXPNc889l/N7zoXi+eGjczFwiun5p3iueK54nj86FwOneJ5/hRzPP/GXT5lPPfbvWT8+8ZdPDTqeFzONwMrRqlWrOOaYYzJWZWlsbKStrY0333wzvc/8+fMz2jU2NqaXHe5cmrjrPoNdmrhY6Fxkb9OmTTQ1NWWcu/LycubNm5c+d6tWraKiooI5c+ak95k/fz42m43nn38+vc9pp52G03lgtYzGxkbWr1/Pvn37DtO7GTqtra0AVFVVAbB69WpisVjGeZ06dSrjxo3LOK+5xoG86KyZkstjkE4//fT0ilJdH12HXy9evJjNmzcTiUR4/vnnmTdvXv7ecx4pnueXzkVuFNNzp3g+OIrniud90bnIjeJ57go5nle+Xk/VmnFZPypfr89bX4qBirjnqKmpqdclhTuf62+ftrY2QqEQ+/bty3lp4mKRj2WaP6g6v996O3ddvxerq6sznnc4HFRVVWXsM3HixB7H6HyusrLykPR/OEgmk3zlK1/h5JNPZsaMGUDqPTudzh41Nrqf11zjgMfjORRvSQZB8Ty/FM9zo5ieG8XzDzbF8/xSPM+N4nluCj2ej4n+B25badbtw9F24P/LuR/F4gOZwLr66qu55ZZb+t1n7dq1TJ069TD1SESGg0WLFvHGG2/w9NNPD3VXspRd3ZOM9gVG8VxEeqN4rnguIsWh0OP5v5z6Rfz+7GNyR0ec7+SxP4Wu8H675cFVV13F5z73uX73mTRp0oCOVVtb22MFjs7VDzqXFa6tre112eGysjI8Hg92u11LE++nZZqz13l+mpubGT16dHp7c3Mzs2bNSu/TvdhmPB5n7969B/1+7foaxWjx4sXpgpljx45Nb6+trSUajdLS0pJxl6fr92Q+4kBeZFm4N6N9gVE8H74Uz3OjmJ49xXMUzxXP80rxPDeK59krhng+6d3/psxTlnX7tlAbMC4vfSkGH8gaWKNGjWLq1Kn9PrrOLe5PQ0MDr7/+ekbAWbFiBWVlZUyfPj29T9dlhzv36Vx2eLgtTTyUdC6yN3HiRGprazPOXVtbG88//3z63DU0NNDS0sLq1avT+zz22GMkk8l0HYuGhgaeeuopYrFYep8VK1Zw1FFHFeXQZGMMixcv5sEHH+Sxxx7rMTR79uzZlJSUZJzX9evXs2XLlozzmmsckOwong9fOhe5UUwfPMXzwqZ4PnzpXORG8Xzwiimev3J0kpeOzf7xytHJvPWlKAxJ6fgCsnnzZvPKK6+Yb3/728bv95tXXnnFvPLKK6a9vd0YY0w8HjczZswwZ511llmzZo159NFHzahRo8w111yTPsbGjRuN1+s1X/va18zatWvNsmXLjN1uN48++mh6n/vvv9+4XC7zy1/+0rz11lvm8ssvNxUVFRmrJnxQ6Fz0rb29Pf09CJg77rjDvPLKK2bz5s3GGGO+//3vm4qKCvOnP/3JvPbaa+bjH/+4mThxogmFQuljnH322ea4444zzz//vHn66afNlClTzGc+85n08y0tLaampsZccskl5o033jD333+/8Xq95ic/+clhf7+Hw8KFC015ebl54oknzI4dO9KPYDCY3uc//uM/zLhx48xjjz1mXnrpJdPQ0GAaGhrSz+crDmQrvWrVj/9h+OWq7B8//kdRr3KieH746Vz0TzE9vxTPFc8Vzw8dnYv+KZ7nVzHF81vuPsf84N5/zfpxy93nFHU8HywlsA5iwYIFvS4p/Pjjj6f3ee+998w555xjPB6PGTlypLnqqqtMLBbLOM7jjz9uZs2aZZxOp5k0aZK59957e7zWcFuaeCjpXPTuYEtcJ5NJ861vfcvU1NQYl8tlzjzzTLN+/fqMY+zZs8d85jOfMX6/35SVlZlLL700/YGv06uvvmpOOeUU43K5zJgxY8z3v//9w/UWD7vezieQ8TMaCoXMl770JVNZWWm8Xq/5xCc+YXbs2JFxnHzFgWykL3juftxw74vZP+5+vKh/QSqeDw2di74ppueX4rniueL5oaVz0TfF8/wqpnh+32M/ML994adZP+577AdFHc8HyzLGmDwM5BIRkSHS1tZGeXk5LPsnePzZHyjUAYtOpbW1lbKy7Ofqi4hIdhTPRUSKQ2c8X3z1o7jcvqyPEwkH+NH3z1Y836/wKjyKiIiIiIiIiAxz9o0l2EtKsm8fy75tMVICS0SkWCQdqUcu7UVEZOgpnouIFIVTz/kTXq8r6/bBYIQf/CaPHSpw+u0mIlIsPoDLrouIFCXFcxGRovCbilqcPnfW7aPOcB57U/j0201EpFgYe44XPPb89UVERLKneC4iUhRO9LjweLJPYIWSBg3AOkAJLBERERGR4SQSAlsvSSibHUq6TEWJBPtuLyIiQ+6Y9c/i82RfxyoQiuWxN4VPCSwRkWKRtKUeubQXEZGh9/WTe98+43RY/IsDX191IkSVrBIRGa5WchsuSrNuH6Ed+H3+OlTglMASESkWoRCU+MGyUl/Ho5CI933HvsQNtv1Jq0Qs1V5ERIYvAySGuhMiIjJQocDtJBPZF3GPhCM5vf73v/99rrnmGr785S+zdOlSAMLhMFdddRX3338/kUiExsZG7r77bmpqatLttmzZwsKFC3n88cfx+/0sWLCAm2++GYdjaFNISmCJiBSLbzbA91+A0hGpr//xM/jLHXDSp+Dimw/sd/Xc1B37G5+EEWNT2578H/j9dw9/n0VEpKebVoHb33N792mF33+h9/bhjtTvBBERGVJm7QSM05N9+xxG2b744ov85Cc/4dhjj83YfuWVV/Lwww/z29/+lvLychYvXsz555/PM888A0AikeDcc8+ltraWZ599lh07dvDZz36WkpISbrrppqz7kw9KYImIFJMEB+7OJ/f/3dcd+972FRGRoWf3gMPb+3Nd43lf+9g1TEtEZDjYHQzijGX/QTsay24Vwo6ODi6++GJ+9rOf8d3vHrhJ3drayi9+8Qt+/etf8+EPfxiAe++9l2nTpvHcc89x4okn8ve//5233nqLf/zjH9TU1DBr1iy+853v8I1vfIMbbrgBp9OZ9fvJlRJYIiLF4turwFt1IBl1xmVw2qVgt2cmqL6z/459ifvA9lP+HWadC9frjr2IyJAz5HZjweSrIyIikotzprvwurOfQhgMG36dRQmsRYsWce655zJ//vyMBNbq1auJxWLMnz8/vW3q1KmMGzeOVatWceKJJ7Jq1SqOOeaYjCmFjY2NLFy4kDfffJPjjjsu6/eTKyWwRESKhcMDSevA15YTHPvvkPR2xz5jZFZJqr2IiAy9riNks20vIiJDLvqR13D4sx+xFO2Iwnegra0tY7vL5cLl6j0xdv/99/Pyyy/z4osv9niuqakJp9NJRUVFxvaamhqamprS+3RNXnU+3/ncUFICS0REREREREQkz9YvPRqX0511+0g0NYWwvr4+Y/v111/PDTfc0GP/rVu38uUvf5kVK1bgdmf/usOVElgiIsVCd+xFRIqD4rmISFGo9jbhcWY/hTDkSK1CuHXrVsrKytLb+xp9tXr1anbu3Mnxxx+f3pZIJHjqqaf40Y9+xN/+9jei0SgtLS0Zo7Cam5upra0FoLa2lhdeyFwkpLm5Of3cUFICS0SkWCTJrWaKCrmLiAwPiuciIkWh6aVJuOzZl+mIJFKrEJaVlWUksPpy5pln8vrrr2dsu/TSS5k6dSrf+MY3qK+vp6SkhJUrV3LBBRcAsH79erZs2UJDQ6oWbkNDA9/73vfYuXMn1dXVAKxYsYKysjKmT5+e9XvJByWwRERERESGk2gIXH6w9tc1jEchGQebHRxd7rpHg6m/HW6w2VL/TsRS7UVEZMjVnfpPPK6SrNuHIjF4/eD7dSotLWXGjBkZ23w+HyNGjEhv/8IXvsCSJUuoqqqirKyMK664goaGBk488UQAzjrrLKZPn84ll1zCrbfeSlNTE9deey2LFi3qc+TX4aIElohIsdCUExGR4nBTA3zzBfCNSH39xM/gH3fAnE/BJ24+sN935kIsBF99EirHprY98z/w1+/2PKaIiBx2z1XcidN98JFTfYmG24AH89ch4M4778Rms3HBBRcQiURobGzk7rvvTj9vt9t56KGHWLhwIQ0NDfh8PhYsWMCNN96Y135kQwksEZFioQSWiEjx6BrTTZe/e4vVXffV9EERkWFj0oo7cTuyH7UUjkdy7sMTTzyR8bXb7WbZsmUsW7aszzbjx4/nr3/9a86vnW9KYImIFAvVTBERKQ5XrQJ31YG43HAZzLs0NYWwa6z+2v4iuw73ge0n/DscfS78fw2HscMiItKbHee+jdOd/RTCaDgGL+axQwVOCSwRERERkeGkxHOg/hWAwwk4e+7n9PbcZi9JtRcRkSHXuPhf8JZlH5ODbSHuu+GRPPaosCmBJSJSLJLkNg1QI7BERIYHxXMRkaLQ/JIfjy/7BFYoYM9jbwqfElgiIsVCNbBERIqD4rmISFGY8eyj+HKYQhgIx/LYm8KnBJaIiIiIiIiISJ75bB/Fb+tluvdA2YLAH/LWn0KnBJaISLFQEXcRkeKgeC4iUhT++fI9uEuyT7uEY/E89qbwKYElIlIswhxYaj0bua/SKyIi+aB4LiJSFDz/NQOP35V1e6sjAn9+Oo89Kmy2oe6AiIjkSRgI5fAIZ/eyy5YtY8KECbjdbubNm8cLL7yQ2/sQEfmgUzwXESkKEecUIq6jsn84pwz1WxhWNAJLRESy9sADD7BkyRKWL1/OvHnzWLp0KY2Njaxfv57q6uqh7p6IiAyQ4rmISP5V3VCLtyT7GljBWDCPvSl8ljEmlwHKIiIyxNra2igvL4eL1oCzNPsDRdvhgVm0trZSVlY2oCbz5s3jhBNO4Ec/+hEAyWSS+vp6rrjiCq6++urs+yIi8gGkeC4iUhw64/k/lj+Pz+PP+jiBUAfz/2PeoOJ5MdMILBGRYhEmt6XT96/S29bWlrHZ5XLhcvWcux+NRlm9ejXXXHNNepvNZmP+/PmsWrUqh46IiHzAKZ6LiBSFH+57kpKQJ+v2sXAoj70pfEpgiYhIhvr6+oyvr7/+em644YYe++3evZtEIkFNTU3G9pqaGtatW3couygiIgOgeC4iMrQanV/E48p+5FQo2caf+Xoee1TYlMASESkWISCXlXb337HfunVrxhDl3u7Wi4jIIaR4LiJSFKa+eRU+pzPr9oFoNI+9KXxKYImIFIsQ6YuWrOy/WCorKxvQHPuRI0dit9tpbm7O2N7c3ExtbW0OHRER+YBTPBcRKQqjLzyWUl/2UwjbAyG4J48dKnBKYImIFIsQuUX1Qd7tdzqdzJ49m5UrV3LeeecBqaK/K1euZPHixTl0RETkA07xXESkKNzZejbOWPaLckSD7cCV+etQgVMCS0REsrZkyRIWLFjAnDlzmDt3LkuXLiUQCHDppZcOdddERGQQFM9FRPKvcc+f8QWzH4EVCIX4WR77U+iUwBIRKRZhwJ5D+yxWvLrooovYtWsX1113HU1NTcyaNYtHH320RyFgEREZBMVzEZGiMLFtNP6oN+v2HeFgHntT+JTAEhEpFkEO+wUPwOLFizXFREQknxTPRUSKwuPrwJN9DXdCquGeQQksEREREREREZE8e/mUjTi97qzbR4Nh+FUeO1TglMASESkWYcCWQ/tkvjoiIiI5UTwXESkK6z1hHNmXwCJuwvnrTBFQAktEpFiE0AWPiEgxUDwXESkKR26I4Mx+ABbRcITV+etOwVMCS0SkWIQAK4f2Jl8dERGRnCiei4gUhS9ac/BZ2RdxD1hB/i+P/Sl0SmCJiIiIiIiIiOSZ46idlHizn0PoCIby2JvCpwSWiEix0BR5EZHioHguIlIU/vnuE7jdJVm3D4djeexN4VMCS0SkaCSAeI7tRURk6Cmei4gUg7/NmYnDl30RrHggDPwpfx0qcEpgiYiIiIiIiIjk2bd/G8DvzP6GREc0wofz2J9CpwSWiEjRiJPbHftc2oqISP4onouIFIOK6e9S6sl+CqEjpCmEXSmBJSJSNHTBIyJSHBTPRUSKQWTkPZR4y7JvH2wD/pi3/hQ6JbBERIqGLnhERIqD4rmISDFYsvdWHCFX1u3joUgee1P4lMASEREREREREckz74PzcTh8WbePxwPA9/PXoQKnBJaISNHQHXsRkeKgeC4iUgzOCm7E4/Bm3T4UD7Iyj/0pdEpgiYgUDS27LiJSHBTPRUSKwZp/b8XpiWbdPhoKweo8dqjAKYElIiIiIiIiIpJnoyY+jcuX/SqEkYBWIexKCSwRkaKhKSciIsVB8VxEpBjUvboLtzv7tEs4rHjelRJYIiJFQxc8IiLFQfFcRKQYHOH4Pl6HP+v2QUcHcFr+OlTglMASESkauuARESkOiuciIsXg2MlLKfVmP4WwPagphF0pgSUiIiIiIiIikmd3jbkalz/7EViRjg7gD/nrUIFTAktEpGho1SoRkeKgeC4iUgz8G/+I2+vOun1JMJzH3hQ+JbBERIqGppyIiBQHxXMRkWJgheuwbJ4c2ofy2JvCpwSWiIiIiIiIiEiejWmox1Pqy7p9qD2Qx94UPiWwRESKhu7Yi4gUB8VzEZFicOzm/8Xvy76Ie0dgcEXcb775Zv7whz+wbt06PB4PJ510ErfccgtHHXVUep9wOMxVV13F/fffTyQSobGxkbvvvpuampr0Plu2bGHhwoU8/vjj+P1+FixYwM0334zDMbQpJCWwRESKhI0EVg51TwwJknnsj4iIZEfxXESkONyzpxpnyJV1+2gwMqj9n3zySRYtWsQJJ5xAPB7nm9/8JmeddRZvvfUWPl9qJNiVV17Jww8/zG9/+1vKy8tZvHgx559/Ps888wwAiUSCc889l9raWp599ll27NjBZz/7WUpKSrjpppuyfi/5YBljzJD2QEREctLW1kZ5eTl+7sHCm/VxDEE6+Dytra2UlZXlsYciIjIQiuciIsWhM55fc+LJuHMYtRSOx7n5uWeyjue7du2iurqaJ598ktNOO43W1lZGjRrFr3/9ay688EIA1q1bx7Rp01i1ahUnnngijzzyCB/96EfZvn17elTW8uXL+cY3vsGuXbtwOp1Zv59caQSWiIiIiIiIiEievfupSko82U8hjIVi8Fz2r9/a2gpAVVUVAKtXryYWizF//vz0PlOnTmXcuHHpBNaqVas45phjMqYUNjY2snDhQt58802OO+647DuUIyWwRESKhBeDjewH1SYxdOSxPyIikh3FcxGR4nDWpv/A68q+iHswEuA3PERbW1vGdpfLhcvV/9TEZDLJV77yFU4++WRmzJgBQFNTE06nk4qKiox9a2pqaGpqSu/TNXnV+Xznc0NJCSwRkSLhy8MFj4iIDD3FcxGR4tC647+Iltizbh+Kpeoh1tfXZ2y//vrrueGGG/ptu2jRIt544w2efvrprF9/uFECS0REREREREQkz0bP+g5edw4jsMIB+N2/snXr1owaWAcbfbV48WIeeughnnrqKcaOHZveXltbSzQapaWlJWMUVnNzM7W1tel9XnjhhYzjNTc3p58bSkpgiYgUCQ9J7DmsO6U1q0REhgfFcxGR4vD74J8oSWZf9DwWjgJQVlY2oCLuxhiuuOIKHnzwQZ544gkmTpyY8fzs2bMpKSlh5cqVXHDBBQCsX7+eLVu20NDQAEBDQwPf+9732LlzJ9XV1QCsWLGCsrIypk+fnvV7yQclsEREioQXcOQwbSSev64MmZaWFubPn088Hicej/PlL3+Zyy67bKi7JSIyKIrniuciUhwq/nIMTrsn6/bRRGhQ+y9atIhf//rX/OlPf6K0tDRds6q8vByPx0N5eTlf+MIXWLJkCVVVVZSVlXHFFVfQ0NDAiSeeCMBZZ53F9OnTueSSS7j11ltpamri2muvZdGiRQcd+XWoKYElIlIkfJgcL3gKv2ZKaWkpTz31FF6vl0AgwIwZMzj//PMZMWLEUHdNRGTAFM8Vz0WkOPzHwy78ZdknfTrakvxi3MD3//GPfwzA6aefnrH93nvv5XOf+xwAd955JzabjQsuuIBIJEJjYyN33313el+73c5DDz3EwoULaWhowOfzsWDBAm688cas30e+KIElIiJFw2634/V6AYhEIhhjMKbwL+RERD5oFM9FpBj8z1e24SpxZ90+EgsPav+BxEm3282yZctYtmxZn/uMHz+ev/71r4N67cNBCSwRkSLhIUlJDnVPYoe4ZspTTz3FbbfdxurVq9mxYwcPPvgg5513Xo/9li1bxm233UZTUxMzZ87krrvuYu7cuQN+nZaWFj70oQ+xYcMGbrvtNkaOHJnHdyEicugpnqconotIoXv12LdxuLOvgRUPR+EPeexQgVMCS0SkSPgwlOQwbSR2iKecBAIBZs6cyec//3nOP//8Xvd54IEHWLJkCcuXL2fevHksXbqUxsZG1q9fny4iOWvWLOLxnhVe/v73v1NXV0dFRQWvvvoqzc3NnH/++Vx44YXU1NQc0vcmIpJPiueK5yJSHBZ/8Sq8Zf6s2wfbOnjiht/ksUeFTQksERE5LM455xzOOeecfve54447uOyyy7j00ksBWL58OQ8//DD33HMPV199NQBr1qwZ0OvV1NQwc+ZM/vnPf3LhhRfm1HcRETlA8VxEZGBq/3AEfs/BVw/sS0eoLY+9KXxKYImIFAkvBmcOd92j+9u2tWX+onS5XIdlxZFoNMrq1au55ppr0ttsNhvz589n1apVAzpGc3MzXq+X0tJSWltbeeqpp1i4cOGh6rKIyCGheK54LiLFoTr8CqWWL+v23nAgj70pfEpgiYgUCS9JnDnUPXHsb1tfX5+x/frrr+eGG27IpWsDsnv3bhKJRI/pITU1Naxbt25Ax9i8eTOXX355utjvFVdcwTHHHHMouisicsgoniuei0hx2HTiJnx+T9btAx2hPPam8CmBJSJSJLwYXDncse9csn3r1q2UlR0Y6tzf3fqrr76aW265pd/jrl27lqlTp2bdr8GYO3fugKekiIgMV4rniuciUhyap76Ftyz7ka/Btkgee1P4lMASEZEMZWVlGRc8/bnqqqv43Oc+1+8+kyZNGtCxRo4cid1up7m5OWN7c3MztbW1AzqGiIgcoHguIjK0XvhFGJc7+xsSkbASWF0pgSUiUiS8GNw53LG3Z9F21KhRjBo1KuvX7MrpdDJ79mxWrlyZXo49mUyycuVKFi9enJfXEBEpBIrnIiLF4VTHx/CWZF8DKxgP8COW57FHhU0JLBGRIuEgma57km37Q6mjo4N33nkn/fWmTZtYs2YNVVVVjBs3DoAlS5awYMEC5syZw9y5c1m6dCmBQCC9ipWIyAeB4rmISHEYUbsWnzeHGlhB1cDqSgksERE5LF566SXOOOOM9NdLliwBYMGCBfzyl78E4KKLLmLXrl1cd911NDU1MWvWLB599NEehYBFRGToKJ6LiAzMyL9uoNTpzLp9ezSax94UPiWwRESKhNn/J5f2h9Lpp5+OMQd/jcWLF2uKiYh8oCmei4gUh/uPDuJyx7NuHwkrgdWVElgiIkViuF/wiIjIwCiei4gUh098ZDr+UnfW7Tvaw3z/2jx2qMApgSUiUiSS+//k0l5ERIae4rmISHG4a/TpOMv8WbePtnXksTeFTwksEREREREREZE823PJE5SUZD8CKxYL57E3hU8JLBGRIqEpJyIixUHxXESkOJx9cj0etzfr9qFwkEf+kccOFTglsEREioQueEREioPiuYhIcbD9axybP/si7raOOHw7jx0qcEpgiYiIiIiIiIjk2fTnzsPvKcu6fUeoLY+9KXxKYImIFAmDyalwr+7Yi4gMD4rnIiLFoeXFpcSc2dfACkRVA6srJbBERIqEppyIiBQHxXMRkeLQMPkiytylWbdvC7cDN+StP4VOCSwRkSKhCx4RkeKgeC4iUhz2fvrXxEqzH4HV3h6Ga/PYoQKnBJaIiIiIiIiISJ79Zvkq3K6SrNuHI7E89qbwKYElIlIkkvv/5NJeRESGnuK5iEhxWBD+DaUm+yLu7ZE2bqQqjz0qbEpgiYgUCU05EREpDornIiLFYdvGG/CXuLJu3xGL5LE3hU8JLBERERERERGRPNv5kUo6PNnXwAqGwvDXPHaowCmBJSJSJHTHXkSkOCiei4gUh4eOrcPp92TdPtoRymNvCp8SWCIiRUI1U0REioPiuYhIcZj+4DN4XM6s24ci0Tz2pvApgSUiUiQihIe0vYiI5IfiuYhIcai+5nt4y7Iv4h5sa4M7f5XHHhU2JbBERERERERERPLszv/+CfYcamAlQroh0ZUSWCIiRSJMkCSJrNtH0SonIiLDgeK5iEhxOGXKWFy+7GtgRQIhXs1jfwqdElgiIkUiSIh4Thc8mmMvIjIcKJ6LiBSHM1dMxOfyZd0+EAmwLI/9KXRKYImIiIiIiIiI5Nk9xzxOiTf7KYSxoKYQdqUElohIkQgTIEEs6/Yx3bEXERkWFM9FRIrD+Pffx+XOfhXCSFjxvCslsEREikSIIPGcLniybysiIvmjeC4iUhymd5Thibmybh+KqKZhV0pgiYgUiRBBYpRk3T6XiyUREckfxXMRkeIwYuzH8Xqyr4EVDAWAu/PXoQKnBJaIiIiIiIiISJ69mFiLK5HDKoSJUB57U/iUwBIRKRIhgjhyCOtx4nnsjYiIZEvxXESkOFR/5DXcpdnXwAq3R+FreexQgVMCS0SkSIQJYseedftEDku2i4hI/iiei4gUB9tnarDbs1+F0JbQKoRdKYElIiIiIiIiIpJnm6aOxOXMYQphNASv5bFDBU4JLBGRIhHUHXsRkaKgeC4iUhzaP/pvRLxlWbePBtvgN1flsUeFTQksEZEiESaIDVvW7ZMk89gbERHJluK5iEhxOPtUyCF/RbAN/jt/3Sl4SmCJiBSJEAFd8IiIFAHFcxGR4nDfrRYlLivr9rFIdm2XLVvGbbfdRlNTEzNnzuSuu+5i7ty5WfdjuFACS0REREREREQkz84560Y8PlfW7UOBCH//8eDaPPDAAyxZsoTly5czb948li5dSmNjI+vXr6e6ujrrvgwHSmCJiBSJECEssr/DYzB57I2IiGRL8VxEpDis3vYmTk/2aZdoKD7oNnfccQeXXXYZl156KQDLly/n4Ycf5p577uHqq6/Oui/DgRJYIiJFIkxwqLsgIiJ5oHguIlIcPjvjTHx+d9btAx1h/ocnB7x/NBpl9erVXHPNNeltNpuN+fPns2rVqqz7MVwogSUiIiIiIiIikmdnnX5dXo7T1taW8bXL5cLl6jk1cffu3SQSCWpqajK219TUsG7durz0ZShlXx1SRESGBafTSW1tbV6OVVtbi9PpzMuxRERkcBTPRUSKQz7jud/vp76+nvLy8vTj5ptvzsuxC41GYImIFDi3282mTZuIRqM5H8vpdOJ2Zz/MWUREsqd4LiJSHPIZz40xWFZmXcTeRl8BjBw5ErvdTnNzc8b25ubmvCXUhpISWCIiRcDtdutCRUSkCCiei4gUh6GI506nk9mzZ7Ny5UrOO+88AJLJJCtXrmTx4sWHtS+HghJYIiIiIiIiIiJFYMmSJSxYsIA5c+Ywd+5cli5dSiAQSK9KWMiUwBIRERERERERKQIXXXQRu3bt4rrrrqOpqYlZs2bx6KOP9ijsXogsY4wZ6k6IiIiIiIiIiIj0RasQioiIiIiIiIjIsKYEloiIiIiIiIiIDGtKYImIiIiIiIiIyLCmBJaIiIiIiIiIiAxrSmCJiIiIiIiIiMiwpgSWiIiIiIiIiIgMa0pgiYiIiIiIiIjIsKYEloiIiIiIiIiIDGtKYImIiIiIiIiIyLCmBJaIiIiIiIiIiAxrSmCJiIiIiIiIiMiwpgSWiIiIiIiIiIgMa0pgiYiIiIiIiIjIsKYEloiIiIiIiIiIDGtKYImIiIiIiIiIyLCmBJaIiIiIiIiIiAxrSmCJiIiIiIiIiMiw9v8DSIhR0/j93/sAAAAASUVORK5CYII=' width=1200.0/>\n",
       "            </div>\n",
       "        "
      ],
      "text/plain": [
       "Canvas(toolbar=Toolbar(toolitems=[('Home', 'Reset original view', 'home', 'home'), ('Back', 'Back to previous …"
      ]
     },
     "metadata": {},
     "output_type": "display_data"
    }
   ],
   "source": [
    "if plots and data_dimensionality == 2:\n",
    "    plt.close('filtered')\n",
    "    fig = plt.figure('filtered', figsize=(12, 4))\n",
    "    ax = fig.subplots(nrows=1, ncols=3, squeeze=False,\n",
    "                      sharex=True, sharey='row',\n",
    "                      gridspec_kw={'hspace': 0, 'wspace': 0})\n",
    "    for axis in ax.flatten():\n",
    "        axis.tick_params(which='both', direction='in')\n",
    "        axis.grid(alpha=.5)\n",
    "    fig.set_tight_layout(True)\n",
    "\n",
    "    ax[0, 0].set_title('Input data')\n",
    "    im = ax[0, 0].imshow(\n",
    "        data,\n",
    "        interpolation='nearest', origin='lower', cmap='nipy_spectral', norm = colour_scale,\n",
    "        )\n",
    "    ax[0, 0].contour(final_labels, levels=[0.5])\n",
    "    #ax[0, 0].contour(smoothed_data, levels=[threshold_guess], colors=['w'])\n",
    "    cb = fig.colorbar(im, ax=ax[0, 0])\n",
    "    cb.ax.axhline(data_mode, c='k', ls=':')\n",
    "    cb.ax.axhline(threshold_guess, c='k', ls='--')\n",
    "    final_catalog.plot_kron_apertures(kron_params=(1, 1), axes=ax[0, 0], color='w')\n",
    "    ax[0, 0].scatter(final_catalog.centroid[:, 0], final_catalog.centroid[:, 1], s=25, c='k', marker='+')\n",
    "\n",
    "    ax[0, 1].set_title('Smoothed data')\n",
    "    im = ax[0, 1].imshow(\n",
    "        smoothed_data,\n",
    "        interpolation='nearest', origin='lower', cmap='nipy_spectral', norm = colour_scale,\n",
    "        )\n",
    "    ax[0, 1].contour(final_labels, levels=[0.5])\n",
    "    #ax[0, 1].contour(smoothed_data, levels=[threshold_guess], colors=['w'])\n",
    "    cb = fig.colorbar(im, ax=ax[0, 1])\n",
    "    cb.ax.axhline(smoothed_data_mode, c='k', ls=':')\n",
    "    cb.ax.axhline(smoothed_threshold_guess, c='k', ls='--')\n",
    "    #final_catalog.plot_kron_apertures(kron_params=(1, 1), axes=ax[0, 0], color='k')\n",
    "    ax[0, 1].scatter(final_catalog.centroid[:, 0], final_catalog.centroid[:, 1], s=25, c='k', marker='+')\n",
    "\n",
    "    ax[0, 2].set_title(f'Final selection map\\n({n_final_labels} objects)')\n",
    "    im = ax[0, 2].imshow(\n",
    "        final_selection,\n",
    "        interpolation='nearest', origin='lower', cmap=final_cmap,\n",
    "        )\n",
    "    ax[0, 2].scatter(final_catalog.centroid[:, 0], final_catalog.centroid[:, 1], s=25, c='w', marker='+')\n",
    "    cb = fig.colorbar(im, ax=ax[0, 2])\n",
    "    final_catalog.plot_kron_apertures(kron_params=(1, 1), axes=ax[0, 2], color='white')\n"
   ]
  },
  {
   "cell_type": "code",
   "execution_count": 69,
   "id": "4664ee8b",
   "metadata": {},
   "outputs": [],
   "source": [
    "if plots and data_dimensionality == 3:\n",
    "    max_map = np.nanmax(final_labels, axis=0)\n",
    "    plt.close('filtered')\n",
    "    fig = plt.figure('filtered', figsize=(10, 10))\n",
    "    ax = fig.subplots(nrows=2, ncols=2, squeeze=False,\n",
    "                      sharex=True, sharey=True,\n",
    "                      #gridspec_kw={'hspace': 0, 'wspace': 0}\n",
    "                     )\n",
    "    for axis in ax.flatten():\n",
    "        axis.tick_params(which='both', direction='in')\n",
    "        axis.grid(alpha=.5)\n",
    "    fig.set_tight_layout(True)\n",
    "\n",
    "    ax[0, 0].set_title('Input data (max)')\n",
    "    im = ax[0, 0].imshow(\n",
    "        np.nanmax(data, axis=0),\n",
    "        interpolation='nearest', origin='lower', cmap='terrain',\n",
    "        norm = colour_scale\n",
    "    )\n",
    "    ax[0, 0].contour(max_map, levels=0)\n",
    "    cb = fig.colorbar(im, ax=ax[0, 0])\n",
    "    cb.ax.axhline(0, c='k', ls=':')\n",
    "    cb.ax.axhline(threshold_guess-data_mode, c='k', ls='--')\n",
    "    \n",
    "    ax[0, 1].set_title('Input data (rms)')\n",
    "    im = ax[0, 1].imshow(\n",
    "        np.sqrt(np.nanmean((data-data_mode)**2, axis=0)),\n",
    "        interpolation='nearest', origin='lower', cmap='terrain',\n",
    "        #norm = colors.SymLogNorm(vmin=-delta_th, linthresh=3*delta_th, vmax=np.max(data-data_mode)),\n",
    "        #vmin=-delta/100, vmax=3*delta/10,\n",
    "        norm = colour_scale,\n",
    "    )\n",
    "    ax[0, 1].contour(max_map, levels=0)\n",
    "    cb = fig.colorbar(im, ax=ax[0, 1])\n",
    "    cb.ax.axhline(0, c='k', ls=':')\n",
    "    cb.ax.axhline(threshold_guess-data_mode, c='k', ls='--')\n",
    "    \n",
    "    ax[1, 0].set_title(f'Final selection map (max)\\n({n_final_labels} objects)')\n",
    "    im = ax[1, 0].imshow(\n",
    "        max_map,\n",
    "        interpolation='nearest', origin='lower', cmap=final_cmap,\n",
    "        )\n",
    "    cb = fig.colorbar(im, ax=ax[1, 0])\n",
    "\n",
    "    ax[1, 1].set_title('<lbl^2> / <lbl>')\n",
    "    im = ax[1, 1].imshow(\n",
    "        np.nansum(final_labels**2, axis=0) / np.nansum(final_labels, axis=0),\n",
    "        interpolation='nearest', origin='lower',\n",
    "        vmin=0, vmax=n_final_labels-1, cmap=final_cmap,\n",
    "        )\n",
    "    cb = fig.colorbar(im, ax=ax[1, 1])\n"
   ]
  },
  {
   "cell_type": "code",
   "execution_count": 65,
   "id": "6a5844de",
   "metadata": {
    "tags": []
   },
   "outputs": [],
   "source": [
    "if plots and data_dimensionality == 3:\n",
    "    x_range = np.round(plt.figure('filtered').get_axes()[0].get_xlim()).astype(int)\n",
    "    y_range = np.round(plt.figure('filtered').get_axes()[0].get_ylim()).astype(int)\n",
    "    section = (data[:, y_range[0]:y_range[1], x_range[0]:x_range[1]]-data_mode)\n",
    "    section_lables = final_labels[:, y_range[0]:y_range[1], x_range[0]:x_range[1]]\n",
    "    norm = (y_range[1] - y_range[0]) * (x_range[1] - x_range[0])\n",
    "    section_labels = final_labels[:, y_range[0]:y_range[1], x_range[0]:x_range[1]]\n",
    "    unique_section_labels = np.unique(section_labels)\n",
    "\n",
    "    vertical_slit = np.nansum(section_labels**2, axis=2).T / (np.nansum(section_labels, axis=2).T + 1e-300)\n",
    "    horizontal_slit = np.nansum(section_labels**2, axis=1).T / (np.nansum(section_labels, axis=1).T + 1e-300)\n",
    "\n",
    "    plt.close('spectrum')\n",
    "    fig = plt.figure('spectrum', figsize=(8, 8))\n",
    "    ax = fig.subplots(nrows=5, ncols=1, squeeze=False,\n",
    "                      sharex=True, sharey=False,\n",
    "                      gridspec_kw={'hspace': 0, 'wspace': 0}\n",
    "                     )\n",
    "    for axis in ax.flatten():\n",
    "        axis.tick_params(which='both', direction='in')\n",
    "        axis.grid(alpha=.5)\n",
    "        \n",
    "    fig.set_tight_layout(True)\n",
    "\n",
    "    \n",
    "    ax[0, 0].set_title(f'Mean spectra for x in {x_range}, y in {y_range}\\n({unique_section_labels.size} objects)')\n",
    "    im = ax[0, 0].imshow(\n",
    "        vertical_slit,\n",
    "        interpolation='nearest', origin='lower',\n",
    "        vmin=0, vmax=n_final_labels-1, cmap=final_cmap,\n",
    "        )\n",
    "    ax[0, 0].set_aspect('auto')\n",
    "    ax[0, 0].set_ylabel(r'$\\Delta y$')\n",
    "\n",
    "\n",
    "    im = ax[1, 0].imshow(np.nanmean(section, axis=2).T,\n",
    "                   interpolation='nearest', origin='lower', cmap='terrain', norm=colour_scale,\n",
    "                  )\n",
    "    ax[1, 0].contour(vertical_slit, levels=0)\n",
    "    ax[1, 0].set_aspect('auto')\n",
    "    ax[1, 0].set_ylabel(r'$\\Delta y$')\n",
    "\n",
    "\n",
    "    ax[2, 0].plot(np.nanmean(section, axis=(1, 2)), 'k-', lw=3)\n",
    "    ax[2, 0].set_ylabel('spectrum')\n",
    "    for lbl in unique_section_labels:\n",
    "        mask = np.zeros_like(section)\n",
    "        mask[section_labels == lbl] = 1\n",
    "        if lbl == 0:\n",
    "            ls = ':'\n",
    "        else:\n",
    "            ls = '-'\n",
    "        ax[2, 0].plot(np.nansum(section*mask, axis=(1, 2))/norm, alpha=.5, ls=ls, label=f'{lbl}')\n",
    "    mean_error = 1/np.sqrt(section.shape[1]*section.shape[2])\n",
    "    ax[2, 0].axhline(delta_th*mean_error*bg_std, c='k', ls=':')\n",
    "    ax[2, 0].axhline(-delta_th*mean_error*bg_std, c='k', ls=':')\n",
    "    ax[2, 0].legend()\n",
    "    \n",
    "    \n",
    "    im = ax[3, 0].imshow(np.nanmean(section, axis=1).T,\n",
    "                   interpolation='nearest', origin='lower', cmap='terrain', norm=colour_scale,\n",
    "                  )\n",
    "    ax[3, 0].contour(horizontal_slit, levels=0)\n",
    "    ax[3, 0].set_aspect('auto')\n",
    "    ax[3, 0].set_ylabel(r'$\\Delta x$')\n",
    "\n",
    "    ax[4, 0].set_ylabel(r'$\\Delta x$')\n",
    "    im = ax[4, 0].imshow(\n",
    "        horizontal_slit,\n",
    "        interpolation='nearest', origin='lower',\n",
    "        vmin=0, vmax=n_final_labels-1, cmap=final_cmap,\n",
    "        )\n",
    "    ax[4, 0].set_aspect('auto')\n",
    "    ax[4, 0].set_ylabel(r'$\\Delta x$')\n",
    "\n",
    "    ax[-1, 0].set_xlabel('frequency / wavelength channel')\n"
   ]
  },
  {
   "cell_type": "markdown",
   "id": "b3c0203c",
   "metadata": {},
   "source": [
    "## Save FITS file"
   ]
  },
  {
   "cell_type": "code",
   "execution_count": 66,
   "id": "729c5c54-2d4f-454c-a73f-5fc2433f840b",
   "metadata": {},
   "outputs": [
    {
     "data": {
      "text/plain": [
       "'\\n'"
      ]
     },
     "execution_count": 66,
     "metadata": {},
     "output_type": "execute_result"
    }
   ],
   "source": [
    "hdu_out = fits.PrimaryHDU(final_labels)\n",
    "hdu_out.writeto('HOT_labels.fits', overwrite=True)\n",
    "'''\n",
    "'''\n"
   ]
  },
  {
   "cell_type": "code",
   "execution_count": 67,
   "id": "be656607-f054-4d0a-b86f-12190641c510",
   "metadata": {},
   "outputs": [
    {
     "data": {
      "text/plain": [
       "'\\n'"
      ]
     },
     "execution_count": 67,
     "metadata": {},
     "output_type": "execute_result"
    }
   ],
   "source": [
    "if data_dimensionality == 3:\n",
    "    hdu_out = fits.PrimaryHDU(np.sum(final_labels, axis=0) / (np.count_nonzero(final_labels, axis=0) + 1e-30))\n",
    "    hdu_out.writeto('HOT_mask.fits', overwrite=True)\n",
    "'''\n",
    "'''\n"
   ]
  },
  {
   "cell_type": "code",
   "execution_count": null,
   "id": "a578e98f-b7ac-4677-b756-f43627be305b",
   "metadata": {},
   "outputs": [],
   "source": []
  },
  {
   "cell_type": "code",
   "execution_count": null,
   "id": "8ba66ec4-62a5-4da0-a85f-4c87640a9fdb",
   "metadata": {},
   "outputs": [],
   "source": []
  }
 ],
 "metadata": {
  "kernelspec": {
   "display_name": "Python 3 (ipykernel)",
   "language": "python",
   "name": "python3"
  },
  "language_info": {
   "codemirror_mode": {
    "name": "ipython",
    "version": 3
   },
   "file_extension": ".py",
   "mimetype": "text/x-python",
   "name": "python",
   "nbconvert_exporter": "python",
   "pygments_lexer": "ipython3",
   "version": "3.8.10"
  }
 },
 "nbformat": 4,
 "nbformat_minor": 5
}
