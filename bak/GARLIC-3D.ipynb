{
 "cells": [
  {
   "cell_type": "markdown",
   "id": "e6589599",
   "metadata": {},
   "source": [
    "# GARLIC demo\n",
    "\n",
    "General-purpose Adaptive Richardson-Lucy Image Characterisation"
   ]
  },
  {
   "cell_type": "markdown",
   "id": "ec51323b-9255-42bd-b062-daa667ee0c19",
   "metadata": {},
   "source": [
    "# 1. General-purpose"
   ]
  },
  {
   "cell_type": "markdown",
   "id": "285723c4-c72c-4d41-b91d-330f0c637f42",
   "metadata": {},
   "source": [
    "## Import libraries and scripts"
   ]
  },
  {
   "cell_type": "code",
   "execution_count": null,
   "id": "61eb8399-24e9-4166-8095-3a1163c8e93d",
   "metadata": {},
   "outputs": [],
   "source": [
    "%matplotlib ipympl\n",
    "from matplotlib import pyplot as plt\n",
    "from matplotlib import colors\n",
    "from matplotlib.ticker import AutoMinorLocator\n",
    "\n",
    "import ipywidgets as widgets\n",
    "from IPython.display import display\n",
    "\n",
    "import numpy as np\n",
    "from time import time\n",
    "from scipy import ndimage, special\n",
    "\n",
    "import importlib\n",
    "import scripts\n",
    "importlib.reload(scripts)"
   ]
  },
  {
   "cell_type": "markdown",
   "id": "0cbdb640-baa2-4abd-b7c6-6867474162cc",
   "metadata": {},
   "source": [
    "Plotting:"
   ]
  },
  {
   "cell_type": "code",
   "execution_count": null,
   "id": "757e87c4-3873-4bef-8ca1-4e54fa946622",
   "metadata": {},
   "outputs": [],
   "source": [
    "def new_figure(fig_name, figsize=(10, 5), nrows=1, ncols=1, sharex='col', sharey='row', gridspec_kw={'hspace': 0, 'wspace': 0}):\n",
    "    plt.close(fig_name)\n",
    "    fig = plt.figure(fig_name, figsize=figsize)\n",
    "    axes = fig.subplots(nrows=nrows, ncols=ncols, squeeze=False,\n",
    "                        sharex=sharex, sharey=sharey,\n",
    "                        gridspec_kw=gridspec_kw\n",
    "                       )\n",
    "    fig.set_tight_layout(True)\n",
    "    for ax in axes.flat:\n",
    "        ax.xaxis.set_minor_locator(AutoMinorLocator())\n",
    "        ax.yaxis.set_minor_locator(AutoMinorLocator())\n",
    "        ax.tick_params(which='both', bottom=True, top=True, left=True, right=True)\n",
    "        ax.tick_params(which='major', direction='inout', length=8, grid_alpha=.3)\n",
    "        ax.tick_params(which='minor', direction='in', length=2, grid_alpha=.1)\n",
    "        ax.grid(True, which='both')\n",
    "\n",
    "    fig.suptitle(fig_name)\n",
    "    \n",
    "    return fig, axes"
   ]
  },
  {
   "cell_type": "code",
   "execution_count": null,
   "id": "967a5ed3-8306-4c56-aeb3-5ce57d5c3f5b",
   "metadata": {},
   "outputs": [],
   "source": [
    "default_cmap = plt.get_cmap(\"gist_earth\").copy()\n",
    "default_cmap.set_bad('gray')\n",
    "\n",
    "\n",
    "def colour_map(ax, cblabel, data, cmap=default_cmap, norm=None, xlabel=None, x=None, ylabel=None, y=None, projection_axis=0):\n",
    "\n",
    "    if projection_axis is None:\n",
    "        projection = data\n",
    "    else:\n",
    "        #projection = np.nanmean(data, axis=0)\n",
    "        #projection = np.nanmean((data - np.nanmean(data, axis=0))**3, axis=0)\n",
    "        projection = np.nanmax(data, axis=0)\n",
    "\n",
    "    sigmas = np.linspace(-3, 3, 7)\n",
    "    percentiles = 50 + 50 * special.erf(sigmas / np.sqrt(2))\n",
    "    ticks = np.nanpercentile(data, percentiles)\n",
    "    if norm is None:\n",
    "        if ticks[-1] > 0:\n",
    "            linthresh = np.median(projection[projection > 0])\n",
    "            #print(linthresh)\n",
    "            norm = colors.SymLogNorm(vmin=ticks[0], vmax=ticks[-1], linthresh=linthresh)\n",
    "        else:\n",
    "            norm = colors.Normalize(vmin=ticks[0], vmax=ticks[-1])\n",
    "\n",
    "    if y is None:\n",
    "        y = np.arange(projection.shape[0])\n",
    "    if x is None:\n",
    "        x = np.arange(projection.shape[1])\n",
    "\n",
    "    im = ax.imshow(projection,\n",
    "                   extent=(x[0]-(x[1]-x[0])/2, x[-1]+(x[-1]-x[-2])/2, y[0]-(y[1]-y[0])/2, y[-1]+(y[-1]-y[-2])/2),\n",
    "                   interpolation='nearest', origin='lower',\n",
    "                   cmap=cmap,\n",
    "                   norm=norm,\n",
    "                  )\n",
    "    ax.set_aspect('auto')\n",
    "    if xlabel is not None:\n",
    "        ax.set_xlabel(xlabel)\n",
    "    if ylabel is not None:\n",
    "        ax.set_ylabel(ylabel)\n",
    "\n",
    "    cb = fig.colorbar(im, ax=ax, orientation='vertical', shrink=.9)\n",
    "    cb.ax.set_ylabel(cblabel)\n",
    "    if ticks is not None:\n",
    "        cb.ax.set_yticks(ticks=ticks, labels=[f'{value:.3g} ({percent:.1f}%)' for value, percent in zip(ticks, percentiles)])\n",
    "    cb.ax.tick_params(labelsize='small')\n",
    "    \n",
    "    return im, cb, norm\n"
   ]
  },
  {
   "cell_type": "markdown",
   "id": "4d5b814b-b558-44cf-9692-7c7cad56fa20",
   "metadata": {},
   "source": [
    "## Read data"
   ]
  },
  {
   "cell_type": "code",
   "execution_count": null,
   "id": "bd6af977-8a30-433a-9097-4e679f65e03a",
   "metadata": {},
   "outputs": [],
   "source": [
    "importlib.reload(scripts.read_data)\n",
    "object_name, data, true_spectrum = scripts.read_data.run(35, (0, 0, 1))\n",
    "data_offset = np.nanmin(data)"
   ]
  },
  {
   "cell_type": "code",
   "execution_count": null,
   "id": "3860b0f0-5bb2-4c60-bb67-029bd6159f87",
   "metadata": {},
   "outputs": [],
   "source": [
    "data_cmap = default_cmap\n",
    "data_norm = colors.LogNorm(vmin=np.percentile(data[data>0], 10), vmax=np.percentile(data[data>0], 99))"
   ]
  },
  {
   "cell_type": "markdown",
   "id": "7cc46069-5e53-4b71-ae73-e28c559c22a6",
   "metadata": {},
   "source": [
    "## Parameters"
   ]
  },
  {
   "cell_type": "code",
   "execution_count": null,
   "id": "87c106b7-320d-400a-857c-de3a5c69c4ed",
   "metadata": {},
   "outputs": [],
   "source": [
    "residual_accuracy = .01\n",
    "max_iter = 100\n",
    "kernel_truncation = 6"
   ]
  },
  {
   "cell_type": "code",
   "execution_count": null,
   "id": "5e151db0-11d9-45d7-b82d-3f5ee51d5327",
   "metadata": {},
   "outputs": [],
   "source": [
    "peak_threshold = 1.2\n",
    "accretion_threshold = .5"
   ]
  },
  {
   "cell_type": "markdown",
   "id": "a87ed79f-faf5-479c-a274-0c2484c29e57",
   "metadata": {},
   "source": [
    "# 2. Adaptive Richardson Lucy"
   ]
  },
  {
   "cell_type": "markdown",
   "id": "c3fac8a2-f2fe-41ef-9e43-c9f31b69680e",
   "metadata": {},
   "source": [
    "Find noise, source, and background scales"
   ]
  },
  {
   "cell_type": "code",
   "execution_count": null,
   "id": "8eb3a231-f012-49af-8365-9601530ca38c",
   "metadata": {},
   "outputs": [],
   "source": [
    "importlib.reload(scripts.diffuse_emission)\n",
    "noise_scale = scripts.diffuse_emission.find_scale(data)\n",
    "source_scale = scripts.diffuse_emission.find_scale(ndimage.gaussian_filter(data, noise_scale, truncate=kernel_truncation))\n",
    "diffuse_scale = scripts.diffuse_emission.find_scale(ndimage.gaussian_filter(data, source_scale, truncate=kernel_truncation))\n",
    "print(f'Scales: noise = {noise_scale:.2f}, sources = {source_scale:.2f}, diffuse emission = {diffuse_scale:.2f}')"
   ]
  },
  {
   "cell_type": "code",
   "execution_count": null,
   "id": "84174bd8-3bc9-40ae-9607-29f17255ca4b",
   "metadata": {
    "tags": []
   },
   "outputs": [],
   "source": [
    "baseline = np.nanmin(data)\n",
    "print(f'baseline={baseline:4g}')"
   ]
  },
  {
   "cell_type": "code",
   "execution_count": null,
   "id": "581ccc48-702e-45ef-9e52-85daddb90043",
   "metadata": {},
   "outputs": [],
   "source": [
    "importlib.reload(scripts.multiscale_RL)\n",
    "smoothing_radii = np.array([noise_scale, source_scale, diffuse_scale]) / np.sqrt(8*np.log(2)) # FWHM -> Gaussian sigma\n",
    "smoothing_radii = np.array([8, 10, diffuse_scale]) / np.sqrt(8*np.log(2)) # FWHM -> Gaussian sigma\n",
    "#smoothing_radii = np.array([noise_scale, source_scale])\n",
    "n_radii = smoothing_radii.size\n",
    "\n",
    "mRL = scripts.multiscale_RL.run(data - baseline, smoothing_radii)\n",
    "RL = np.sum(mRL, axis=0)\n",
    "m_model = np.empty_like(mRL)\n",
    "for i, radius in enumerate(smoothing_radii):\n",
    "    m_model[i] = ndimage.gaussian_filter(mRL[i], radius, truncate=kernel_truncation)\n",
    "model = baseline + np.sum(m_model, axis=0)"
   ]
  },
  {
   "cell_type": "markdown",
   "id": "f497c7e4-a671-4506-86d8-7ebaf14bd57b",
   "metadata": {},
   "source": [
    "# 3. Image characterisation"
   ]
  },
  {
   "cell_type": "markdown",
   "id": "c7bb5766-0d9a-4bb1-ba08-88511036c3b9",
   "metadata": {},
   "source": [
    "## Noise"
   ]
  },
  {
   "cell_type": "code",
   "execution_count": null,
   "id": "f80ed645-5ae0-499b-a628-1389eeda7f69",
   "metadata": {
    "tags": []
   },
   "outputs": [],
   "source": [
    "residual = data - model\n",
    "noise = np.sqrt(ndimage.gaussian_filter(residual**2, smoothing_radii[0], truncate=kernel_truncation)) #- ndimage.gaussian_filter(residual, diffuse_scale))\n",
    "mean = np.nanmean(noise)\n",
    "noise = np.where(np.isfinite(noise), noise, mean)\n",
    "print(f'noise: {mean:.3g} +- {np.std(noise):.3g} [{np.min(noise):.3g} - {np.max(noise):.3g}]')"
   ]
  },
  {
   "cell_type": "markdown",
   "id": "a1541e56-13eb-45ca-8341-735e20886c3b",
   "metadata": {},
   "source": [
    "## Background"
   ]
  },
  {
   "cell_type": "code",
   "execution_count": null,
   "id": "eebe595a-4764-47ce-b397-942a0047adc2",
   "metadata": {},
   "outputs": [],
   "source": [
    "pixel_type = np.argmax(m_model, axis=0)\n",
    "compact_source = mRL[0] > mRL[-1]\n",
    "diffuse_source = mRL[1] > mRL[-1]"
   ]
  },
  {
   "cell_type": "code",
   "execution_count": null,
   "id": "4088c272-2b33-478a-a35b-437c3eee1d77",
   "metadata": {},
   "outputs": [],
   "source": [
    "background = np.fmin(m_model[-1], mRL[-1])\n",
    "background = ndimage.gaussian_filter(background, smoothing_radii[-1])\n",
    "background = np.nanmedian([m_model[-1], mRL[-1], background], axis=0)\n",
    "background = ndimage.gaussian_filter(background, smoothing_radii[-1])\n",
    "background = baseline + smoothing_radii.size*background"
   ]
  },
  {
   "cell_type": "code",
   "execution_count": null,
   "id": "29f84473-c7a0-4cdd-960f-b827ce9a50a0",
   "metadata": {},
   "outputs": [],
   "source": [
    "signal = model - background\n",
    "SN = signal / noise\n",
    "median_SN = np.nanmedian(SN)"
   ]
  },
  {
   "cell_type": "markdown",
   "id": "c121fd21-1d81-49e8-a98b-456d792e2b5a",
   "metadata": {},
   "source": [
    "## Tests"
   ]
  },
  {
   "cell_type": "code",
   "execution_count": null,
   "id": "cde79cda-a1c4-4988-b8a4-3cf2c07d58ad",
   "metadata": {},
   "outputs": [],
   "source": [
    "fig_name = 'bg_test'\n",
    "plt.close(fig_name)\n",
    "fig = plt.figure(fig_name, figsize=(12, 6))\n",
    "axes = fig.subplots(nrows=2, ncols=2, squeeze=False, sharex=True, sharey=True)\n",
    "fig.suptitle(fig_name)\n",
    "fig.set_tight_layout(True)\n",
    "\n",
    "mask = diffuse_source\n",
    "mask |= compact_source\n",
    "\n",
    "ax = axes[0, 0]\n",
    "norm = colour_map(ax, 'data', data)[2]\n",
    "#ax.contour(np.max(mask.astype(int)*signal/noise, axis=0), levels=[accretion_threshold, peak_threshold], colors=['b', 'b'], linestyles=['--', '-'])\n",
    "ax.contour(np.max(mask*SN, axis=0), levels=[peak_threshold], colors=['r'], linestyles=['-'])\n",
    "ax.contour(np.max(true_spectrum/noise, axis=0), levels=[accretion_threshold, peak_threshold], colors=['k', 'k'], linestyles=['--', '-'])\n",
    "\n",
    "ax = axes[0, 1]\n",
    "colour_map(ax, 'background', background)\n",
    "\n",
    "ax = axes[1, 0]\n",
    "colour_map(ax, 'S/N', signal/noise)\n",
    "#ax.contour(np.max(mask.astype(int)*signal/noise, axis=0), levels=[accretion_threshold, peak_threshold], colors=['b', 'b'], linestyles=['--', '-'])\n",
    "ax.contour(np.max(mask*SN, axis=0), levels=[peak_threshold], colors=['w'], linestyles=['-'])\n",
    "ax.contour(np.max(true_spectrum/noise, axis=0), levels=[accretion_threshold, peak_threshold], colors=['k', 'k'], linestyles=['--', '-'])\n",
    "\n",
    "ax = axes[1, 1]\n",
    "colour_map(ax, 'noise', noise)\n",
    "#colour_map(ax, 'type', -pixel_type)\n",
    "\n",
    "plt.show()"
   ]
  },
  {
   "cell_type": "code",
   "execution_count": null,
   "id": "0d3dd523-9f32-44be-9261-0ded4cd6c28f",
   "metadata": {},
   "outputs": [],
   "source": [
    "index_y = np.random.randint(0, data.shape[1]); index_x = np.random.randint(0, data.shape[2])\n",
    "#index_y = 132; index_x = 137\n",
    "#index_y = 128; index_x = 142\n",
    "#index_y = 30; index_x = 37\n",
    "index_y = 30; index_x = 43\n",
    "#index_y = 33; index_x = 139\n",
    "#index_y = 21; index_x = 143\n",
    "\n",
    "fig, axes = new_figure('single_spaxel', figsize=(12, 12), nrows=7, sharex='col', sharey=False)\n",
    "\n",
    "for ax in axes.flat:\n",
    "    ax.xaxis.set_minor_locator(AutoMinorLocator())\n",
    "    ax.yaxis.set_minor_locator(AutoMinorLocator())\n",
    "    ax.tick_params(which='both', bottom=True, top=True, left=True, right=True)\n",
    "    ax.tick_params(which='major', direction='inout', length=8, grid_alpha=.3)\n",
    "    ax.tick_params(which='minor', direction='in', length=2, grid_alpha=.1)\n",
    "    ax.grid(True, which='both')\n",
    "\n",
    "vmin, vmax = np.nanpercentile(data, [16, 84])\n",
    "norm = colors.Normalize(vmin, vmax)\n",
    "SN_norm = colors.Normalize(vmin=-peak_threshold, vmax=peak_threshold)\n",
    "\n",
    "ax = axes[0, 0]\n",
    "#colour_map(ax, 'true', true_spectrum[:, index_y, :].T, projection_axis=None, norm=norm)\n",
    "colour_map(ax, 'true S/N', (true_spectrum/noise)[:, index_y, :].T, projection_axis=None, cmap='rainbow_r', norm=SN_norm)\n",
    "ax.axhline(index_x, c='w', ls='--')\n",
    "ax.set_ylabel('x')\n",
    "\n",
    "ax = axes[1, 0]\n",
    "ax.get_shared_y_axes().join(ax, axes[0, 0])\n",
    "SN_map = (signal/noise)[:, index_y, :].T\n",
    "colour_map(ax, 'S/N', SN_map, projection_axis=None, cmap='rainbow_r', norm=SN_norm)\n",
    "ax.axhline(index_x, c='w', ls='--')\n",
    "mask = diffuse_source[:, index_y, :].T\n",
    "mask |= compact_source[:, index_y, :].T\n",
    "mask &= SN_map > accretion_threshold\n",
    "#ax.contour(mask*SN, levels=[accretion_threshold, peak_threshold], colors=['b', 'b'], linestyles=['--', '-'])#], colors=['w'], alpha=.5)\n",
    "ax.contour(mask*SN_map, levels=[peak_threshold], colors=['w'], linestyles=['-'])\n",
    "axes[0, 0].contour(mask*SN_map, levels=[peak_threshold], colors=['w'], linestyles=['-'])\n",
    "mask &= SN_map > peak_threshold\n",
    "ax.contour((true_spectrum/noise)[:, index_y, :].T, levels=[accretion_threshold, peak_threshold], colors=['k', 'k'], linestyles=['--', '-'])\n",
    "ax.set_ylabel('x')\n",
    "\n",
    "ax = axes[2, 0]\n",
    "ax.get_shared_y_axes().join(ax, axes[0, 0])\n",
    "colour_map(ax, 'observed', data[:, index_y, :].T, projection_axis=None, norm=norm)\n",
    "ax.axhline(index_x, c='w', ls='--')\n",
    "ax.set_ylabel('x')\n",
    "\n",
    "\n",
    "ax = axes[3, 0]\n",
    "ax.plot(data[:, index_y, index_x], 'k-', alpha=.2, label='measured')\n",
    "ax.plot(true_spectrum[:, index_y, index_x], 'k-', label='true')\n",
    "ax.plot(model[:, index_y, index_x], 'b-', alpha=.5, label='model')\n",
    "ax.plot(background[:, index_y, index_x], 'r--', alpha=.5, label='background')\n",
    "ax.fill_between(np.arange(data.shape[0]),\n",
    "                (background - noise)[:, index_y, index_x],\n",
    "                (background + noise)[:, index_y, index_x],\n",
    "                color='r', alpha=.1,\n",
    "                label=f'noise: {mean:.3g}$\\\\pm${np.std(noise):.3g}') # [{np.min(noise):.3g} - {np.max(noise):.3g}]')\n",
    "#ax.plot((background + peak_threshold*noise)[:, index_y, index_x], 'k--', label=f'peak_threshold={peak_threshold:.2f}')\n",
    "#ax.plot((background + accretion_threshold*noise)[:, index_y, index_x], 'k:', label=f'accretion={accretion_threshold:.2f}', alpha=.5)\n",
    "ax.set_ylabel('intensity')\n",
    "ax.legend()\n",
    "cb = fig.colorbar(None, ax=ax, orientation='vertical', shrink=.9)\n",
    "\n",
    "\n",
    "\n",
    "ax = axes[4, 0]\n",
    "ax.get_shared_y_axes().join(ax, axes[-1, 0])\n",
    "colour_map(ax, 'observed', data[:, :, index_x].T, projection_axis=None, norm=norm)\n",
    "ax.axhline(index_y, c='w', ls='--')\n",
    "ax.set_ylabel('y')\n",
    "\n",
    "ax = axes[5, 0]\n",
    "ax.get_shared_y_axes().join(ax, axes[-1, 0])\n",
    "SN_map = (signal/noise)[:, :, index_x].T\n",
    "colour_map(ax, 'S/N', SN_map, projection_axis=None, cmap='rainbow_r', norm=SN_norm)\n",
    "ax.axhline(index_y, c='w', ls='--')\n",
    "mask = diffuse_source[:, :, index_x].T\n",
    "mask |= compact_source[:, :, index_x].T\n",
    "mask &= SN_map > accretion_threshold\n",
    "#ax.contour(mask*SN_map, levels=[accretion_threshold, peak_threshold], colors=['b', 'b'], linestyles=['--', '-'])\n",
    "ax.contour(mask*SN_map, levels=[peak_threshold], colors=['w'], linestyles=['-'])\n",
    "#mask &= SN_map > peak_threshold\n",
    "ax.contour((true_spectrum/noise)[:, :, index_x].T, levels=[accretion_threshold, peak_threshold], colors=['k', 'k'], linestyles=['--', '-'], alpha=.5)\n",
    "ax.set_ylabel('y')\n",
    "\n",
    "ax = axes[6, 0]\n",
    "#colour_map(ax, 'true', true_spectrum[:, :, index_x].T, projection_axis=None, norm=norm)\n",
    "colour_map(ax, 'true S/N', (true_spectrum/noise)[:, :, index_x].T, projection_axis=None, cmap='rainbow_r', norm=SN_norm)\n",
    "#ax.contour(mask*SN_map, levels=[0, peak_threshold], colors=['w', 'w'], linestyles=['--', '-'])\n",
    "ax.contour(mask*SN_map, levels=[peak_threshold], colors=['w'])\n",
    "ax.axhline(index_y, c='w', ls='--')\n",
    "ax.set_ylabel('y')\n",
    "\n",
    "ax.set_xlabel('channel')\n",
    "\n",
    "plt.show()"
   ]
  },
  {
   "cell_type": "code",
   "execution_count": null,
   "id": "2ef96c4c-a2f5-4992-9b5e-d1b6fbaf9feb",
   "metadata": {},
   "outputs": [],
   "source": [
    "peak_threshold"
   ]
  },
  {
   "cell_type": "markdown",
   "id": "f564c389-a7b7-4130-9591-ade60552a139",
   "metadata": {},
   "source": [
    "# --- OLD"
   ]
  },
  {
   "cell_type": "code",
   "execution_count": null,
   "id": "2215ccfc-d521-423d-b660-75bf43772a39",
   "metadata": {},
   "outputs": [],
   "source": [
    "raise -1"
   ]
  },
  {
   "cell_type": "markdown",
   "id": "04b0a0a2-5765-4620-8a6e-706ea3a6c864",
   "metadata": {},
   "source": [
    "## Background"
   ]
  },
  {
   "cell_type": "code",
   "execution_count": null,
   "id": "bd12245c-968b-4da1-9d92-9107f9dec961",
   "metadata": {},
   "outputs": [],
   "source": [
    "pixel_type = np.argmax(m_model, axis=0)\n",
    "compact_source = mRL[0] > mRL[-1]\n",
    "diffuse_source = mRL[1] > mRL[-1]"
   ]
  },
  {
   "cell_type": "code",
   "execution_count": null,
   "id": "fe0402b7-2227-44eb-b6ec-51a2faf99115",
   "metadata": {},
   "outputs": [],
   "source": [
    "background = baseline + 3*m_model[-1]\n",
    "converged = False\n",
    "while not converged:\n",
    "    old_bg = background\n",
    "    background = np.fmin(background, model)\n",
    "    xx = np.min(background)\n",
    "    background = scripts.multiscale_RL.run(background-xx, smoothing_radii)[-1]\n",
    "    background = xx + 3*ndimage.gaussian_filter(background, smoothing_radii[-1])\n",
    "    change = (background - old_bg) / noise\n",
    "    a, b = np.min(change), np.max(change)\n",
    "    print(a, b)\n",
    "    if a > -1:\n",
    "        converged = True"
   ]
  },
  {
   "cell_type": "code",
   "execution_count": null,
   "id": "92c8ffb9-25f8-445c-bbd6-4f8f48a83e43",
   "metadata": {},
   "outputs": [],
   "source": [
    "signal = model - background\n",
    "SN = signal / noise\n",
    "median_SN = np.nanmedian(SN)"
   ]
  },
  {
   "cell_type": "code",
   "execution_count": null,
   "id": "0ca0b12d-b276-4db3-acde-675328cffd44",
   "metadata": {},
   "outputs": [],
   "source": [
    "sorted_by_SN = np.argsort(SN.flat)\n",
    "sorted_signal_fraction = np.cumsum(signal.flat[sorted_by_SN])\n",
    "sorted_signal_fraction /= sorted_signal_fraction[-1]\n",
    "index0 = np.searchsorted(SN.flat[sorted_by_SN], 0)\n",
    "accretion_threshold = np.interp(0, sorted_signal_fraction[index0:], SN.flat[sorted_by_SN][index0:])"
   ]
  },
  {
   "cell_type": "code",
   "execution_count": null,
   "id": "0e23e590-3c13-4b09-ad5a-571b4f808e66",
   "metadata": {},
   "outputs": [],
   "source": [
    "peak_threshold = max(accretion_threshold, median_SN) + np.sqrt(np.mean((SN[SN < accretion_threshold] - accretion_threshold)**2))"
   ]
  },
  {
   "cell_type": "code",
   "execution_count": null,
   "id": "95b62b48-ece2-4d64-b798-9d13a41e29e2",
   "metadata": {},
   "outputs": [],
   "source": [
    "median_SN"
   ]
  },
  {
   "cell_type": "code",
   "execution_count": null,
   "id": "4c24eb54-d688-4e6a-8077-23c0b56fad01",
   "metadata": {},
   "outputs": [],
   "source": [
    "fig, axes = new_figure('signal-to-noise_thresholds', nrows=2)\n",
    "\n",
    "\n",
    "ax = axes[0, 0]\n",
    "ax.set_ylabel('probability density')\n",
    "\n",
    "ax.hist(SN.flat, bins=np.linspace(SN.flat[sorted_by_SN[0]], 2*peak_threshold - SN.flat[sorted_by_SN[0]], 3*int(1 + np.sqrt(index0))))\n",
    "\n",
    "\n",
    "ax = axes[1, 0]\n",
    "ax.set_ylabel('cumulative flux fraction')\n",
    "\n",
    "ax.plot(SN.flat[sorted_by_SN], sorted_signal_fraction, 'k-')\n",
    "ax.axvline(accretion_threshold, c='k', ls=':', label=f'accretion_threshold = {accretion_threshold:.2f} $\\\\sigma$')\n",
    "ax.axvline(peak_threshold, c='k', ls='--', label=f'peak_threshold = {peak_threshold:.2f} $\\\\sigma$')\n",
    "\n",
    "ax.legend()\n",
    "\n",
    "\n",
    "ax.set_xlabel('signal / noise')\n",
    "ax.set_xlim(SN.flat[sorted_by_SN[0]], 2*peak_threshold - SN.flat[sorted_by_SN[0]])\n",
    "plt.show()"
   ]
  }
 ],
 "metadata": {
  "kernelspec": {
   "display_name": "Python 3 (ipykernel)",
   "language": "python",
   "name": "python3"
  },
  "language_info": {
   "codemirror_mode": {
    "name": "ipython",
    "version": 3
   },
   "file_extension": ".py",
   "mimetype": "text/x-python",
   "name": "python",
   "nbconvert_exporter": "python",
   "pygments_lexer": "ipython3",
   "version": "3.8.10"
  },
  "toc-autonumbering": false,
  "toc-showcode": false,
  "toc-showmarkdowntxt": false
 },
 "nbformat": 4,
 "nbformat_minor": 5
}
